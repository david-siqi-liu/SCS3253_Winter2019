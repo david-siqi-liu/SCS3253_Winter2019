{
 "cells": [
  {
   "cell_type": "markdown",
   "metadata": {},
   "source": [
    "## Assignment for Module 5, Training Models\n",
    "\n",
    "**Cindy Lopes**\n",
    "\n",
    "In this assignment you will train different models on a given data set, and find the one that performs best"
   ]
  },
  {
   "cell_type": "markdown",
   "metadata": {},
   "source": [
    "### Getting the data for the assignment (similar to the notebook from chapter 2 of Hands-On...)"
   ]
  },
  {
   "cell_type": "code",
   "execution_count": 1,
   "metadata": {},
   "outputs": [],
   "source": [
    "import os\n",
    "import tarfile\n",
    "from six.moves import urllib\n",
    "import matplotlib.pyplot as plt\n",
    "\n",
    "import warnings\n",
    "warnings.filterwarnings('ignore')\n",
    "\n",
    "DOWNLOAD_ROOT = \"https://raw.githubusercontent.com/ageron/handson-ml/master/\"\n",
    "HOUSING_PATH = os.path.join(\"datasets\", \"housing\")\n",
    "HOUSING_URL = DOWNLOAD_ROOT + \"datasets/housing/housing.tgz\"\n",
    "\n",
    "def fetch_housing_data(housing_url=HOUSING_URL, housing_path=HOUSING_PATH):\n",
    "    if not os.path.isdir(housing_path):\n",
    "        os.makedirs(housing_path)\n",
    "    tgz_path = os.path.join(housing_path, \"housing.tgz\")\n",
    "    urllib.request.urlretrieve(housing_url, tgz_path)\n",
    "    housing_tgz = tarfile.open(tgz_path)\n",
    "    housing_tgz.extractall(path=housing_path)\n",
    "    housing_tgz.close()"
   ]
  },
  {
   "cell_type": "code",
   "execution_count": 2,
   "metadata": {},
   "outputs": [],
   "source": [
    "def plot_grid_cv_results(cv_results, title=None):\n",
    "    '''\n",
    "    Plots the train and test error for all the alphas tested during the cross validation grid search for\n",
    "    Lasso and Ridge Regression.\n",
    "    '''\n",
    "    mean_test_scores = np.sqrt([score*-1 for score in cv_results['mean_test_score']])\n",
    "    mean_train_score = np.sqrt([score*-1 for score in cv_results['mean_train_score']])\n",
    "    \n",
    "    alpha = [param['alpha'] for param in cv_results['params']]\n",
    "    \n",
    "    fig, ax = plt.subplots(ncols=2, figsize=(15,5))\n",
    "    ax[0].plot(alpha, mean_train_score)\n",
    "    ax[0].set_title('Train Error')\n",
    "    ax[0].set_xlabel('Alpha')\n",
    "    ax[0].set_ylabel('Mean Root Mean Square Error (Train)')\n",
    "    \n",
    "    ax[1].plot(alpha, mean_test_scores)\n",
    "    ax[1].set_title('Test Error')\n",
    "    ax[1].set_xlabel('Alpha')\n",
    "    ax[1].set_ylabel('Mean Root Mean Square Error (Test)')\n",
    "    \n",
    "    fig.suptitle(title)"
   ]
  },
  {
   "cell_type": "code",
   "execution_count": 3,
   "metadata": {},
   "outputs": [],
   "source": [
    "def plot_el_grid_cv_results(cv_results, l1_ratios, title=None):\n",
    "    '''\n",
    "    Similar to plot_grid_cv_results except also plots a separate line for each l1_ratio\n",
    "    '''\n",
    "    mean_test_scores = np.sqrt([score*-1 for score in cv_results['mean_test_score']])\n",
    "    mean_train_score = np.sqrt([score*-1 for score in cv_results['mean_train_score']])\n",
    "    params = cv_results['params']\n",
    "    param_df = pd.DataFrame(params)\n",
    "\n",
    "    fig, ax = plt.subplots(ncols=2, figsize=(15,5))\n",
    "    for ratio in l1_ratios:\n",
    "        indices = param_df[param_df['l1_ratio'] == ratio].index\n",
    "        alphas = param_df[param_df['l1_ratio'] == ratio]['alpha']\n",
    "        test_scores = mean_test_scores[indices]\n",
    "        train_scores = mean_train_score[indices]\n",
    "\n",
    "        ax[0].plot(alphas, train_scores)\n",
    "        ax[1].plot(alphas, test_scores)\n",
    "\n",
    "    ax[0].set_title('Train Error')\n",
    "    ax[0].set_xlabel('Alpha')\n",
    "    ax[0].set_ylabel('Mean Root Mean Square Error (Train)')\n",
    "    ax[0].legend(l1_ratios)\n",
    "\n",
    "\n",
    "    ax[1].set_title('Test Error')\n",
    "    ax[1].set_xlabel('Alpha')\n",
    "    ax[1].set_ylabel('Mean Root Mean Square Error (Test)')\n",
    "    ax[1].legend(l1_ratios)\n",
    "\n",
    "    fig.suptitle(title)"
   ]
  },
  {
   "cell_type": "code",
   "execution_count": 4,
   "metadata": {},
   "outputs": [],
   "source": [
    "fetch_housing_data()"
   ]
  },
  {
   "cell_type": "code",
   "execution_count": 5,
   "metadata": {},
   "outputs": [],
   "source": [
    "import pandas as pd\n",
    "\n",
    "def load_housing_data(housing_path=HOUSING_PATH):\n",
    "    csv_path = os.path.join(housing_path, \"housing.csv\")\n",
    "    return pd.read_csv(csv_path)"
   ]
  },
  {
   "cell_type": "code",
   "execution_count": 6,
   "metadata": {},
   "outputs": [],
   "source": [
    "housing = load_housing_data()"
   ]
  },
  {
   "cell_type": "markdown",
   "metadata": {},
   "source": [
    "### Fix the categories in the categorical variable"
   ]
  },
  {
   "cell_type": "code",
   "execution_count": 7,
   "metadata": {},
   "outputs": [],
   "source": [
    "d = {'<1H OCEAN':'LESS_1H_OCEAN', 'INLAND':'INLAND', 'ISLAND':'ISLAND', 'NEAR BAY':'NEAR_BAY', 'NEAR OCEAN':'NEAR_OCEAN'}\n",
    "housing['ocean_proximity'] = housing['ocean_proximity'].map(lambda s: d[s])"
   ]
  },
  {
   "cell_type": "markdown",
   "metadata": {},
   "source": [
    "### Add 2 more features"
   ]
  },
  {
   "cell_type": "code",
   "execution_count": 8,
   "metadata": {},
   "outputs": [],
   "source": [
    "housing[\"rooms_per_household\"] = housing[\"total_rooms\"]/housing[\"households\"]\n",
    "housing[\"population_per_household\"]=housing[\"population\"]/housing[\"households\"]"
   ]
  },
  {
   "cell_type": "markdown",
   "metadata": {},
   "source": [
    "### Fix missing data"
   ]
  },
  {
   "cell_type": "code",
   "execution_count": 9,
   "metadata": {},
   "outputs": [],
   "source": [
    "median = housing[\"total_bedrooms\"].median()\n",
    "housing[\"total_bedrooms\"].fillna(median, inplace=True) "
   ]
  },
  {
   "cell_type": "markdown",
   "metadata": {},
   "source": [
    "### Create dummy variables based on the categorical variable"
   ]
  },
  {
   "cell_type": "code",
   "execution_count": 10,
   "metadata": {},
   "outputs": [],
   "source": [
    "one_hot = pd.get_dummies(housing['ocean_proximity'])\n",
    "housing = housing.drop('ocean_proximity', axis=1)\n",
    "housing = housing.join(one_hot)"
   ]
  },
  {
   "cell_type": "markdown",
   "metadata": {},
   "source": [
    "### Check the data"
   ]
  },
  {
   "cell_type": "code",
   "execution_count": 11,
   "metadata": {},
   "outputs": [
    {
     "name": "stdout",
     "output_type": "stream",
     "text": [
      "<class 'pandas.core.frame.DataFrame'>\n",
      "RangeIndex: 20640 entries, 0 to 20639\n",
      "Data columns (total 16 columns):\n",
      "longitude                   20640 non-null float64\n",
      "latitude                    20640 non-null float64\n",
      "housing_median_age          20640 non-null float64\n",
      "total_rooms                 20640 non-null float64\n",
      "total_bedrooms              20640 non-null float64\n",
      "population                  20640 non-null float64\n",
      "households                  20640 non-null float64\n",
      "median_income               20640 non-null float64\n",
      "median_house_value          20640 non-null float64\n",
      "rooms_per_household         20640 non-null float64\n",
      "population_per_household    20640 non-null float64\n",
      "INLAND                      20640 non-null uint8\n",
      "ISLAND                      20640 non-null uint8\n",
      "LESS_1H_OCEAN               20640 non-null uint8\n",
      "NEAR_BAY                    20640 non-null uint8\n",
      "NEAR_OCEAN                  20640 non-null uint8\n",
      "dtypes: float64(11), uint8(5)\n",
      "memory usage: 1.8 MB\n"
     ]
    }
   ],
   "source": [
    "housing.info()"
   ]
  },
  {
   "cell_type": "markdown",
   "metadata": {},
   "source": [
    "# ASSIGNMENT"
   ]
  },
  {
   "cell_type": "markdown",
   "metadata": {},
   "source": [
    "### 1. Partition into train and test\n",
    "\n",
    "Use train_test_split from sklearn.model_selection to partition the dataset into 70% for training and 30% for testing.\n",
    "\n",
    "You can use the 70% for training set as both training and validation by using cross-validation.\n"
   ]
  },
  {
   "cell_type": "code",
   "execution_count": 12,
   "metadata": {},
   "outputs": [],
   "source": [
    "import numpy as np\n",
    "np.random.seed(123)\n",
    "from sklearn.model_selection import train_test_split\n",
    "train_set, test_set = train_test_split(housing, test_size=0.3)"
   ]
  },
  {
   "cell_type": "markdown",
   "metadata": {},
   "source": [
    "### Features"
   ]
  },
  {
   "cell_type": "code",
   "execution_count": 13,
   "metadata": {},
   "outputs": [],
   "source": [
    "target = 'median_house_value'\n",
    "features = list(train_set.columns)\n",
    "features = [f for f in features if f!=target]"
   ]
  },
  {
   "cell_type": "code",
   "execution_count": 14,
   "metadata": {},
   "outputs": [],
   "source": [
    "X_tr = train_set[features]\n",
    "y_tr = train_set[[target]]\n",
    "\n",
    "X_te = test_set[features]\n",
    "y_te = test_set[[target]]"
   ]
  },
  {
   "cell_type": "markdown",
   "metadata": {},
   "source": [
    "### 2. Polynomial transformations"
   ]
  },
  {
   "cell_type": "markdown",
   "metadata": {},
   "source": [
    "Use PolynomialFeatures from sklearn.preprocessing"
   ]
  },
  {
   "cell_type": "code",
   "execution_count": 15,
   "metadata": {},
   "outputs": [],
   "source": [
    "from sklearn.preprocessing import PolynomialFeatures\n",
    "poly = PolynomialFeatures(2)\n",
    "poly.fit(X_tr)\n",
    "X_tr = poly.transform(X_tr)\n",
    "X_te = poly.transform(X_te)"
   ]
  },
  {
   "cell_type": "markdown",
   "metadata": {},
   "source": [
    "##### You should obtain X_tr and X_te with 136 columns each, since originally you had 15 features.\n",
    "\n",
    "##### With m original features, the new added polynomial features of degree 2 are: $(m^2-m)/2+m+1$. Why?\n",
    "\n",
    "**Answer**\n",
    "\n",
    "PolynomialFeatures will add the constant 1 ($x^0 = 1$) which accounts for the $+1$\n",
    "\n",
    "PolynomialFeatures with degree of 2 will add a new feature that is square of each of the features which accounts for the  $+m$.\n",
    "\n",
    "Lastly it will add all the combinations of the features less than degree to, this accounts for $(m^2-m) / 2$.\n",
    "\n",
    "So $(m^2-m)/2+m+1$ = (num_combination_features) + (num_features_squared) + 1\n",
    "\n",
    "\n",
    "##### These, plus the original features gives a total of  $(m^2-m)/2+2m+1$"
   ]
  },
  {
   "cell_type": "code",
   "execution_count": 16,
   "metadata": {},
   "outputs": [
    {
     "name": "stdout",
     "output_type": "stream",
     "text": [
      "Original number of features: 15\n",
      "Final number of features: 136\n"
     ]
    }
   ],
   "source": [
    "print(\"Original number of features: \"+str(len(features)))\n",
    "print(\"Final number of features: \"+str(X_tr.shape[1]))"
   ]
  },
  {
   "cell_type": "markdown",
   "metadata": {},
   "source": [
    "### 3. Scaling features"
   ]
  },
  {
   "cell_type": "markdown",
   "metadata": {},
   "source": [
    "Similarly, use StandardScaler from sklearn.preprocessing to normalize the training and testing data, using the training data"
   ]
  },
  {
   "cell_type": "code",
   "execution_count": 17,
   "metadata": {},
   "outputs": [],
   "source": [
    "from sklearn.preprocessing import StandardScaler\n",
    "scaler = StandardScaler(2)\n",
    "scaler.fit(X_tr)\n",
    "X_tr = scaler.transform(X_tr)\n",
    "X_te = scaler.transform(X_te)"
   ]
  },
  {
   "cell_type": "markdown",
   "metadata": {},
   "source": [
    "#### Comparing models"
   ]
  },
  {
   "cell_type": "code",
   "execution_count": 18,
   "metadata": {},
   "outputs": [],
   "source": [
    "from sklearn.model_selection import cross_val_score\n",
    "from sklearn.model_selection import GridSearchCV\n",
    "import numpy as np\n",
    "\n",
    "def display_scores(scores):\n",
    "    print(\"Scores:\", scores)\n",
    "    print(\"Mean:\", scores.mean())"
   ]
  },
  {
   "cell_type": "markdown",
   "metadata": {},
   "source": [
    "### 4. Linear regression on original features (no transformations) --- benchmark\n",
    "\n",
    "#### Your goal is to find the model that minimizes the rmse score"
   ]
  },
  {
   "cell_type": "code",
   "execution_count": 19,
   "metadata": {},
   "outputs": [
    {
     "name": "stdout",
     "output_type": "stream",
     "text": [
      "Scores: [68447.82279847 69777.52395334 68778.95097477 68915.51212139]\n",
      "Mean: 68979.95246199463\n"
     ]
    }
   ],
   "source": [
    "from sklearn.linear_model import LinearRegression\n",
    "lin_scores = cross_val_score(LinearRegression(), train_set[features], train_set[target], scoring=\"neg_mean_squared_error\", cv=4)\n",
    "lin_rmse_scores = np.sqrt(-lin_scores)\n",
    "display_scores(lin_rmse_scores)"
   ]
  },
  {
   "cell_type": "markdown",
   "metadata": {},
   "source": [
    "### 5. Linear regression  (on transformed features: polynomial transformation + scaling)"
   ]
  },
  {
   "cell_type": "markdown",
   "metadata": {},
   "source": [
    "Now do as in 4 but with the original and transformed features (136 features)"
   ]
  },
  {
   "cell_type": "code",
   "execution_count": 20,
   "metadata": {},
   "outputs": [
    {
     "name": "stdout",
     "output_type": "stream",
     "text": [
      "Scores: [3.95104797e+13 6.25732389e+04 6.17242634e+04 7.36721007e+13]\n",
      "Mean: 28295645148582.94\n"
     ]
    }
   ],
   "source": [
    "from sklearn.linear_model import LinearRegression\n",
    "lin_trans_scores = cross_val_score(LinearRegression(), X_tr, y_tr, scoring=\"neg_mean_squared_error\", cv=4)\n",
    "lin_trans_rmse_scores = np.sqrt(-lin_trans_scores)\n",
    "display_scores(lin_trans_rmse_scores)"
   ]
  },
  {
   "cell_type": "markdown",
   "metadata": {},
   "source": [
    "If the error on the cross-validation is too high it is because the model is over-fitting. Regularization is needed."
   ]
  },
  {
   "cell_type": "markdown",
   "metadata": {},
   "source": [
    "### 6. Ridge regression"
   ]
  },
  {
   "cell_type": "code",
   "execution_count": 21,
   "metadata": {},
   "outputs": [],
   "source": [
    "alphas = [0.001,0.01,0.1,1,10, 450, 500, 550, 600, 650, 700, 750, 800, 999, 1000, 2000, 5000]"
   ]
  },
  {
   "cell_type": "code",
   "execution_count": 22,
   "metadata": {},
   "outputs": [
    {
     "data": {
      "text/plain": [
       "GridSearchCV(cv=3, error_score='raise-deprecating',\n",
       "       estimator=Ridge(alpha=1.0, copy_X=True, fit_intercept=True, max_iter=None,\n",
       "   normalize=False, random_state=None, solver='auto', tol=0.001),\n",
       "       fit_params=None, iid='warn', n_jobs=None,\n",
       "       param_grid=[{'alpha': [0.001, 0.01, 0.1, 1, 10, 450, 500, 550, 600, 650, 700, 750, 800, 999, 1000, 2000, 5000]}],\n",
       "       pre_dispatch='2*n_jobs', refit=True, return_train_score=True,\n",
       "       scoring='neg_mean_squared_error', verbose=0)"
      ]
     },
     "execution_count": 22,
     "metadata": {},
     "output_type": "execute_result"
    }
   ],
   "source": [
    "from sklearn.linear_model import Ridge\n",
    "param_grid = [{'alpha': alphas}]\n",
    "grid_search_rr = GridSearchCV(Ridge(), \n",
    "                              param_grid, \n",
    "                              cv=3, \n",
    "                              scoring='neg_mean_squared_error',\n",
    "                             return_train_score=True)\n",
    "grid_search_rr.fit(X_tr, y_tr)"
   ]
  },
  {
   "cell_type": "code",
   "execution_count": 23,
   "metadata": {},
   "outputs": [
    {
     "name": "stdout",
     "output_type": "stream",
     "text": [
      "{'alpha': 750}\n"
     ]
    },
    {
     "data": {
      "image/png": "[encoded data removed]",
      "text/plain": [
       "<Figure size 1080x360 with 2 Axes>"
      ]
     },
     "metadata": {
      "needs_background": "light"
     },
     "output_type": "display_data"
    }
   ],
   "source": [
    "print(grid_search_rr.best_params_)\n",
    "plot_grid_cv_results(grid_search_rr.cv_results_, \"Parameter Search for Ridge Regression\")"
   ]
  },
  {
   "cell_type": "code",
   "execution_count": 24,
   "metadata": {},
   "outputs": [
    {
     "name": "stdout",
     "output_type": "stream",
     "text": [
      "67665.70873057682\n"
     ]
    }
   ],
   "source": [
    "print(np.sqrt(-grid_search_rr.best_score_))"
   ]
  },
  {
   "cell_type": "markdown",
   "metadata": {},
   "source": [
    "### 7. Lasso regression\n",
    "\n",
    "Now do the same as in 6 but with Lasso"
   ]
  },
  {
   "cell_type": "code",
   "execution_count": 25,
   "metadata": {
    "scrolled": true
   },
   "outputs": [
    {
     "data": {
      "text/plain": [
       "GridSearchCV(cv=3, error_score='raise-deprecating',\n",
       "       estimator=Lasso(alpha=1.0, copy_X=True, fit_intercept=True, max_iter=1000,\n",
       "   normalize=False, positive=False, precompute=False, random_state=None,\n",
       "   selection='cyclic', tol=0.0001, warm_start=False),\n",
       "       fit_params=None, iid='warn', n_jobs=None,\n",
       "       param_grid=[{'alpha': [0.001, 0.01, 0.1, 1, 10, 450, 500, 550, 600, 650, 700, 750, 800, 999, 1000, 2000, 5000]}],\n",
       "       pre_dispatch='2*n_jobs', refit=True, return_train_score='warn',\n",
       "       scoring='neg_mean_squared_error', verbose=0)"
      ]
     },
     "execution_count": 25,
     "metadata": {},
     "output_type": "execute_result"
    }
   ],
   "source": [
    "from sklearn.linear_model import Lasso\n",
    "param_grid = [{'alpha': alphas}]\n",
    "grid_search_lr = GridSearchCV(Lasso(), param_grid, cv=3, scoring='neg_mean_squared_error')\n",
    "grid_search_lr.fit(X_tr, y_tr)"
   ]
  },
  {
   "cell_type": "code",
   "execution_count": 26,
   "metadata": {},
   "outputs": [
    {
     "name": "stdout",
     "output_type": "stream",
     "text": [
      "{'alpha': 500}\n"
     ]
    },
    {
     "data": {
      "text/plain": [
       "array([-3.97402907e+09, -3.97403055e+09, -3.97404703e+09, -3.97429619e+09,\n",
       "       -3.98548193e+09, -4.25738708e+09, -4.28059058e+09, -4.30070451e+09,\n",
       "       -4.31725710e+09, -4.33362902e+09, -4.35004961e+09, -4.36847581e+09,\n",
       "       -4.38577086e+09, -4.44732578e+09, -4.44758027e+09, -4.68140711e+09,\n",
       "       -5.07319511e+09])"
      ]
     },
     "execution_count": 26,
     "metadata": {},
     "output_type": "execute_result"
    }
   ],
   "source": [
    "print(grid_search_lr.best_params_)\n",
    "grid_search_lr.cv_results_['mean_train_score']"
   ]
  },
  {
   "cell_type": "code",
   "execution_count": 27,
   "metadata": {},
   "outputs": [
    {
     "name": "stdout",
     "output_type": "stream",
     "text": [
      "{'alpha': 500}\n"
     ]
    },
    {
     "data": {
      "image/png": "[encoded data removed]",
      "text/plain": [
       "<Figure size 1080x360 with 2 Axes>"
      ]
     },
     "metadata": {
      "needs_background": "light"
     },
     "output_type": "display_data"
    }
   ],
   "source": [
    "print(grid_search_lr.best_params_)\n",
    "plot_grid_cv_results(grid_search_lr.cv_results_, \"Parameter Search for Lasso Regression\")"
   ]
  },
  {
   "cell_type": "code",
   "execution_count": 28,
   "metadata": {},
   "outputs": [
    {
     "name": "stdout",
     "output_type": "stream",
     "text": [
      "66414.33392313564\n"
     ]
    }
   ],
   "source": [
    "print(np.sqrt(-grid_search_lr.best_score_))"
   ]
  },
  {
   "cell_type": "markdown",
   "metadata": {},
   "source": [
    "### 8. Elastic Net regression\n",
    "\n",
    "Do the same as in 6 and 7, but now with Elastic Net. However, the grid search should be over the parameters alpha and  l 1ratio. Use just 3 values for l1_ratio."
   ]
  },
  {
   "cell_type": "code",
   "execution_count": 29,
   "metadata": {
    "scrolled": true
   },
   "outputs": [
    {
     "data": {
      "text/plain": [
       "GridSearchCV(cv=3, error_score='raise-deprecating',\n",
       "       estimator=ElasticNet(alpha=1.0, copy_X=True, fit_intercept=True, l1_ratio=0.5,\n",
       "      max_iter=1000, normalize=False, positive=False, precompute=False,\n",
       "      random_state=None, selection='cyclic', tol=0.0001, warm_start=False),\n",
       "       fit_params=None, iid='warn', n_jobs=-1,\n",
       "       param_grid=[{'alpha': [0.001, 0.01, 0.1, 1, 10, 450, 500, 550, 600, 650, 700, 750, 800, 999, 1000, 2000, 5000], 'l1_ratio': [0, 0.5, 1]}],\n",
       "       pre_dispatch='2*n_jobs', refit=True, return_train_score='warn',\n",
       "       scoring='neg_mean_squared_error', verbose=0)"
      ]
     },
     "execution_count": 29,
     "metadata": {},
     "output_type": "execute_result"
    }
   ],
   "source": [
    "from sklearn.linear_model import ElasticNet\n",
    "# In addition to alpha let's also iterate over the l1 ratios\n",
    "l1_ratios = [0, 0.5, 1]\n",
    "param_grid = [{'alpha': alphas, 'l1_ratio': l1_ratios}]\n",
    "grid_search_enr = GridSearchCV(ElasticNet(), param_grid, cv=3, scoring='neg_mean_squared_error', n_jobs=-1)\n",
    "grid_search_enr.fit(X_tr, y_tr)"
   ]
  },
  {
   "cell_type": "code",
   "execution_count": 30,
   "metadata": {},
   "outputs": [
    {
     "name": "stdout",
     "output_type": "stream",
     "text": [
      "{'alpha': 500, 'l1_ratio': 1}\n"
     ]
    },
    {
     "data": {
      "image/png": "[encoded data removed]",
      "text/plain": [
       "<Figure size 1080x360 with 2 Axes>"
      ]
     },
     "metadata": {
      "needs_background": "light"
     },
     "output_type": "display_data"
    }
   ],
   "source": [
    "print(grid_search_enr.best_params_)\n",
    "plot_el_grid_cv_results(grid_search_enr.cv_results_, l1_ratios, 'ElasticNet Parameter Search')"
   ]
  },
  {
   "cell_type": "code",
   "execution_count": 31,
   "metadata": {},
   "outputs": [
    {
     "name": "stdout",
     "output_type": "stream",
     "text": [
      "66414.33392313564\n"
     ]
    }
   ],
   "source": [
    "print(np.sqrt(-grid_search_enr.best_score_))"
   ]
  },
  {
   "cell_type": "code",
   "execution_count": 32,
   "metadata": {},
   "outputs": [
    {
     "name": "stdout",
     "output_type": "stream",
     "text": [
      "67665.70873057682\n",
      "66414.33392313564\n",
      "66414.33392313564\n"
     ]
    }
   ],
   "source": [
    "print(np.sqrt(-grid_search_rr.best_score_))\n",
    "print(np.sqrt(-grid_search_lr.best_score_))\n",
    "print(np.sqrt(-grid_search_enr.best_score_))"
   ]
  },
  {
   "cell_type": "markdown",
   "metadata": {},
   "source": [
    "#### Observations\n",
    "\n",
    "It appears **Lasso** Regression performed based with a root square mean error of *66414.33*. The best model also had an *alpha* of 500 which was in the middle of the tested alphas.\n",
    "\n",
    "An interesting observation was **Elastic Net Regression** best parameters were *l1_ratio* of 1 and *alpha* of 500. This is the same model as the best Lasso Regresion.\n"
   ]
  },
  {
   "cell_type": "markdown",
   "metadata": {},
   "source": [
    "### Evaluating your best model on TESTING data\n",
    "\n",
    "Choose among grid_search_rr, grid_search_lr, and grid_search_enr, the model with best performance"
   ]
  },
  {
   "cell_type": "code",
   "execution_count": 33,
   "metadata": {},
   "outputs": [
    {
     "name": "stdout",
     "output_type": "stream",
     "text": [
      "65052.448434888276\n"
     ]
    }
   ],
   "source": [
    "from sklearn.metrics import mean_squared_error\n",
    "\n",
    "final_model = grid_search_lr.best_estimator_   ## grid_search SHOULD BE THE BEST GRID SEARCH ##\n",
    "\n",
    "y_te_estimation = final_model.predict(X_te)\n",
    "\n",
    "final_mse = mean_squared_error(y_te, y_te_estimation)\n",
    "final_rmse = np.sqrt(final_mse)\n",
    "print(final_rmse)"
   ]
  },
  {
   "cell_type": "code",
   "execution_count": 34,
   "metadata": {},
   "outputs": [
    {
     "data": {
      "image/png": "[encoded data removed]",
      "text/plain": [
       "<Figure size 432x288 with 1 Axes>"
      ]
     },
     "metadata": {
      "needs_background": "light"
     },
     "output_type": "display_data"
    }
   ],
   "source": [
    "import matplotlib.pyplot as plt\n",
    "\n",
    "plt.scatter(x=y_te, y=y_te_estimation)\n",
    "plt.xlabel(\"Actual value\")\n",
    "plt.ylabel('Estimated Value')\n",
    "plt.xlim([-200000,800000])\n",
    "plt.ylim([-200000,800000])\n",
    "plt.show()"
   ]
  },
  {
   "cell_type": "code",
   "execution_count": 35,
   "metadata": {
    "scrolled": false
   },
   "outputs": [
    {
     "data": {
      "text/html": [
       "<div>\n",
       "<style scoped>\n",
       "    .dataframe tbody tr th:only-of-type {\n",
       "        vertical-align: middle;\n",
       "    }\n",
       "\n",
       "    .dataframe tbody tr th {\n",
       "        vertical-align: top;\n",
       "    }\n",
       "\n",
       "    .dataframe thead th {\n",
       "        text-align: right;\n",
       "    }\n",
       "</style>\n",
       "<table border=\"1\" class=\"dataframe\">\n",
       "  <thead>\n",
       "    <tr style=\"text-align: right;\">\n",
       "      <th></th>\n",
       "      <th>Feature Name</th>\n",
       "      <th>Absolute Coef</th>\n",
       "    </tr>\n",
       "  </thead>\n",
       "  <tbody>\n",
       "    <tr>\n",
       "      <th>23</th>\n",
       "      <td>x0 x7</td>\n",
       "      <td>42938.3</td>\n",
       "    </tr>\n",
       "    <tr>\n",
       "      <th>31</th>\n",
       "      <td>x1^2</td>\n",
       "      <td>39101.3</td>\n",
       "    </tr>\n",
       "    <tr>\n",
       "      <th>1</th>\n",
       "      <td>x0</td>\n",
       "      <td>36298.1</td>\n",
       "    </tr>\n",
       "    <tr>\n",
       "      <th>48</th>\n",
       "      <td>x2 x5</td>\n",
       "      <td>27637.7</td>\n",
       "    </tr>\n",
       "    <tr>\n",
       "      <th>8</th>\n",
       "      <td>x7</td>\n",
       "      <td>23266.4</td>\n",
       "    </tr>\n",
       "    <tr>\n",
       "      <th>84</th>\n",
       "      <td>x5 x8</td>\n",
       "      <td>22535.4</td>\n",
       "    </tr>\n",
       "    <tr>\n",
       "      <th>47</th>\n",
       "      <td>x2 x4</td>\n",
       "      <td>21465.2</td>\n",
       "    </tr>\n",
       "    <tr>\n",
       "      <th>49</th>\n",
       "      <td>x2 x6</td>\n",
       "      <td>19728.2</td>\n",
       "    </tr>\n",
       "    <tr>\n",
       "      <th>73</th>\n",
       "      <td>x4 x7</td>\n",
       "      <td>13904.3</td>\n",
       "    </tr>\n",
       "    <tr>\n",
       "      <th>13</th>\n",
       "      <td>x12</td>\n",
       "      <td>13888.9</td>\n",
       "    </tr>\n",
       "  </tbody>\n",
       "</table>\n",
       "</div>"
      ],
      "text/plain": [
       "   Feature Name Absolute Coef\n",
       "23        x0 x7       42938.3\n",
       "31         x1^2       39101.3\n",
       "1            x0       36298.1\n",
       "48        x2 x5       27637.7\n",
       "8            x7       23266.4\n",
       "84        x5 x8       22535.4\n",
       "47        x2 x4       21465.2\n",
       "49        x2 x6       19728.2\n",
       "73        x4 x7       13904.3\n",
       "13          x12       13888.9"
      ]
     },
     "execution_count": 35,
     "metadata": {},
     "output_type": "execute_result"
    }
   ],
   "source": [
    "df = pd.DataFrame([final_model.coef_, poly.get_feature_names()]).T\n",
    "df.columns=['Coef', 'Feature Name']\n",
    "dropped_features = df[pd.isnull(df['Coef'])]\n",
    "df = df[~pd.isnull(df['Coef'])]\n",
    "df['Absolute Coef'] = np.abs(df['Coef'])\n",
    "df = df.drop(['Coef'], axis=1)\n",
    "non_zero_coef = df[df['Absolute Coef'] != 0]\n",
    "non_zero_coef = non_zero_coef.sort_values(by='Absolute Coef', ascending=False)\n",
    "non_zero_coef.head(10)"
   ]
  },
  {
   "cell_type": "markdown",
   "metadata": {},
   "source": [
    "Interesting many of the features with the highest absolute coefficient are the combination features."
   ]
  },
  {
   "cell_type": "markdown",
   "metadata": {},
   "source": [
    "### Linear Regression on Untransformed Data"
   ]
  },
  {
   "cell_type": "markdown",
   "metadata": {},
   "source": [
    "Let's compare against a Linear Regression trained against the un-transformed data"
   ]
  },
  {
   "cell_type": "code",
   "execution_count": 36,
   "metadata": {},
   "outputs": [
    {
     "name": "stdout",
     "output_type": "stream",
     "text": [
      "Final Root Square Mean Error for Linear Regression on Untransformed Data: \n",
      "68306.9529933634\n"
     ]
    }
   ],
   "source": [
    "final_model = LinearRegression().fit(train_set[features], train_set[target])   ## grid_search SHOULD BE THE BEST GRID SEARCH ##\n",
    "\n",
    "y_te_estimation = final_model.predict(test_set[features])\n",
    "\n",
    "final_mse = mean_squared_error(test_set[target], y_te_estimation)\n",
    "final_rmse = np.sqrt(final_mse)\n",
    "print(\"Final Root Square Mean Error for Linear Regression on Untransformed Data: \\n{}\".format(final_rmse))"
   ]
  },
  {
   "cell_type": "markdown",
   "metadata": {},
   "source": [
    "### Question: Before you computed the final_rmse on the test data, what was your expected value for this quantity? Does your best model have high variance?"
   ]
  },
  {
   "cell_type": "markdown",
   "metadata": {},
   "source": [
    "**Answer:**\n",
    "\n",
    "Before testing on the testing data the model I wasn't sure the model would perform particularly well since the best score was only 66414.33 (compare to 68306.95 of linear regression on untransformed data).\n",
    "\n",
    "However when tested on the test data the best rmse was actually 65052.45 which was even better than the best score on the training data indicating that the model did generalize well to the rest of the data set better than expected.\n",
    "\n",
    "Given the model performed better on the training data and ended up with a fairly high *alpha* the best model **did not** have high variance because it did not overfit to the training data."
   ]
  },
  {
   "cell_type": "markdown",
   "metadata": {},
   "source": [
    "#[Optional]\n",
    "Why does the matrix X appears transponsed in the normal equation in the linear regression? Equation 4.4. Start from equation 4.3\n",
    "\n"
   ]
  },
  {
   "cell_type": "markdown",
   "metadata": {},
   "source": [
    "The normal equation was calculated by taking the partial derivative of the cost function (Equation 4.3) and setting them it to 0.\n",
    "\n",
    "If X is a m x n matrix\n",
    "\n",
    "$\\theta = (X^T X)^{-1} . X^t . y$\n",
    "\n",
    "$(X^T X)^{-1}$ = n x n\n",
    "\n",
    "$X^t . y$ = (n x m) (m * 1) = n x 1\n",
    "\n",
    "(n x n) . (n x 1) = (n x 1) --> Dimension of  $\\theta $\n",
    "\n",
    "\n"
   ]
  },
  {
   "cell_type": "markdown",
   "metadata": {},
   "source": [
    "#[Optional]\n",
    "Do all Gradient Descent algorithms lead to the same model provided you let them run long enough?\n",
    "\n"
   ]
  },
  {
   "cell_type": "markdown",
   "metadata": {},
   "source": [
    "**Answer**:\n",
    "\n",
    "This depends particularly on the optimization problem.\n",
    "\n",
    "If the optimization problem has local mimimums Batch Gradient Descent and Mini Batch Gradient Descent may get stuck in them while Stochastic Gradient Descent may have a better chance of escaping. \n",
    "\n",
    "If the optimization problem is convex the learning rate for Mini Batch and Stochastic Gradient Descent will need to be slowly reduced (Annealing) or they may never converge.\n",
    "\n",
    "The models may be very similar but not identical."
   ]
  },
  {
   "cell_type": "markdown",
   "metadata": {},
   "source": [
    "#[Optional]\n",
    "Is it a good idea to stop Mini-batch Gradient Descent immediately when the validation error goes up?\n",
    "\n"
   ]
  },
  {
   "cell_type": "markdown",
   "metadata": {},
   "source": [
    "**Answer:**\n",
    "\n",
    "**No**, due to the stochastic nature of Mini-Batch Gradient Descent you don't have any guarentees that training on more data will result in an increase or decrease performance so unlike Batch Gradient Descent where you can stop early after a certain number of epochs with Mini-Batch Gradient Descent you may not reach a minimum."
   ]
  },
  {
   "cell_type": "markdown",
   "metadata": {},
   "source": [
    "#[Optional]\n",
    "Suppose you are using Ridge Regression and you notice that the training error and the validation error are almost equal and fairly high. Would you say that the model suffers from high bias or high variance? Should you increase the regularization hyperparameter α or reduce it?\n",
    "\n"
   ]
  },
  {
   "cell_type": "markdown",
   "metadata": {},
   "source": [
    "**Answer:**\n",
    "\n",
    "I would say the model suffers from high **bias** because it is underfitting both the training the test data.\n",
    "\n",
    "You should __decrease__ α alpha so the model is less regularized/more complicated and can potentially better fit both steps"
   ]
  },
  {
   "cell_type": "markdown",
   "metadata": {},
   "source": [
    "#[Optional]\n",
    "Why does the matrix X appears transponsed in the normal equation in the linear regression? Equation 4.4. Start from equation 4.3\n",
    "\n",
    "See early question\n"
   ]
  },
  {
   "cell_type": "code",
   "execution_count": null,
   "metadata": {},
   "outputs": [],
   "source": []
  },
  {
   "cell_type": "code",
   "execution_count": null,
   "metadata": {},
   "outputs": [],
   "source": []
  }
 ],
 "metadata": {
  "kernelspec": {
   "display_name": "Python 3",
   "language": "python",
   "name": "python3"
  },
  "language_info": {
   "codemirror_mode": {
    "name": "ipython",
    "version": 3
   },
   "file_extension": ".py",
   "mimetype": "text/x-python",
   "name": "python",
   "nbconvert_exporter": "python",
   "pygments_lexer": "ipython3",
   "version": "3.7.0"
  },
  "varInspector": {
   "cols": {
    "lenName": 16,
    "lenType": 16,
    "lenVar": 40
   },
   "kernels_config": {
    "python": {
     "delete_cmd_postfix": "",
     "delete_cmd_prefix": "del ",
     "library": "var_list.py",
     "varRefreshCmd": "print(var_dic_list())"
    },
    "r": {
     "delete_cmd_postfix": ") ",
     "delete_cmd_prefix": "rm(",
     "library": "var_list.r",
     "varRefreshCmd": "cat(var_dic_list()) "
    }
   },
   "types_to_exclude": [
    "module",
    "function",
    "builtin_function_or_method",
    "instance",
    "_Feature"
   ],
   "window_display": false
  }
 },
 "nbformat": 4,
 "nbformat_minor": 2
}
