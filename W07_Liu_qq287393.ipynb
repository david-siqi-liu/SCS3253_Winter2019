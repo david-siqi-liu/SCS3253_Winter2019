{
 "cells": [
  {
   "cell_type": "markdown",
   "metadata": {},
   "source": [
    "### Your name:\n",
    "\n",
    "<pre> Siqi Liu </pre>\n",
    "\n",
    "### Collaborators:\n",
    "\n",
    "<pre> Enter the name of the people you worked with if any</pre>\n"
   ]
  },
  {
   "cell_type": "code",
   "execution_count": 1,
   "metadata": {},
   "outputs": [],
   "source": [
    "import numpy as np\n",
    "import pandas as pd\n",
    "\n",
    "# to make this notebook's output stable across runs\n",
    "np.random.seed(123)\n",
    "\n",
    "# To plot pretty figures\n",
    "%matplotlib inline\n",
    "import matplotlib\n",
    "import matplotlib.pyplot as plt\n",
    "plt.rcParams['axes.labelsize'] = 14\n",
    "plt.rcParams['xtick.labelsize'] = 12\n",
    "plt.rcParams['ytick.labelsize'] = 12\n",
    "\n",
    "# Seaborn\n",
    "import seaborn as sns"
   ]
  },
  {
   "cell_type": "markdown",
   "metadata": {},
   "source": [
    "### Classification - Based on Week 3"
   ]
  },
  {
   "cell_type": "markdown",
   "metadata": {},
   "source": [
    "Q1. Build a classification model for the default of credit card clients dataset. More info here:\n",
    "https://archive.ics.uci.edu/ml/datasets/default+of+credit+card+clients\n",
    "\n",
    "In week 3, you:\n",
    "- Explored the dataset\n",
    "- Built a full data pipeline\n",
    "- Pre-processed data, explored features\n",
    "\n",
    "Building on your work of week 3:\n",
    "- Split dataset into 3 sets:\n",
    "  - 70% -> Training and cross validation\n",
    "  - 15% -> Model Stacking\n",
    "  - 15% -> Testing\n",
    "  \n",
    "\n",
    "- Tune a decision tree classfier:\n",
    "  - select a score (http://scikit-learn.org/stable/modules/model_evaluation.html). Explain your choice \n",
    "  - tune one parameter a time. Generate a plot for the score vs parameter values. Analyze your results.\n",
    "    - criterion, max_depth, min_samples_split, min_samples_leaf, max_leaf_nodes=None    \n",
    "  - tune all parameters at the same time using a randomgrid(http://scikit-learn.org/stable/modules/generated/sklearn.model_selection.RandomizedSearchCV.html#sklearn.model_selection.RandomizedSearchCV). First, run with a coarse grid, then refine in the next iteration. Use the information from the previous step to select parameter values.\n",
    "  "
   ]
  },
  {
   "cell_type": "code",
   "execution_count": 2,
   "metadata": {},
   "outputs": [],
   "source": [
    "### Your code here\n",
    "\n",
    "## Feel free to use multiple cells\n",
    "\n",
    "df = pd.read_excel(\"data/default_of_credit_card_clients.xls\", \n",
    "                   skiprows= 1, header = 0)"
   ]
  },
  {
   "cell_type": "code",
   "execution_count": 3,
   "metadata": {},
   "outputs": [
    {
     "data": {
      "text/html": [
       "<div>\n",
       "<style scoped>\n",
       "    .dataframe tbody tr th:only-of-type {\n",
       "        vertical-align: middle;\n",
       "    }\n",
       "\n",
       "    .dataframe tbody tr th {\n",
       "        vertical-align: top;\n",
       "    }\n",
       "\n",
       "    .dataframe thead th {\n",
       "        text-align: right;\n",
       "    }\n",
       "</style>\n",
       "<table border=\"1\" class=\"dataframe\">\n",
       "  <thead>\n",
       "    <tr style=\"text-align: right;\">\n",
       "      <th></th>\n",
       "      <th>ID</th>\n",
       "      <th>LIMIT_BAL</th>\n",
       "      <th>SEX</th>\n",
       "      <th>EDUCATION</th>\n",
       "      <th>MARRIAGE</th>\n",
       "      <th>AGE</th>\n",
       "      <th>PAY_0</th>\n",
       "      <th>PAY_2</th>\n",
       "      <th>PAY_3</th>\n",
       "      <th>PAY_4</th>\n",
       "      <th>...</th>\n",
       "      <th>BILL_AMT4</th>\n",
       "      <th>BILL_AMT5</th>\n",
       "      <th>BILL_AMT6</th>\n",
       "      <th>PAY_AMT1</th>\n",
       "      <th>PAY_AMT2</th>\n",
       "      <th>PAY_AMT3</th>\n",
       "      <th>PAY_AMT4</th>\n",
       "      <th>PAY_AMT5</th>\n",
       "      <th>PAY_AMT6</th>\n",
       "      <th>default payment next month</th>\n",
       "    </tr>\n",
       "  </thead>\n",
       "  <tbody>\n",
       "    <tr>\n",
       "      <th>0</th>\n",
       "      <td>1</td>\n",
       "      <td>20000</td>\n",
       "      <td>2</td>\n",
       "      <td>2</td>\n",
       "      <td>1</td>\n",
       "      <td>24</td>\n",
       "      <td>2</td>\n",
       "      <td>2</td>\n",
       "      <td>-1</td>\n",
       "      <td>-1</td>\n",
       "      <td>...</td>\n",
       "      <td>0</td>\n",
       "      <td>0</td>\n",
       "      <td>0</td>\n",
       "      <td>0</td>\n",
       "      <td>689</td>\n",
       "      <td>0</td>\n",
       "      <td>0</td>\n",
       "      <td>0</td>\n",
       "      <td>0</td>\n",
       "      <td>1</td>\n",
       "    </tr>\n",
       "    <tr>\n",
       "      <th>1</th>\n",
       "      <td>2</td>\n",
       "      <td>120000</td>\n",
       "      <td>2</td>\n",
       "      <td>2</td>\n",
       "      <td>2</td>\n",
       "      <td>26</td>\n",
       "      <td>-1</td>\n",
       "      <td>2</td>\n",
       "      <td>0</td>\n",
       "      <td>0</td>\n",
       "      <td>...</td>\n",
       "      <td>3272</td>\n",
       "      <td>3455</td>\n",
       "      <td>3261</td>\n",
       "      <td>0</td>\n",
       "      <td>1000</td>\n",
       "      <td>1000</td>\n",
       "      <td>1000</td>\n",
       "      <td>0</td>\n",
       "      <td>2000</td>\n",
       "      <td>1</td>\n",
       "    </tr>\n",
       "    <tr>\n",
       "      <th>2</th>\n",
       "      <td>3</td>\n",
       "      <td>90000</td>\n",
       "      <td>2</td>\n",
       "      <td>2</td>\n",
       "      <td>2</td>\n",
       "      <td>34</td>\n",
       "      <td>0</td>\n",
       "      <td>0</td>\n",
       "      <td>0</td>\n",
       "      <td>0</td>\n",
       "      <td>...</td>\n",
       "      <td>14331</td>\n",
       "      <td>14948</td>\n",
       "      <td>15549</td>\n",
       "      <td>1518</td>\n",
       "      <td>1500</td>\n",
       "      <td>1000</td>\n",
       "      <td>1000</td>\n",
       "      <td>1000</td>\n",
       "      <td>5000</td>\n",
       "      <td>0</td>\n",
       "    </tr>\n",
       "    <tr>\n",
       "      <th>3</th>\n",
       "      <td>4</td>\n",
       "      <td>50000</td>\n",
       "      <td>2</td>\n",
       "      <td>2</td>\n",
       "      <td>1</td>\n",
       "      <td>37</td>\n",
       "      <td>0</td>\n",
       "      <td>0</td>\n",
       "      <td>0</td>\n",
       "      <td>0</td>\n",
       "      <td>...</td>\n",
       "      <td>28314</td>\n",
       "      <td>28959</td>\n",
       "      <td>29547</td>\n",
       "      <td>2000</td>\n",
       "      <td>2019</td>\n",
       "      <td>1200</td>\n",
       "      <td>1100</td>\n",
       "      <td>1069</td>\n",
       "      <td>1000</td>\n",
       "      <td>0</td>\n",
       "    </tr>\n",
       "    <tr>\n",
       "      <th>4</th>\n",
       "      <td>5</td>\n",
       "      <td>50000</td>\n",
       "      <td>1</td>\n",
       "      <td>2</td>\n",
       "      <td>1</td>\n",
       "      <td>57</td>\n",
       "      <td>-1</td>\n",
       "      <td>0</td>\n",
       "      <td>-1</td>\n",
       "      <td>0</td>\n",
       "      <td>...</td>\n",
       "      <td>20940</td>\n",
       "      <td>19146</td>\n",
       "      <td>19131</td>\n",
       "      <td>2000</td>\n",
       "      <td>36681</td>\n",
       "      <td>10000</td>\n",
       "      <td>9000</td>\n",
       "      <td>689</td>\n",
       "      <td>679</td>\n",
       "      <td>0</td>\n",
       "    </tr>\n",
       "  </tbody>\n",
       "</table>\n",
       "<p>5 rows × 25 columns</p>\n",
       "</div>"
      ],
      "text/plain": [
       "   ID  LIMIT_BAL  SEX  EDUCATION  MARRIAGE  AGE  PAY_0  PAY_2  PAY_3  PAY_4  \\\n",
       "0   1      20000    2          2         1   24      2      2     -1     -1   \n",
       "1   2     120000    2          2         2   26     -1      2      0      0   \n",
       "2   3      90000    2          2         2   34      0      0      0      0   \n",
       "3   4      50000    2          2         1   37      0      0      0      0   \n",
       "4   5      50000    1          2         1   57     -1      0     -1      0   \n",
       "\n",
       "   ...  BILL_AMT4  BILL_AMT5  BILL_AMT6  PAY_AMT1  PAY_AMT2  PAY_AMT3  \\\n",
       "0  ...          0          0          0         0       689         0   \n",
       "1  ...       3272       3455       3261         0      1000      1000   \n",
       "2  ...      14331      14948      15549      1518      1500      1000   \n",
       "3  ...      28314      28959      29547      2000      2019      1200   \n",
       "4  ...      20940      19146      19131      2000     36681     10000   \n",
       "\n",
       "   PAY_AMT4  PAY_AMT5  PAY_AMT6  default payment next month  \n",
       "0         0         0         0                           1  \n",
       "1      1000         0      2000                           1  \n",
       "2      1000      1000      5000                           0  \n",
       "3      1100      1069      1000                           0  \n",
       "4      9000       689       679                           0  \n",
       "\n",
       "[5 rows x 25 columns]"
      ]
     },
     "execution_count": 3,
     "metadata": {},
     "output_type": "execute_result"
    }
   ],
   "source": [
    "df.head()"
   ]
  },
  {
   "cell_type": "code",
   "execution_count": 4,
   "metadata": {},
   "outputs": [],
   "source": [
    "# Rename target column to DEFAULT\n",
    "df = df.rename(columns = {\"default payment next month\" : \"DEFAULT\"})"
   ]
  },
  {
   "cell_type": "code",
   "execution_count": 5,
   "metadata": {},
   "outputs": [],
   "source": [
    "# Rename PAY_0 to PAY_1\n",
    "df = df.rename(columns = {\"PAY_0\" : \"PAY_1\"})"
   ]
  },
  {
   "cell_type": "code",
   "execution_count": 6,
   "metadata": {},
   "outputs": [],
   "source": [
    "# Remove ID column\n",
    "df = df.drop(columns = [\"ID\"])"
   ]
  },
  {
   "cell_type": "code",
   "execution_count": 7,
   "metadata": {},
   "outputs": [],
   "source": [
    "# Rename SEX categories to M and F\n",
    "df.loc[df['SEX'] == 1, 'SEX'] = 'M'\n",
    "df.loc[df['SEX'] == 2, 'SEX'] = 'F'"
   ]
  },
  {
   "cell_type": "code",
   "execution_count": 8,
   "metadata": {},
   "outputs": [],
   "source": [
    "# Rename EDUCATION categories, and group extra categories into Others\n",
    "df.loc[df['EDUCATION'] == 1, 'EDUCATION'] = 'GradSchool'\n",
    "df.loc[df['EDUCATION'] == 2, 'EDUCATION'] = 'University'\n",
    "df.loc[df['EDUCATION'] == 3, 'EDUCATION'] = 'HighSchool'\n",
    "df.loc[df['EDUCATION'] == 4, 'EDUCATION'] = 'Others'\n",
    "df.loc[(df['EDUCATION'] == 0) | (df['EDUCATION'] == 5) | (df['EDUCATION'] == 6), 'EDUCATION'] = 'Others'"
   ]
  },
  {
   "cell_type": "code",
   "execution_count": 9,
   "metadata": {},
   "outputs": [],
   "source": [
    "#Rename MARRIAGE categories, and group extra categories into Others\n",
    "df.loc[df['MARRIAGE'] == 1, 'MARRIAGE'] = 'Married'\n",
    "df.loc[df['MARRIAGE'] == 2, 'MARRIAGE'] = 'Single'\n",
    "df.loc[df['MARRIAGE'] == 3, 'MARRIAGE'] = 'Others'\n",
    "df.loc[df['MARRIAGE'] == 0, 'MARRIAGE'] = 'Others'"
   ]
  },
  {
   "cell_type": "markdown",
   "metadata": {},
   "source": [
    "# Train/Test Split"
   ]
  },
  {
   "cell_type": "code",
   "execution_count": 10,
   "metadata": {},
   "outputs": [],
   "source": [
    "from sklearn.model_selection import train_test_split\n",
    "\n",
    "tr, te = train_test_split(df, test_size=0.2, random_state=42)\n",
    "\n",
    "tr = tr.copy()\n",
    "te = te.copy()"
   ]
  },
  {
   "cell_type": "code",
   "execution_count": 11,
   "metadata": {},
   "outputs": [],
   "source": [
    "tr_y = tr['DEFAULT'].copy()\n",
    "tr_X = tr.drop('DEFAULT', axis = 1)"
   ]
  },
  {
   "cell_type": "code",
   "execution_count": 12,
   "metadata": {},
   "outputs": [
    {
     "data": {
      "text/plain": [
       "21753    0\n",
       "251      0\n",
       "22941    0\n",
       "618      0\n",
       "17090    0\n",
       "Name: DEFAULT, dtype: int64"
      ]
     },
     "execution_count": 12,
     "metadata": {},
     "output_type": "execute_result"
    }
   ],
   "source": [
    "tr_y.head()"
   ]
  },
  {
   "cell_type": "code",
   "execution_count": 13,
   "metadata": {},
   "outputs": [
    {
     "data": {
      "text/html": [
       "<div>\n",
       "<style scoped>\n",
       "    .dataframe tbody tr th:only-of-type {\n",
       "        vertical-align: middle;\n",
       "    }\n",
       "\n",
       "    .dataframe tbody tr th {\n",
       "        vertical-align: top;\n",
       "    }\n",
       "\n",
       "    .dataframe thead th {\n",
       "        text-align: right;\n",
       "    }\n",
       "</style>\n",
       "<table border=\"1\" class=\"dataframe\">\n",
       "  <thead>\n",
       "    <tr style=\"text-align: right;\">\n",
       "      <th></th>\n",
       "      <th>LIMIT_BAL</th>\n",
       "      <th>SEX</th>\n",
       "      <th>EDUCATION</th>\n",
       "      <th>MARRIAGE</th>\n",
       "      <th>AGE</th>\n",
       "      <th>PAY_1</th>\n",
       "      <th>PAY_2</th>\n",
       "      <th>PAY_3</th>\n",
       "      <th>PAY_4</th>\n",
       "      <th>PAY_5</th>\n",
       "      <th>...</th>\n",
       "      <th>BILL_AMT3</th>\n",
       "      <th>BILL_AMT4</th>\n",
       "      <th>BILL_AMT5</th>\n",
       "      <th>BILL_AMT6</th>\n",
       "      <th>PAY_AMT1</th>\n",
       "      <th>PAY_AMT2</th>\n",
       "      <th>PAY_AMT3</th>\n",
       "      <th>PAY_AMT4</th>\n",
       "      <th>PAY_AMT5</th>\n",
       "      <th>PAY_AMT6</th>\n",
       "    </tr>\n",
       "  </thead>\n",
       "  <tbody>\n",
       "    <tr>\n",
       "      <th>21753</th>\n",
       "      <td>80000</td>\n",
       "      <td>F</td>\n",
       "      <td>University</td>\n",
       "      <td>Single</td>\n",
       "      <td>24</td>\n",
       "      <td>0</td>\n",
       "      <td>0</td>\n",
       "      <td>0</td>\n",
       "      <td>0</td>\n",
       "      <td>0</td>\n",
       "      <td>...</td>\n",
       "      <td>78321</td>\n",
       "      <td>73731</td>\n",
       "      <td>39643</td>\n",
       "      <td>39457</td>\n",
       "      <td>3503</td>\n",
       "      <td>5001</td>\n",
       "      <td>2092</td>\n",
       "      <td>1218</td>\n",
       "      <td>1445</td>\n",
       "      <td>878</td>\n",
       "    </tr>\n",
       "    <tr>\n",
       "      <th>251</th>\n",
       "      <td>30000</td>\n",
       "      <td>M</td>\n",
       "      <td>University</td>\n",
       "      <td>Single</td>\n",
       "      <td>28</td>\n",
       "      <td>0</td>\n",
       "      <td>0</td>\n",
       "      <td>0</td>\n",
       "      <td>0</td>\n",
       "      <td>0</td>\n",
       "      <td>...</td>\n",
       "      <td>29155</td>\n",
       "      <td>25255</td>\n",
       "      <td>22001</td>\n",
       "      <td>0</td>\n",
       "      <td>5006</td>\n",
       "      <td>1244</td>\n",
       "      <td>851</td>\n",
       "      <td>955</td>\n",
       "      <td>0</td>\n",
       "      <td>0</td>\n",
       "    </tr>\n",
       "    <tr>\n",
       "      <th>22941</th>\n",
       "      <td>180000</td>\n",
       "      <td>F</td>\n",
       "      <td>Others</td>\n",
       "      <td>Married</td>\n",
       "      <td>44</td>\n",
       "      <td>0</td>\n",
       "      <td>0</td>\n",
       "      <td>-1</td>\n",
       "      <td>-1</td>\n",
       "      <td>-1</td>\n",
       "      <td>...</td>\n",
       "      <td>850</td>\n",
       "      <td>0</td>\n",
       "      <td>6881</td>\n",
       "      <td>10340</td>\n",
       "      <td>0</td>\n",
       "      <td>850</td>\n",
       "      <td>0</td>\n",
       "      <td>6881</td>\n",
       "      <td>10340</td>\n",
       "      <td>182</td>\n",
       "    </tr>\n",
       "    <tr>\n",
       "      <th>618</th>\n",
       "      <td>60000</td>\n",
       "      <td>M</td>\n",
       "      <td>GradSchool</td>\n",
       "      <td>Single</td>\n",
       "      <td>25</td>\n",
       "      <td>0</td>\n",
       "      <td>0</td>\n",
       "      <td>0</td>\n",
       "      <td>0</td>\n",
       "      <td>0</td>\n",
       "      <td>...</td>\n",
       "      <td>38533</td>\n",
       "      <td>39639</td>\n",
       "      <td>39619</td>\n",
       "      <td>39140</td>\n",
       "      <td>2018</td>\n",
       "      <td>1900</td>\n",
       "      <td>2000</td>\n",
       "      <td>1500</td>\n",
       "      <td>1900</td>\n",
       "      <td>2000</td>\n",
       "    </tr>\n",
       "    <tr>\n",
       "      <th>17090</th>\n",
       "      <td>130000</td>\n",
       "      <td>F</td>\n",
       "      <td>University</td>\n",
       "      <td>Single</td>\n",
       "      <td>25</td>\n",
       "      <td>0</td>\n",
       "      <td>0</td>\n",
       "      <td>0</td>\n",
       "      <td>0</td>\n",
       "      <td>0</td>\n",
       "      <td>...</td>\n",
       "      <td>114734</td>\n",
       "      <td>117823</td>\n",
       "      <td>120854</td>\n",
       "      <td>123904</td>\n",
       "      <td>4100</td>\n",
       "      <td>4200</td>\n",
       "      <td>5000</td>\n",
       "      <td>5000</td>\n",
       "      <td>5000</td>\n",
       "      <td>10700</td>\n",
       "    </tr>\n",
       "  </tbody>\n",
       "</table>\n",
       "<p>5 rows × 23 columns</p>\n",
       "</div>"
      ],
      "text/plain": [
       "       LIMIT_BAL SEX   EDUCATION MARRIAGE  AGE  PAY_1  PAY_2  PAY_3  PAY_4  \\\n",
       "21753      80000   F  University   Single   24      0      0      0      0   \n",
       "251        30000   M  University   Single   28      0      0      0      0   \n",
       "22941     180000   F      Others  Married   44      0      0     -1     -1   \n",
       "618        60000   M  GradSchool   Single   25      0      0      0      0   \n",
       "17090     130000   F  University   Single   25      0      0      0      0   \n",
       "\n",
       "       PAY_5  ...  BILL_AMT3  BILL_AMT4  BILL_AMT5  BILL_AMT6  PAY_AMT1  \\\n",
       "21753      0  ...      78321      73731      39643      39457      3503   \n",
       "251        0  ...      29155      25255      22001          0      5006   \n",
       "22941     -1  ...        850          0       6881      10340         0   \n",
       "618        0  ...      38533      39639      39619      39140      2018   \n",
       "17090      0  ...     114734     117823     120854     123904      4100   \n",
       "\n",
       "       PAY_AMT2  PAY_AMT3  PAY_AMT4  PAY_AMT5  PAY_AMT6  \n",
       "21753      5001      2092      1218      1445       878  \n",
       "251        1244       851       955         0         0  \n",
       "22941       850         0      6881     10340       182  \n",
       "618        1900      2000      1500      1900      2000  \n",
       "17090      4200      5000      5000      5000     10700  \n",
       "\n",
       "[5 rows x 23 columns]"
      ]
     },
     "execution_count": 13,
     "metadata": {},
     "output_type": "execute_result"
    }
   ],
   "source": [
    "tr_X.head()"
   ]
  },
  {
   "cell_type": "code",
   "execution_count": 14,
   "metadata": {},
   "outputs": [],
   "source": [
    "te_y = te['DEFAULT'].copy()\n",
    "te_X = te.drop('DEFAULT', axis = 1)"
   ]
  },
  {
   "cell_type": "code",
   "execution_count": 15,
   "metadata": {},
   "outputs": [
    {
     "data": {
      "text/plain": [
       "0.22179166666666666"
      ]
     },
     "execution_count": 15,
     "metadata": {},
     "output_type": "execute_result"
    }
   ],
   "source": [
    "tr_y.sum() / tr_X.shape[0]"
   ]
  },
  {
   "cell_type": "code",
   "execution_count": 16,
   "metadata": {},
   "outputs": [
    {
     "data": {
      "text/plain": [
       "0.21883333333333332"
      ]
     },
     "execution_count": 16,
     "metadata": {},
     "output_type": "execute_result"
    }
   ],
   "source": [
    "te_y.sum() / te_X.shape[0]"
   ]
  },
  {
   "cell_type": "markdown",
   "metadata": {},
   "source": [
    "# Data Cleaning Pipeline"
   ]
  },
  {
   "cell_type": "code",
   "execution_count": 17,
   "metadata": {},
   "outputs": [],
   "source": [
    "# From https://ramhiser.com/post/2018-04-16-building-scikit-learn-pipeline-with-pandas-dataframe/\n",
    "\n",
    "from sklearn.base import BaseEstimator, TransformerMixin\n",
    "\n",
    "class ColumnSelector(BaseEstimator, TransformerMixin):\n",
    "    def __init__(self, columns):\n",
    "        self.columns = columns\n",
    "    def fit(self, X, y=None):\n",
    "        return self\n",
    "    def transform(self, X):\n",
    "        assert isinstance(X, pd.DataFrame)\n",
    "\n",
    "        try:\n",
    "            return X[self.columns]\n",
    "        except KeyError:\n",
    "            cols_error = list(set(self.columns) - set(X.columns))\n",
    "            raise KeyError(\"The DataFrame does not include the columns: %s\" % cols_error)\n",
    "\n",
    "class ColumnExcluder(BaseEstimator, TransformerMixin):\n",
    "    def __init__(self, columns):\n",
    "        self.columns = columns\n",
    "    def fit(self, X, y=None):\n",
    "        return self\n",
    "    def transform(self, X):\n",
    "        assert isinstance(X, pd.DataFrame)\n",
    "\n",
    "        try:\n",
    "            return X[set(X.columns) - set(self.columns)]\n",
    "        except KeyError:\n",
    "            cols_error = list(set(self.columns) - set(X.columns))\n",
    "            raise KeyError(\"The DataFrame does not include the columns: %s\" % cols_error)\n",
    "\n",
    "class TypeSelector(BaseEstimator, TransformerMixin):\n",
    "    def __init__(self, dtype):\n",
    "        self.dtype = dtype\n",
    "    def fit(self, X, y=None):\n",
    "        return self\n",
    "    def transform(self, X):\n",
    "        assert isinstance(X, pd.DataFrame)\n",
    "        return X.select_dtypes(include=[self.dtype])"
   ]
  },
  {
   "cell_type": "code",
   "execution_count": 18,
   "metadata": {},
   "outputs": [],
   "source": [
    "from sklearn.pipeline import Pipeline\n",
    "from sklearn.pipeline import make_pipeline\n",
    "from sklearn.pipeline import FeatureUnion\n",
    "from sklearn.preprocessing import OneHotEncoder\n",
    "from sklearn.preprocessing import MinMaxScaler\n",
    "from sklearn.preprocessing import StandardScaler"
   ]
  },
  {
   "cell_type": "code",
   "execution_count": 19,
   "metadata": {},
   "outputs": [
    {
     "name": "stdout",
     "output_type": "stream",
     "text": [
      "<class 'pandas.core.frame.DataFrame'>\n",
      "Int64Index: 24000 entries, 21753 to 23654\n",
      "Data columns (total 23 columns):\n",
      "LIMIT_BAL    24000 non-null int64\n",
      "SEX          24000 non-null object\n",
      "EDUCATION    24000 non-null object\n",
      "MARRIAGE     24000 non-null object\n",
      "AGE          24000 non-null int64\n",
      "PAY_1        24000 non-null int64\n",
      "PAY_2        24000 non-null int64\n",
      "PAY_3        24000 non-null int64\n",
      "PAY_4        24000 non-null int64\n",
      "PAY_5        24000 non-null int64\n",
      "PAY_6        24000 non-null int64\n",
      "BILL_AMT1    24000 non-null int64\n",
      "BILL_AMT2    24000 non-null int64\n",
      "BILL_AMT3    24000 non-null int64\n",
      "BILL_AMT4    24000 non-null int64\n",
      "BILL_AMT5    24000 non-null int64\n",
      "BILL_AMT6    24000 non-null int64\n",
      "PAY_AMT1     24000 non-null int64\n",
      "PAY_AMT2     24000 non-null int64\n",
      "PAY_AMT3     24000 non-null int64\n",
      "PAY_AMT4     24000 non-null int64\n",
      "PAY_AMT5     24000 non-null int64\n",
      "PAY_AMT6     24000 non-null int64\n",
      "dtypes: int64(20), object(3)\n",
      "memory usage: 4.4+ MB\n"
     ]
    }
   ],
   "source": [
    "tr_X.info()"
   ]
  },
  {
   "cell_type": "code",
   "execution_count": 20,
   "metadata": {},
   "outputs": [],
   "source": [
    "# For Trees, no need to transform numerical columns\n",
    "preprocess_pipeline_tree = make_pipeline(\n",
    "    FeatureUnion(transformer_list=[\n",
    "        (\"numeric_features\", make_pipeline(\n",
    "            # Select all non-categorical features\n",
    "            ColumnSelector(columns =\n",
    "                           ['AGE'] +\n",
    "                           ['PAY_' + str(i) for i in range(1, 7)] +\n",
    "                           ['LIMIT_BAL'] +\n",
    "                           ['BILL_AMT' + str(i) for i in range(1, 7)] +\n",
    "                           ['PAY_AMT' + str(i) for i in range(1, 7)])\n",
    "        )),\n",
    "        (\"categorical_features\", make_pipeline(\n",
    "            # Select all categorical features\n",
    "            ColumnSelector(columns = ['SEX', 'EDUCATION', 'MARRIAGE']),\n",
    "            # One-Hot Encode\n",
    "            OneHotEncoder()\n",
    "        ))\n",
    "    ])\n",
    ")"
   ]
  },
  {
   "cell_type": "code",
   "execution_count": 21,
   "metadata": {},
   "outputs": [],
   "source": [
    "# For Regression, need to transform numerical columns\n",
    "preprocess_pipeline_reg = make_pipeline(\n",
    "    FeatureUnion(transformer_list=[\n",
    "        (\"numeric_features_untouch\", make_pipeline(\n",
    "            ColumnSelector(columns = \n",
    "                           ['AGE'] +\n",
    "                           ['PAY_' + str(i) for i in range(1, 7)])\n",
    "        )),\n",
    "        (\"numeric_features_transform\", make_pipeline(\n",
    "            ColumnSelector(columns =\n",
    "                           ['LIMIT_BAL'] +\n",
    "                           ['BILL_AMT' + str(i) for i in range(1, 7)] +\n",
    "                           ['PAY_AMT' + str(i) for i in range(1, 7)] ),\n",
    "            # Standardize\n",
    "            MinMaxScaler()\n",
    "        )),\n",
    "        (\"categorical_features\", make_pipeline(\n",
    "            # Select all categorical features\n",
    "            ColumnSelector(columns = ['SEX', 'EDUCATION', 'MARRIAGE']),\n",
    "            # One-Hot Encode\n",
    "            OneHotEncoder()\n",
    "        ))\n",
    "    ])\n",
    ")"
   ]
  },
  {
   "cell_type": "markdown",
   "metadata": {},
   "source": [
    "# Transform Train/Test Data"
   ]
  },
  {
   "cell_type": "code",
   "execution_count": 22,
   "metadata": {},
   "outputs": [],
   "source": [
    "# Tree\n",
    "preprocess_pipeline_tree.fit(tr_X)\n",
    "\n",
    "tr_X_transformed_tree = preprocess_pipeline_tree.transform(tr_X)\n",
    "te_X_transformed_tree = preprocess_pipeline_tree.transform(te_X)"
   ]
  },
  {
   "cell_type": "code",
   "execution_count": 23,
   "metadata": {},
   "outputs": [
    {
     "data": {
      "text/plain": [
       "(24000, 29)"
      ]
     },
     "execution_count": 23,
     "metadata": {},
     "output_type": "execute_result"
    }
   ],
   "source": [
    "tr_X_transformed_tree.shape"
   ]
  },
  {
   "cell_type": "code",
   "execution_count": 24,
   "metadata": {},
   "outputs": [
    {
     "data": {
      "text/plain": [
       "(6000, 29)"
      ]
     },
     "execution_count": 24,
     "metadata": {},
     "output_type": "execute_result"
    }
   ],
   "source": [
    "te_X_transformed_tree.shape"
   ]
  },
  {
   "cell_type": "code",
   "execution_count": 25,
   "metadata": {},
   "outputs": [
    {
     "name": "stderr",
     "output_type": "stream",
     "text": [
      "D:\\Anaconda3\\lib\\site-packages\\sklearn\\preprocessing\\data.py:323: DataConversionWarning: Data with input dtype int64 were all converted to float64 by MinMaxScaler.\n",
      "  return self.partial_fit(X, y)\n"
     ]
    }
   ],
   "source": [
    "# Regression\n",
    "preprocess_pipeline_reg.fit(tr_X)\n",
    "\n",
    "tr_X_transformed_reg = preprocess_pipeline_reg.transform(tr_X)\n",
    "te_X_transformed_reg = preprocess_pipeline_reg.transform(te_X)"
   ]
  },
  {
   "cell_type": "code",
   "execution_count": 26,
   "metadata": {},
   "outputs": [
    {
     "data": {
      "text/plain": [
       "(24000, 29)"
      ]
     },
     "execution_count": 26,
     "metadata": {},
     "output_type": "execute_result"
    }
   ],
   "source": [
    "tr_X_transformed_reg.shape"
   ]
  },
  {
   "cell_type": "code",
   "execution_count": 27,
   "metadata": {},
   "outputs": [
    {
     "data": {
      "text/plain": [
       "(6000, 29)"
      ]
     },
     "execution_count": 27,
     "metadata": {},
     "output_type": "execute_result"
    }
   ],
   "source": [
    "te_X_transformed_reg.shape"
   ]
  },
  {
   "cell_type": "code",
   "execution_count": 28,
   "metadata": {},
   "outputs": [],
   "source": [
    "final_features = ['AGE'] + ['PAY_' + str(i) for i in range(1, 7)] + ['LIMIT_BAL'] + ['BILL_AMT' + str(i) for i in range(1, 7)] + ['PAY_AMT' + str(i) for i in range(1, 7)] + ['F', 'M'] +  ['GradSchool', 'HighSchool', 'Others', 'University'] + ['Married', 'Others', 'Single']"
   ]
  },
  {
   "cell_type": "code",
   "execution_count": 29,
   "metadata": {},
   "outputs": [
    {
     "data": {
      "text/plain": [
       "29"
      ]
     },
     "execution_count": 29,
     "metadata": {},
     "output_type": "execute_result"
    }
   ],
   "source": [
    "len(final_features)"
   ]
  },
  {
   "cell_type": "code",
   "execution_count": 30,
   "metadata": {},
   "outputs": [
    {
     "data": {
      "text/html": [
       "<div>\n",
       "<style scoped>\n",
       "    .dataframe tbody tr th:only-of-type {\n",
       "        vertical-align: middle;\n",
       "    }\n",
       "\n",
       "    .dataframe tbody tr th {\n",
       "        vertical-align: top;\n",
       "    }\n",
       "\n",
       "    .dataframe thead th {\n",
       "        text-align: right;\n",
       "    }\n",
       "</style>\n",
       "<table border=\"1\" class=\"dataframe\">\n",
       "  <thead>\n",
       "    <tr style=\"text-align: right;\">\n",
       "      <th></th>\n",
       "      <th>count</th>\n",
       "      <th>mean</th>\n",
       "      <th>std</th>\n",
       "      <th>min</th>\n",
       "      <th>25%</th>\n",
       "      <th>50%</th>\n",
       "      <th>75%</th>\n",
       "      <th>max</th>\n",
       "    </tr>\n",
       "  </thead>\n",
       "  <tbody>\n",
       "    <tr>\n",
       "      <th>AGE</th>\n",
       "      <td>24000.0</td>\n",
       "      <td>35.494</td>\n",
       "      <td>9.235</td>\n",
       "      <td>21.0</td>\n",
       "      <td>28.00</td>\n",
       "      <td>34.0</td>\n",
       "      <td>42.00</td>\n",
       "      <td>79.0</td>\n",
       "    </tr>\n",
       "    <tr>\n",
       "      <th>PAY_1</th>\n",
       "      <td>24000.0</td>\n",
       "      <td>-0.017</td>\n",
       "      <td>1.126</td>\n",
       "      <td>-2.0</td>\n",
       "      <td>-1.00</td>\n",
       "      <td>0.0</td>\n",
       "      <td>0.00</td>\n",
       "      <td>8.0</td>\n",
       "    </tr>\n",
       "    <tr>\n",
       "      <th>PAY_2</th>\n",
       "      <td>24000.0</td>\n",
       "      <td>-0.131</td>\n",
       "      <td>1.198</td>\n",
       "      <td>-2.0</td>\n",
       "      <td>-1.00</td>\n",
       "      <td>0.0</td>\n",
       "      <td>0.00</td>\n",
       "      <td>8.0</td>\n",
       "    </tr>\n",
       "    <tr>\n",
       "      <th>PAY_3</th>\n",
       "      <td>24000.0</td>\n",
       "      <td>-0.168</td>\n",
       "      <td>1.192</td>\n",
       "      <td>-2.0</td>\n",
       "      <td>-1.00</td>\n",
       "      <td>0.0</td>\n",
       "      <td>0.00</td>\n",
       "      <td>8.0</td>\n",
       "    </tr>\n",
       "    <tr>\n",
       "      <th>PAY_4</th>\n",
       "      <td>24000.0</td>\n",
       "      <td>-0.220</td>\n",
       "      <td>1.168</td>\n",
       "      <td>-2.0</td>\n",
       "      <td>-1.00</td>\n",
       "      <td>0.0</td>\n",
       "      <td>0.00</td>\n",
       "      <td>8.0</td>\n",
       "    </tr>\n",
       "    <tr>\n",
       "      <th>PAY_5</th>\n",
       "      <td>24000.0</td>\n",
       "      <td>-0.265</td>\n",
       "      <td>1.133</td>\n",
       "      <td>-2.0</td>\n",
       "      <td>-1.00</td>\n",
       "      <td>0.0</td>\n",
       "      <td>0.00</td>\n",
       "      <td>8.0</td>\n",
       "    </tr>\n",
       "    <tr>\n",
       "      <th>PAY_6</th>\n",
       "      <td>24000.0</td>\n",
       "      <td>-0.289</td>\n",
       "      <td>1.152</td>\n",
       "      <td>-2.0</td>\n",
       "      <td>-1.00</td>\n",
       "      <td>0.0</td>\n",
       "      <td>0.00</td>\n",
       "      <td>8.0</td>\n",
       "    </tr>\n",
       "    <tr>\n",
       "      <th>LIMIT_BAL</th>\n",
       "      <td>24000.0</td>\n",
       "      <td>167226.653</td>\n",
       "      <td>129734.959</td>\n",
       "      <td>10000.0</td>\n",
       "      <td>50000.00</td>\n",
       "      <td>140000.0</td>\n",
       "      <td>240000.00</td>\n",
       "      <td>1000000.0</td>\n",
       "    </tr>\n",
       "    <tr>\n",
       "      <th>BILL_AMT1</th>\n",
       "      <td>24000.0</td>\n",
       "      <td>50927.468</td>\n",
       "      <td>73400.840</td>\n",
       "      <td>-165580.0</td>\n",
       "      <td>3537.00</td>\n",
       "      <td>22321.5</td>\n",
       "      <td>66377.00</td>\n",
       "      <td>964511.0</td>\n",
       "    </tr>\n",
       "    <tr>\n",
       "      <th>BILL_AMT2</th>\n",
       "      <td>24000.0</td>\n",
       "      <td>48914.770</td>\n",
       "      <td>70923.493</td>\n",
       "      <td>-69777.0</td>\n",
       "      <td>2989.75</td>\n",
       "      <td>21140.5</td>\n",
       "      <td>63035.25</td>\n",
       "      <td>983931.0</td>\n",
       "    </tr>\n",
       "    <tr>\n",
       "      <th>BILL_AMT3</th>\n",
       "      <td>24000.0</td>\n",
       "      <td>46757.082</td>\n",
       "      <td>69265.059</td>\n",
       "      <td>-157264.0</td>\n",
       "      <td>2699.50</td>\n",
       "      <td>20050.0</td>\n",
       "      <td>59529.25</td>\n",
       "      <td>1664089.0</td>\n",
       "    </tr>\n",
       "    <tr>\n",
       "      <th>BILL_AMT4</th>\n",
       "      <td>24000.0</td>\n",
       "      <td>43013.532</td>\n",
       "      <td>64069.495</td>\n",
       "      <td>-170000.0</td>\n",
       "      <td>2329.00</td>\n",
       "      <td>19010.0</td>\n",
       "      <td>53927.75</td>\n",
       "      <td>891586.0</td>\n",
       "    </tr>\n",
       "    <tr>\n",
       "      <th>BILL_AMT5</th>\n",
       "      <td>24000.0</td>\n",
       "      <td>40150.333</td>\n",
       "      <td>60635.882</td>\n",
       "      <td>-81334.0</td>\n",
       "      <td>1763.00</td>\n",
       "      <td>18085.0</td>\n",
       "      <td>50007.50</td>\n",
       "      <td>927171.0</td>\n",
       "    </tr>\n",
       "    <tr>\n",
       "      <th>BILL_AMT6</th>\n",
       "      <td>24000.0</td>\n",
       "      <td>38763.540</td>\n",
       "      <td>59281.987</td>\n",
       "      <td>-209051.0</td>\n",
       "      <td>1271.75</td>\n",
       "      <td>17108.5</td>\n",
       "      <td>49101.75</td>\n",
       "      <td>961664.0</td>\n",
       "    </tr>\n",
       "    <tr>\n",
       "      <th>PAY_AMT1</th>\n",
       "      <td>24000.0</td>\n",
       "      <td>5670.827</td>\n",
       "      <td>17084.401</td>\n",
       "      <td>0.0</td>\n",
       "      <td>1000.00</td>\n",
       "      <td>2100.0</td>\n",
       "      <td>5005.00</td>\n",
       "      <td>873552.0</td>\n",
       "    </tr>\n",
       "    <tr>\n",
       "      <th>PAY_AMT2</th>\n",
       "      <td>24000.0</td>\n",
       "      <td>5961.101</td>\n",
       "      <td>24284.120</td>\n",
       "      <td>0.0</td>\n",
       "      <td>861.50</td>\n",
       "      <td>2007.0</td>\n",
       "      <td>5000.00</td>\n",
       "      <td>1684259.0</td>\n",
       "    </tr>\n",
       "    <tr>\n",
       "      <th>PAY_AMT3</th>\n",
       "      <td>24000.0</td>\n",
       "      <td>5258.246</td>\n",
       "      <td>18242.619</td>\n",
       "      <td>0.0</td>\n",
       "      <td>390.00</td>\n",
       "      <td>1800.0</td>\n",
       "      <td>4500.00</td>\n",
       "      <td>896040.0</td>\n",
       "    </tr>\n",
       "    <tr>\n",
       "      <th>PAY_AMT4</th>\n",
       "      <td>24000.0</td>\n",
       "      <td>4880.847</td>\n",
       "      <td>16304.719</td>\n",
       "      <td>0.0</td>\n",
       "      <td>285.75</td>\n",
       "      <td>1500.0</td>\n",
       "      <td>4000.00</td>\n",
       "      <td>621000.0</td>\n",
       "    </tr>\n",
       "    <tr>\n",
       "      <th>PAY_AMT5</th>\n",
       "      <td>24000.0</td>\n",
       "      <td>4818.849</td>\n",
       "      <td>15619.426</td>\n",
       "      <td>0.0</td>\n",
       "      <td>240.75</td>\n",
       "      <td>1500.0</td>\n",
       "      <td>4021.00</td>\n",
       "      <td>426529.0</td>\n",
       "    </tr>\n",
       "    <tr>\n",
       "      <th>PAY_AMT6</th>\n",
       "      <td>24000.0</td>\n",
       "      <td>5159.462</td>\n",
       "      <td>17458.604</td>\n",
       "      <td>0.0</td>\n",
       "      <td>112.75</td>\n",
       "      <td>1500.0</td>\n",
       "      <td>4000.00</td>\n",
       "      <td>527143.0</td>\n",
       "    </tr>\n",
       "    <tr>\n",
       "      <th>F</th>\n",
       "      <td>24000.0</td>\n",
       "      <td>0.605</td>\n",
       "      <td>0.489</td>\n",
       "      <td>0.0</td>\n",
       "      <td>0.00</td>\n",
       "      <td>1.0</td>\n",
       "      <td>1.00</td>\n",
       "      <td>1.0</td>\n",
       "    </tr>\n",
       "    <tr>\n",
       "      <th>M</th>\n",
       "      <td>24000.0</td>\n",
       "      <td>0.395</td>\n",
       "      <td>0.489</td>\n",
       "      <td>0.0</td>\n",
       "      <td>0.00</td>\n",
       "      <td>0.0</td>\n",
       "      <td>1.00</td>\n",
       "      <td>1.0</td>\n",
       "    </tr>\n",
       "    <tr>\n",
       "      <th>GradSchool</th>\n",
       "      <td>24000.0</td>\n",
       "      <td>0.353</td>\n",
       "      <td>0.478</td>\n",
       "      <td>0.0</td>\n",
       "      <td>0.00</td>\n",
       "      <td>0.0</td>\n",
       "      <td>1.00</td>\n",
       "      <td>1.0</td>\n",
       "    </tr>\n",
       "    <tr>\n",
       "      <th>HighSchool</th>\n",
       "      <td>24000.0</td>\n",
       "      <td>0.165</td>\n",
       "      <td>0.371</td>\n",
       "      <td>0.0</td>\n",
       "      <td>0.00</td>\n",
       "      <td>0.0</td>\n",
       "      <td>0.00</td>\n",
       "      <td>1.0</td>\n",
       "    </tr>\n",
       "    <tr>\n",
       "      <th>Others</th>\n",
       "      <td>24000.0</td>\n",
       "      <td>0.016</td>\n",
       "      <td>0.124</td>\n",
       "      <td>0.0</td>\n",
       "      <td>0.00</td>\n",
       "      <td>0.0</td>\n",
       "      <td>0.00</td>\n",
       "      <td>1.0</td>\n",
       "    </tr>\n",
       "    <tr>\n",
       "      <th>University</th>\n",
       "      <td>24000.0</td>\n",
       "      <td>0.466</td>\n",
       "      <td>0.499</td>\n",
       "      <td>0.0</td>\n",
       "      <td>0.00</td>\n",
       "      <td>0.0</td>\n",
       "      <td>1.00</td>\n",
       "      <td>1.0</td>\n",
       "    </tr>\n",
       "    <tr>\n",
       "      <th>Married</th>\n",
       "      <td>24000.0</td>\n",
       "      <td>0.456</td>\n",
       "      <td>0.498</td>\n",
       "      <td>0.0</td>\n",
       "      <td>0.00</td>\n",
       "      <td>0.0</td>\n",
       "      <td>1.00</td>\n",
       "      <td>1.0</td>\n",
       "    </tr>\n",
       "    <tr>\n",
       "      <th>Others</th>\n",
       "      <td>24000.0</td>\n",
       "      <td>0.013</td>\n",
       "      <td>0.113</td>\n",
       "      <td>0.0</td>\n",
       "      <td>0.00</td>\n",
       "      <td>0.0</td>\n",
       "      <td>0.00</td>\n",
       "      <td>1.0</td>\n",
       "    </tr>\n",
       "    <tr>\n",
       "      <th>Single</th>\n",
       "      <td>24000.0</td>\n",
       "      <td>0.531</td>\n",
       "      <td>0.499</td>\n",
       "      <td>0.0</td>\n",
       "      <td>0.00</td>\n",
       "      <td>1.0</td>\n",
       "      <td>1.00</td>\n",
       "      <td>1.0</td>\n",
       "    </tr>\n",
       "  </tbody>\n",
       "</table>\n",
       "</div>"
      ],
      "text/plain": [
       "              count        mean         std       min       25%       50%  \\\n",
       "AGE         24000.0      35.494       9.235      21.0     28.00      34.0   \n",
       "PAY_1       24000.0      -0.017       1.126      -2.0     -1.00       0.0   \n",
       "PAY_2       24000.0      -0.131       1.198      -2.0     -1.00       0.0   \n",
       "PAY_3       24000.0      -0.168       1.192      -2.0     -1.00       0.0   \n",
       "PAY_4       24000.0      -0.220       1.168      -2.0     -1.00       0.0   \n",
       "PAY_5       24000.0      -0.265       1.133      -2.0     -1.00       0.0   \n",
       "PAY_6       24000.0      -0.289       1.152      -2.0     -1.00       0.0   \n",
       "LIMIT_BAL   24000.0  167226.653  129734.959   10000.0  50000.00  140000.0   \n",
       "BILL_AMT1   24000.0   50927.468   73400.840 -165580.0   3537.00   22321.5   \n",
       "BILL_AMT2   24000.0   48914.770   70923.493  -69777.0   2989.75   21140.5   \n",
       "BILL_AMT3   24000.0   46757.082   69265.059 -157264.0   2699.50   20050.0   \n",
       "BILL_AMT4   24000.0   43013.532   64069.495 -170000.0   2329.00   19010.0   \n",
       "BILL_AMT5   24000.0   40150.333   60635.882  -81334.0   1763.00   18085.0   \n",
       "BILL_AMT6   24000.0   38763.540   59281.987 -209051.0   1271.75   17108.5   \n",
       "PAY_AMT1    24000.0    5670.827   17084.401       0.0   1000.00    2100.0   \n",
       "PAY_AMT2    24000.0    5961.101   24284.120       0.0    861.50    2007.0   \n",
       "PAY_AMT3    24000.0    5258.246   18242.619       0.0    390.00    1800.0   \n",
       "PAY_AMT4    24000.0    4880.847   16304.719       0.0    285.75    1500.0   \n",
       "PAY_AMT5    24000.0    4818.849   15619.426       0.0    240.75    1500.0   \n",
       "PAY_AMT6    24000.0    5159.462   17458.604       0.0    112.75    1500.0   \n",
       "F           24000.0       0.605       0.489       0.0      0.00       1.0   \n",
       "M           24000.0       0.395       0.489       0.0      0.00       0.0   \n",
       "GradSchool  24000.0       0.353       0.478       0.0      0.00       0.0   \n",
       "HighSchool  24000.0       0.165       0.371       0.0      0.00       0.0   \n",
       "Others      24000.0       0.016       0.124       0.0      0.00       0.0   \n",
       "University  24000.0       0.466       0.499       0.0      0.00       0.0   \n",
       "Married     24000.0       0.456       0.498       0.0      0.00       0.0   \n",
       "Others      24000.0       0.013       0.113       0.0      0.00       0.0   \n",
       "Single      24000.0       0.531       0.499       0.0      0.00       1.0   \n",
       "\n",
       "                  75%        max  \n",
       "AGE             42.00       79.0  \n",
       "PAY_1            0.00        8.0  \n",
       "PAY_2            0.00        8.0  \n",
       "PAY_3            0.00        8.0  \n",
       "PAY_4            0.00        8.0  \n",
       "PAY_5            0.00        8.0  \n",
       "PAY_6            0.00        8.0  \n",
       "LIMIT_BAL   240000.00  1000000.0  \n",
       "BILL_AMT1    66377.00   964511.0  \n",
       "BILL_AMT2    63035.25   983931.0  \n",
       "BILL_AMT3    59529.25  1664089.0  \n",
       "BILL_AMT4    53927.75   891586.0  \n",
       "BILL_AMT5    50007.50   927171.0  \n",
       "BILL_AMT6    49101.75   961664.0  \n",
       "PAY_AMT1      5005.00   873552.0  \n",
       "PAY_AMT2      5000.00  1684259.0  \n",
       "PAY_AMT3      4500.00   896040.0  \n",
       "PAY_AMT4      4000.00   621000.0  \n",
       "PAY_AMT5      4021.00   426529.0  \n",
       "PAY_AMT6      4000.00   527143.0  \n",
       "F                1.00        1.0  \n",
       "M                1.00        1.0  \n",
       "GradSchool       1.00        1.0  \n",
       "HighSchool       0.00        1.0  \n",
       "Others           0.00        1.0  \n",
       "University       1.00        1.0  \n",
       "Married          1.00        1.0  \n",
       "Others           0.00        1.0  \n",
       "Single           1.00        1.0  "
      ]
     },
     "execution_count": 30,
     "metadata": {},
     "output_type": "execute_result"
    }
   ],
   "source": [
    "pd.DataFrame(tr_X_transformed_tree.toarray(), columns=final_features).describe().T.round(3)"
   ]
  },
  {
   "cell_type": "code",
   "execution_count": 31,
   "metadata": {
    "scrolled": false
   },
   "outputs": [
    {
     "data": {
      "text/html": [
       "<div>\n",
       "<style scoped>\n",
       "    .dataframe tbody tr th:only-of-type {\n",
       "        vertical-align: middle;\n",
       "    }\n",
       "\n",
       "    .dataframe tbody tr th {\n",
       "        vertical-align: top;\n",
       "    }\n",
       "\n",
       "    .dataframe thead th {\n",
       "        text-align: right;\n",
       "    }\n",
       "</style>\n",
       "<table border=\"1\" class=\"dataframe\">\n",
       "  <thead>\n",
       "    <tr style=\"text-align: right;\">\n",
       "      <th></th>\n",
       "      <th>count</th>\n",
       "      <th>mean</th>\n",
       "      <th>std</th>\n",
       "      <th>min</th>\n",
       "      <th>25%</th>\n",
       "      <th>50%</th>\n",
       "      <th>75%</th>\n",
       "      <th>max</th>\n",
       "    </tr>\n",
       "  </thead>\n",
       "  <tbody>\n",
       "    <tr>\n",
       "      <th>AGE</th>\n",
       "      <td>24000.0</td>\n",
       "      <td>35.494</td>\n",
       "      <td>9.235</td>\n",
       "      <td>21.0</td>\n",
       "      <td>28.000</td>\n",
       "      <td>34.000</td>\n",
       "      <td>42.000</td>\n",
       "      <td>79.0</td>\n",
       "    </tr>\n",
       "    <tr>\n",
       "      <th>PAY_1</th>\n",
       "      <td>24000.0</td>\n",
       "      <td>-0.017</td>\n",
       "      <td>1.126</td>\n",
       "      <td>-2.0</td>\n",
       "      <td>-1.000</td>\n",
       "      <td>0.000</td>\n",
       "      <td>0.000</td>\n",
       "      <td>8.0</td>\n",
       "    </tr>\n",
       "    <tr>\n",
       "      <th>PAY_2</th>\n",
       "      <td>24000.0</td>\n",
       "      <td>-0.131</td>\n",
       "      <td>1.198</td>\n",
       "      <td>-2.0</td>\n",
       "      <td>-1.000</td>\n",
       "      <td>0.000</td>\n",
       "      <td>0.000</td>\n",
       "      <td>8.0</td>\n",
       "    </tr>\n",
       "    <tr>\n",
       "      <th>PAY_3</th>\n",
       "      <td>24000.0</td>\n",
       "      <td>-0.168</td>\n",
       "      <td>1.192</td>\n",
       "      <td>-2.0</td>\n",
       "      <td>-1.000</td>\n",
       "      <td>0.000</td>\n",
       "      <td>0.000</td>\n",
       "      <td>8.0</td>\n",
       "    </tr>\n",
       "    <tr>\n",
       "      <th>PAY_4</th>\n",
       "      <td>24000.0</td>\n",
       "      <td>-0.220</td>\n",
       "      <td>1.168</td>\n",
       "      <td>-2.0</td>\n",
       "      <td>-1.000</td>\n",
       "      <td>0.000</td>\n",
       "      <td>0.000</td>\n",
       "      <td>8.0</td>\n",
       "    </tr>\n",
       "    <tr>\n",
       "      <th>PAY_5</th>\n",
       "      <td>24000.0</td>\n",
       "      <td>-0.265</td>\n",
       "      <td>1.133</td>\n",
       "      <td>-2.0</td>\n",
       "      <td>-1.000</td>\n",
       "      <td>0.000</td>\n",
       "      <td>0.000</td>\n",
       "      <td>8.0</td>\n",
       "    </tr>\n",
       "    <tr>\n",
       "      <th>PAY_6</th>\n",
       "      <td>24000.0</td>\n",
       "      <td>-0.289</td>\n",
       "      <td>1.152</td>\n",
       "      <td>-2.0</td>\n",
       "      <td>-1.000</td>\n",
       "      <td>0.000</td>\n",
       "      <td>0.000</td>\n",
       "      <td>8.0</td>\n",
       "    </tr>\n",
       "    <tr>\n",
       "      <th>LIMIT_BAL</th>\n",
       "      <td>24000.0</td>\n",
       "      <td>0.159</td>\n",
       "      <td>0.131</td>\n",
       "      <td>0.0</td>\n",
       "      <td>0.040</td>\n",
       "      <td>0.131</td>\n",
       "      <td>0.232</td>\n",
       "      <td>1.0</td>\n",
       "    </tr>\n",
       "    <tr>\n",
       "      <th>BILL_AMT1</th>\n",
       "      <td>24000.0</td>\n",
       "      <td>0.192</td>\n",
       "      <td>0.065</td>\n",
       "      <td>0.0</td>\n",
       "      <td>0.150</td>\n",
       "      <td>0.166</td>\n",
       "      <td>0.205</td>\n",
       "      <td>1.0</td>\n",
       "    </tr>\n",
       "    <tr>\n",
       "      <th>BILL_AMT2</th>\n",
       "      <td>24000.0</td>\n",
       "      <td>0.113</td>\n",
       "      <td>0.067</td>\n",
       "      <td>0.0</td>\n",
       "      <td>0.069</td>\n",
       "      <td>0.086</td>\n",
       "      <td>0.126</td>\n",
       "      <td>1.0</td>\n",
       "    </tr>\n",
       "    <tr>\n",
       "      <th>BILL_AMT3</th>\n",
       "      <td>24000.0</td>\n",
       "      <td>0.112</td>\n",
       "      <td>0.038</td>\n",
       "      <td>0.0</td>\n",
       "      <td>0.088</td>\n",
       "      <td>0.097</td>\n",
       "      <td>0.119</td>\n",
       "      <td>1.0</td>\n",
       "    </tr>\n",
       "    <tr>\n",
       "      <th>BILL_AMT4</th>\n",
       "      <td>24000.0</td>\n",
       "      <td>0.201</td>\n",
       "      <td>0.060</td>\n",
       "      <td>0.0</td>\n",
       "      <td>0.162</td>\n",
       "      <td>0.178</td>\n",
       "      <td>0.211</td>\n",
       "      <td>1.0</td>\n",
       "    </tr>\n",
       "    <tr>\n",
       "      <th>BILL_AMT5</th>\n",
       "      <td>24000.0</td>\n",
       "      <td>0.120</td>\n",
       "      <td>0.060</td>\n",
       "      <td>0.0</td>\n",
       "      <td>0.082</td>\n",
       "      <td>0.099</td>\n",
       "      <td>0.130</td>\n",
       "      <td>1.0</td>\n",
       "    </tr>\n",
       "    <tr>\n",
       "      <th>BILL_AMT6</th>\n",
       "      <td>24000.0</td>\n",
       "      <td>0.212</td>\n",
       "      <td>0.051</td>\n",
       "      <td>0.0</td>\n",
       "      <td>0.180</td>\n",
       "      <td>0.193</td>\n",
       "      <td>0.221</td>\n",
       "      <td>1.0</td>\n",
       "    </tr>\n",
       "    <tr>\n",
       "      <th>PAY_AMT1</th>\n",
       "      <td>24000.0</td>\n",
       "      <td>0.006</td>\n",
       "      <td>0.020</td>\n",
       "      <td>0.0</td>\n",
       "      <td>0.001</td>\n",
       "      <td>0.002</td>\n",
       "      <td>0.006</td>\n",
       "      <td>1.0</td>\n",
       "    </tr>\n",
       "    <tr>\n",
       "      <th>PAY_AMT2</th>\n",
       "      <td>24000.0</td>\n",
       "      <td>0.004</td>\n",
       "      <td>0.014</td>\n",
       "      <td>0.0</td>\n",
       "      <td>0.001</td>\n",
       "      <td>0.001</td>\n",
       "      <td>0.003</td>\n",
       "      <td>1.0</td>\n",
       "    </tr>\n",
       "    <tr>\n",
       "      <th>PAY_AMT3</th>\n",
       "      <td>24000.0</td>\n",
       "      <td>0.006</td>\n",
       "      <td>0.020</td>\n",
       "      <td>0.0</td>\n",
       "      <td>0.000</td>\n",
       "      <td>0.002</td>\n",
       "      <td>0.005</td>\n",
       "      <td>1.0</td>\n",
       "    </tr>\n",
       "    <tr>\n",
       "      <th>PAY_AMT4</th>\n",
       "      <td>24000.0</td>\n",
       "      <td>0.008</td>\n",
       "      <td>0.026</td>\n",
       "      <td>0.0</td>\n",
       "      <td>0.000</td>\n",
       "      <td>0.002</td>\n",
       "      <td>0.006</td>\n",
       "      <td>1.0</td>\n",
       "    </tr>\n",
       "    <tr>\n",
       "      <th>PAY_AMT5</th>\n",
       "      <td>24000.0</td>\n",
       "      <td>0.011</td>\n",
       "      <td>0.037</td>\n",
       "      <td>0.0</td>\n",
       "      <td>0.001</td>\n",
       "      <td>0.004</td>\n",
       "      <td>0.009</td>\n",
       "      <td>1.0</td>\n",
       "    </tr>\n",
       "    <tr>\n",
       "      <th>PAY_AMT6</th>\n",
       "      <td>24000.0</td>\n",
       "      <td>0.010</td>\n",
       "      <td>0.033</td>\n",
       "      <td>0.0</td>\n",
       "      <td>0.000</td>\n",
       "      <td>0.003</td>\n",
       "      <td>0.008</td>\n",
       "      <td>1.0</td>\n",
       "    </tr>\n",
       "    <tr>\n",
       "      <th>F</th>\n",
       "      <td>24000.0</td>\n",
       "      <td>0.605</td>\n",
       "      <td>0.489</td>\n",
       "      <td>0.0</td>\n",
       "      <td>0.000</td>\n",
       "      <td>1.000</td>\n",
       "      <td>1.000</td>\n",
       "      <td>1.0</td>\n",
       "    </tr>\n",
       "    <tr>\n",
       "      <th>M</th>\n",
       "      <td>24000.0</td>\n",
       "      <td>0.395</td>\n",
       "      <td>0.489</td>\n",
       "      <td>0.0</td>\n",
       "      <td>0.000</td>\n",
       "      <td>0.000</td>\n",
       "      <td>1.000</td>\n",
       "      <td>1.0</td>\n",
       "    </tr>\n",
       "    <tr>\n",
       "      <th>GradSchool</th>\n",
       "      <td>24000.0</td>\n",
       "      <td>0.353</td>\n",
       "      <td>0.478</td>\n",
       "      <td>0.0</td>\n",
       "      <td>0.000</td>\n",
       "      <td>0.000</td>\n",
       "      <td>1.000</td>\n",
       "      <td>1.0</td>\n",
       "    </tr>\n",
       "    <tr>\n",
       "      <th>HighSchool</th>\n",
       "      <td>24000.0</td>\n",
       "      <td>0.165</td>\n",
       "      <td>0.371</td>\n",
       "      <td>0.0</td>\n",
       "      <td>0.000</td>\n",
       "      <td>0.000</td>\n",
       "      <td>0.000</td>\n",
       "      <td>1.0</td>\n",
       "    </tr>\n",
       "    <tr>\n",
       "      <th>Others</th>\n",
       "      <td>24000.0</td>\n",
       "      <td>0.016</td>\n",
       "      <td>0.124</td>\n",
       "      <td>0.0</td>\n",
       "      <td>0.000</td>\n",
       "      <td>0.000</td>\n",
       "      <td>0.000</td>\n",
       "      <td>1.0</td>\n",
       "    </tr>\n",
       "    <tr>\n",
       "      <th>University</th>\n",
       "      <td>24000.0</td>\n",
       "      <td>0.466</td>\n",
       "      <td>0.499</td>\n",
       "      <td>0.0</td>\n",
       "      <td>0.000</td>\n",
       "      <td>0.000</td>\n",
       "      <td>1.000</td>\n",
       "      <td>1.0</td>\n",
       "    </tr>\n",
       "    <tr>\n",
       "      <th>Married</th>\n",
       "      <td>24000.0</td>\n",
       "      <td>0.456</td>\n",
       "      <td>0.498</td>\n",
       "      <td>0.0</td>\n",
       "      <td>0.000</td>\n",
       "      <td>0.000</td>\n",
       "      <td>1.000</td>\n",
       "      <td>1.0</td>\n",
       "    </tr>\n",
       "    <tr>\n",
       "      <th>Others</th>\n",
       "      <td>24000.0</td>\n",
       "      <td>0.013</td>\n",
       "      <td>0.113</td>\n",
       "      <td>0.0</td>\n",
       "      <td>0.000</td>\n",
       "      <td>0.000</td>\n",
       "      <td>0.000</td>\n",
       "      <td>1.0</td>\n",
       "    </tr>\n",
       "    <tr>\n",
       "      <th>Single</th>\n",
       "      <td>24000.0</td>\n",
       "      <td>0.531</td>\n",
       "      <td>0.499</td>\n",
       "      <td>0.0</td>\n",
       "      <td>0.000</td>\n",
       "      <td>1.000</td>\n",
       "      <td>1.000</td>\n",
       "      <td>1.0</td>\n",
       "    </tr>\n",
       "  </tbody>\n",
       "</table>\n",
       "</div>"
      ],
      "text/plain": [
       "              count    mean    std   min     25%     50%     75%   max\n",
       "AGE         24000.0  35.494  9.235  21.0  28.000  34.000  42.000  79.0\n",
       "PAY_1       24000.0  -0.017  1.126  -2.0  -1.000   0.000   0.000   8.0\n",
       "PAY_2       24000.0  -0.131  1.198  -2.0  -1.000   0.000   0.000   8.0\n",
       "PAY_3       24000.0  -0.168  1.192  -2.0  -1.000   0.000   0.000   8.0\n",
       "PAY_4       24000.0  -0.220  1.168  -2.0  -1.000   0.000   0.000   8.0\n",
       "PAY_5       24000.0  -0.265  1.133  -2.0  -1.000   0.000   0.000   8.0\n",
       "PAY_6       24000.0  -0.289  1.152  -2.0  -1.000   0.000   0.000   8.0\n",
       "LIMIT_BAL   24000.0   0.159  0.131   0.0   0.040   0.131   0.232   1.0\n",
       "BILL_AMT1   24000.0   0.192  0.065   0.0   0.150   0.166   0.205   1.0\n",
       "BILL_AMT2   24000.0   0.113  0.067   0.0   0.069   0.086   0.126   1.0\n",
       "BILL_AMT3   24000.0   0.112  0.038   0.0   0.088   0.097   0.119   1.0\n",
       "BILL_AMT4   24000.0   0.201  0.060   0.0   0.162   0.178   0.211   1.0\n",
       "BILL_AMT5   24000.0   0.120  0.060   0.0   0.082   0.099   0.130   1.0\n",
       "BILL_AMT6   24000.0   0.212  0.051   0.0   0.180   0.193   0.221   1.0\n",
       "PAY_AMT1    24000.0   0.006  0.020   0.0   0.001   0.002   0.006   1.0\n",
       "PAY_AMT2    24000.0   0.004  0.014   0.0   0.001   0.001   0.003   1.0\n",
       "PAY_AMT3    24000.0   0.006  0.020   0.0   0.000   0.002   0.005   1.0\n",
       "PAY_AMT4    24000.0   0.008  0.026   0.0   0.000   0.002   0.006   1.0\n",
       "PAY_AMT5    24000.0   0.011  0.037   0.0   0.001   0.004   0.009   1.0\n",
       "PAY_AMT6    24000.0   0.010  0.033   0.0   0.000   0.003   0.008   1.0\n",
       "F           24000.0   0.605  0.489   0.0   0.000   1.000   1.000   1.0\n",
       "M           24000.0   0.395  0.489   0.0   0.000   0.000   1.000   1.0\n",
       "GradSchool  24000.0   0.353  0.478   0.0   0.000   0.000   1.000   1.0\n",
       "HighSchool  24000.0   0.165  0.371   0.0   0.000   0.000   0.000   1.0\n",
       "Others      24000.0   0.016  0.124   0.0   0.000   0.000   0.000   1.0\n",
       "University  24000.0   0.466  0.499   0.0   0.000   0.000   1.000   1.0\n",
       "Married     24000.0   0.456  0.498   0.0   0.000   0.000   1.000   1.0\n",
       "Others      24000.0   0.013  0.113   0.0   0.000   0.000   0.000   1.0\n",
       "Single      24000.0   0.531  0.499   0.0   0.000   1.000   1.000   1.0"
      ]
     },
     "execution_count": 31,
     "metadata": {},
     "output_type": "execute_result"
    }
   ],
   "source": [
    "pd.DataFrame(tr_X_transformed_reg.toarray(), columns=final_features).describe().T.round(3)"
   ]
  },
  {
   "cell_type": "markdown",
   "metadata": {},
   "source": [
    "### Ensemble Learning\n",
    "\n",
    "Make sure to read and understand the documentation for each classifier.\n",
    "\n",
    "Remember to make your code modular; it will save you rewriting the same things multiple times and will help avoid copy paste errors.\n",
    "\n",
    "\n",
    "  \n",
    "- Tune the following classifiers:\n",
    "  - Random forest classfier\n",
    "  - Adaboost Tree classifier\n",
    "  - Extra trees classifier\n",
    "  - Gradient Boosted Tree classifier\n",
    "  - Logistic Regression\n",
    "  \n",
    "- Analyze, compare, and interpret your results\n",
    "- What ensemble yields the best result? Can you identify certain types of events that are classified better/worse from the type of algorithm?\n",
    "- Is the feature importance consistent for all classifiers?"
   ]
  },
  {
   "cell_type": "markdown",
   "metadata": {},
   "source": [
    "# Helper Functions"
   ]
  },
  {
   "cell_type": "code",
   "execution_count": 32,
   "metadata": {},
   "outputs": [],
   "source": [
    "# Plot ROC curve\n",
    "\n",
    "def plot_roc_curve(fpr, tpr, label=None):\n",
    "    plt.plot(fpr, tpr, linewidth=2, label=label)\n",
    "    plt.plot([0, 1], [0, 1], 'k--')\n",
    "    plt.axis([0, 1, 0, 1])"
   ]
  },
  {
   "cell_type": "code",
   "execution_count": 33,
   "metadata": {},
   "outputs": [],
   "source": [
    "# Plot feature importance\n",
    "\n",
    "def plot_feature_importance(features, importances):\n",
    "    temp = pd.DataFrame({'Feature' : features\n",
    "                     ,'Feature Importance' : importances})\n",
    "    temp = temp.sort_values(by='Feature Importance', ascending = False)\n",
    "\n",
    "    plt.figure(figsize = (7,4))\n",
    "    plt.title('Feature Importance', fontsize=16)\n",
    "    s = sns.barplot(x='Feature', y='Feature Importance', data=temp)\n",
    "    s.set_xticklabels(s.get_xticklabels(),rotation=90)\n",
    "    plt.show"
   ]
  },
  {
   "cell_type": "markdown",
   "metadata": {},
   "source": [
    "# Random Forest Classifier"
   ]
  },
  {
   "cell_type": "code",
   "execution_count": 34,
   "metadata": {},
   "outputs": [],
   "source": [
    "from sklearn.ensemble import RandomForestClassifier\n",
    "from sklearn.metrics import roc_curve\n",
    "from sklearn.metrics import roc_auc_score\n",
    "from sklearn.model_selection import GridSearchCV\n",
    "from sklearn.model_selection import cross_val_predict\n",
    "from sklearn.metrics import mean_squared_error"
   ]
  },
  {
   "cell_type": "code",
   "execution_count": 35,
   "metadata": {},
   "outputs": [],
   "source": [
    "rfc = RandomForestClassifier(random_state = 42)"
   ]
  },
  {
   "cell_type": "code",
   "execution_count": 36,
   "metadata": {},
   "outputs": [
    {
     "name": "stdout",
     "output_type": "stream",
     "text": [
      "Fitting 4 folds for each of 36 candidates, totalling 144 fits\n"
     ]
    },
    {
     "name": "stderr",
     "output_type": "stream",
     "text": [
      "[Parallel(n_jobs=-1)]: Using backend LokyBackend with 8 concurrent workers.\n",
      "[Parallel(n_jobs=-1)]: Done  25 tasks      | elapsed:  5.3min\n",
      "[Parallel(n_jobs=-1)]: Done 144 out of 144 | elapsed: 36.9min finished\n"
     ]
    },
    {
     "data": {
      "text/plain": [
       "GridSearchCV(cv=4, error_score='raise-deprecating',\n",
       "       estimator=RandomForestClassifier(bootstrap=True, class_weight=None, criterion='gini',\n",
       "            max_depth=None, max_features='auto', max_leaf_nodes=None,\n",
       "            min_impurity_decrease=0.0, min_impurity_split=None,\n",
       "            min_samples_leaf=1, min_samples_split=2,\n",
       "            min_weight_fraction_leaf=0.0, n_estimators='warn', n_jobs=None,\n",
       "            oob_score=False, random_state=42, verbose=0, warm_start=False),\n",
       "       fit_params=None, iid='warn', n_jobs=-1,\n",
       "       param_grid={'n_estimators': [500, 600, 700, 800], 'max_features': [0.4, 0.5, 0.6], 'max_depth': [8, 9, 10]},\n",
       "       pre_dispatch='2*n_jobs', refit=True, return_train_score='warn',\n",
       "       scoring='roc_auc', verbose=2)"
      ]
     },
     "execution_count": 36,
     "metadata": {},
     "output_type": "execute_result"
    }
   ],
   "source": [
    "# GridSearch\n",
    "param_grid_rfc = {'n_estimators' : [i for i in range (500,801,100)],\n",
    "                 'max_features' : [i/10 for i in range (4, 7)],\n",
    "                 'max_depth' : [i for i in range(8, 11)]}\n",
    "\n",
    "rfc_grid_cv = GridSearchCV(rfc\n",
    "                           ,param_grid_rfc\n",
    "                           ,cv = 4\n",
    "                           ,scoring = 'roc_auc'\n",
    "                           ,n_jobs = -1\n",
    "                           ,verbose = 2)\n",
    "\n",
    "rfc_grid_cv.fit(tr_X_transformed_tree, tr_y)"
   ]
  },
  {
   "cell_type": "code",
   "execution_count": 37,
   "metadata": {},
   "outputs": [
    {
     "data": {
      "text/plain": [
       "{'max_depth': 10, 'max_features': 0.6, 'n_estimators': 800}"
      ]
     },
     "execution_count": 37,
     "metadata": {},
     "output_type": "execute_result"
    }
   ],
   "source": [
    "# Best parameters\n",
    "rfc_grid_cv.best_params_"
   ]
  },
  {
   "cell_type": "code",
   "execution_count": 38,
   "metadata": {},
   "outputs": [],
   "source": [
    "# Final model\n",
    "rfc_final = rfc_grid_cv.best_estimator_"
   ]
  },
  {
   "cell_type": "code",
   "execution_count": 39,
   "metadata": {},
   "outputs": [],
   "source": [
    "# Fit the training set with the final model\n",
    "tr_y_pred_rfc = rfc_final.predict(tr_X_transformed_tree)\n",
    "tr_y_prob_rfc = rfc_final.predict_proba(tr_X_transformed_tree)"
   ]
  },
  {
   "cell_type": "code",
   "execution_count": 40,
   "metadata": {},
   "outputs": [],
   "source": [
    "# Fit the test set with the final model\n",
    "te_y_pred_rfc = rfc_final.predict(te_X_transformed_tree)\n",
    "te_y_prob_rfc = rfc_final.predict_proba(te_X_transformed_tree)"
   ]
  },
  {
   "cell_type": "code",
   "execution_count": 41,
   "metadata": {},
   "outputs": [
    {
     "name": "stdout",
     "output_type": "stream",
     "text": [
      "ROC AUC - Train\n",
      "0.8625641310788703\n",
      "ROC AUC - Test\n",
      "0.7793652648158581\n"
     ]
    }
   ],
   "source": [
    "# ROC AUC scores\n",
    "print('ROC AUC - Train')\n",
    "print(roc_auc_score(tr_y, tr_y_prob_rfc[:,1]))\n",
    "print('ROC AUC - Test')\n",
    "print(roc_auc_score(te_y, te_y_prob_rfc[:,1]))"
   ]
  },
  {
   "cell_type": "code",
   "execution_count": 42,
   "metadata": {},
   "outputs": [
    {
     "data": {
      "image/png": "[encoded data removed]",
      "text/plain": [
       "<Figure size 432x288 with 1 Axes>"
      ]
     },
     "metadata": {
      "needs_background": "light"
     },
     "output_type": "display_data"
    }
   ],
   "source": [
    "# ROC AUC curves\n",
    "fpr_rfc_tr, tpr_rfc_tr, thresholds_rfc_tr = roc_curve(tr_y, tr_y_prob_rfc[:,1])\n",
    "fpr_rfc_te, tpr_rfc_te, thresholds_rfc_te = roc_curve(te_y, te_y_prob_rfc[:,1])\n",
    "\n",
    "plot_roc_curve(fpr_rfc_tr, tpr_rfc_tr, \"Training\")\n",
    "plot_roc_curve(fpr_rfc_te, tpr_rfc_te, \"Test\")\n",
    "\n",
    "plt.title('Random Forest Classifier', fontsize=16)\n",
    "plt.xlabel('False Positive Rate', fontsize=12)\n",
    "plt.ylabel('True Positive Rate', fontsize=12)\n",
    "plt.legend(loc=\"lower right\", fontsize=12)\n",
    "plt.show()"
   ]
  },
  {
   "cell_type": "code",
   "execution_count": 43,
   "metadata": {},
   "outputs": [
    {
     "data": {
      "image/png": "[encoded data removed]",
      "text/plain": [
       "<Figure size 504x288 with 1 Axes>"
      ]
     },
     "metadata": {
      "needs_background": "light"
     },
     "output_type": "display_data"
    }
   ],
   "source": [
    "# Feature Importance\n",
    "plot_feature_importance(final_features, rfc_final.feature_importances_)"
   ]
  },
  {
   "cell_type": "markdown",
   "metadata": {},
   "source": [
    "# AdaBoost Classifier"
   ]
  },
  {
   "cell_type": "code",
   "execution_count": 44,
   "metadata": {},
   "outputs": [],
   "source": [
    "from sklearn.ensemble import AdaBoostClassifier"
   ]
  },
  {
   "cell_type": "code",
   "execution_count": 45,
   "metadata": {},
   "outputs": [],
   "source": [
    "abc = AdaBoostClassifier(random_state = 42)"
   ]
  },
  {
   "cell_type": "code",
   "execution_count": 46,
   "metadata": {},
   "outputs": [
    {
     "name": "stdout",
     "output_type": "stream",
     "text": [
      "Fitting 4 folds for each of 12 candidates, totalling 48 fits\n"
     ]
    },
    {
     "name": "stderr",
     "output_type": "stream",
     "text": [
      "[Parallel(n_jobs=-1)]: Using backend LokyBackend with 8 concurrent workers.\n",
      "[Parallel(n_jobs=-1)]: Done  25 tasks      | elapsed:  2.0min\n",
      "[Parallel(n_jobs=-1)]: Done  48 out of  48 | elapsed:  3.5min finished\n"
     ]
    },
    {
     "data": {
      "text/plain": [
       "GridSearchCV(cv=4, error_score='raise-deprecating',\n",
       "       estimator=AdaBoostClassifier(algorithm='SAMME.R', base_estimator=None,\n",
       "          learning_rate=1.0, n_estimators=50, random_state=42),\n",
       "       fit_params=None, iid='warn', n_jobs=-1,\n",
       "       param_grid={'n_estimators': [500, 600, 700, 800], 'learning_rate': [0.01, 0.05, 0.1]},\n",
       "       pre_dispatch='2*n_jobs', refit=True, return_train_score='warn',\n",
       "       scoring='roc_auc', verbose=2)"
      ]
     },
     "execution_count": 46,
     "metadata": {},
     "output_type": "execute_result"
    }
   ],
   "source": [
    "# GridSearch\n",
    "param_grid_abc = {'n_estimators' : [i for i in range (500,801,100)],\n",
    "                 'learning_rate' : [0.01, 0.05, 0.1]}\n",
    "\n",
    "abc_grid_cv = GridSearchCV(abc\n",
    "                           ,param_grid_abc\n",
    "                           ,cv = 4\n",
    "                           ,scoring = 'roc_auc'\n",
    "                           ,n_jobs = -1\n",
    "                           ,verbose = 2)\n",
    "\n",
    "abc_grid_cv.fit(tr_X_transformed_tree, tr_y)"
   ]
  },
  {
   "cell_type": "code",
   "execution_count": 47,
   "metadata": {},
   "outputs": [
    {
     "data": {
      "text/plain": [
       "{'learning_rate': 0.1, 'n_estimators': 500}"
      ]
     },
     "execution_count": 47,
     "metadata": {},
     "output_type": "execute_result"
    }
   ],
   "source": [
    "# Best parameters\n",
    "abc_grid_cv.best_params_"
   ]
  },
  {
   "cell_type": "code",
   "execution_count": 48,
   "metadata": {},
   "outputs": [],
   "source": [
    "# Final model\n",
    "abc_final = abc_grid_cv.best_estimator_"
   ]
  },
  {
   "cell_type": "code",
   "execution_count": 49,
   "metadata": {},
   "outputs": [],
   "source": [
    "# Fit the training set with the final model\n",
    "tr_y_pred_abc = abc_final.predict(tr_X_transformed_tree)\n",
    "tr_y_prob_abc = abc_final.predict_proba(tr_X_transformed_tree)"
   ]
  },
  {
   "cell_type": "code",
   "execution_count": 50,
   "metadata": {},
   "outputs": [],
   "source": [
    "# Fit the test set with the final model\n",
    "te_y_pred_abc = abc_final.predict(te_X_transformed_tree)\n",
    "te_y_prob_abc = abc_final.predict_proba(te_X_transformed_tree)"
   ]
  },
  {
   "cell_type": "code",
   "execution_count": 51,
   "metadata": {},
   "outputs": [
    {
     "name": "stdout",
     "output_type": "stream",
     "text": [
      "ROC AUC - Train\n",
      "0.7885193166514635\n",
      "ROC AUC - Test\n",
      "0.7785969066454167\n"
     ]
    }
   ],
   "source": [
    "# ROC AUC scores\n",
    "print('ROC AUC - Train')\n",
    "print(roc_auc_score(tr_y, tr_y_prob_abc[:,1]))\n",
    "print('ROC AUC - Test')\n",
    "print(roc_auc_score(te_y, te_y_prob_abc[:,1]))"
   ]
  },
  {
   "cell_type": "code",
   "execution_count": 52,
   "metadata": {},
   "outputs": [
    {
     "data": {
      "image/png": "[encoded data removed]",
      "text/plain": [
       "<Figure size 432x288 with 1 Axes>"
      ]
     },
     "metadata": {
      "needs_background": "light"
     },
     "output_type": "display_data"
    }
   ],
   "source": [
    "# ROC AUC curves\n",
    "fpr_abc_tr, tpr_abc_tr, thresholds_abc_tr = roc_curve(tr_y, tr_y_prob_abc[:,1])\n",
    "fpr_abc_te, tpr_abc_te, thresholds_abc_te = roc_curve(te_y, te_y_prob_abc[:,1])\n",
    "\n",
    "plot_roc_curve(fpr_abc_tr, tpr_abc_tr, \"Training\")\n",
    "plot_roc_curve(fpr_abc_te, tpr_abc_te, \"Test\")\n",
    "\n",
    "plt.title('AdaBoost Classifier', fontsize=16)\n",
    "plt.xlabel('False Positive Rate', fontsize=12)\n",
    "plt.ylabel('True Positive Rate', fontsize=12)\n",
    "plt.legend(loc=\"lower right\", fontsize=12)\n",
    "plt.show()"
   ]
  },
  {
   "cell_type": "code",
   "execution_count": 53,
   "metadata": {},
   "outputs": [
    {
     "data": {
      "image/png": "[encoded data removed]",
      "text/plain": [
       "<Figure size 504x288 with 1 Axes>"
      ]
     },
     "metadata": {
      "needs_background": "light"
     },
     "output_type": "display_data"
    }
   ],
   "source": [
    "# Feature Importance\n",
    "plot_feature_importance(final_features, abc_final.feature_importances_)"
   ]
  },
  {
   "cell_type": "markdown",
   "metadata": {},
   "source": [
    "# Extra Trees Classifier"
   ]
  },
  {
   "cell_type": "code",
   "execution_count": 54,
   "metadata": {},
   "outputs": [],
   "source": [
    "from sklearn.ensemble import ExtraTreesClassifier"
   ]
  },
  {
   "cell_type": "code",
   "execution_count": 55,
   "metadata": {},
   "outputs": [],
   "source": [
    "etc = ExtraTreesClassifier(random_state = 42)"
   ]
  },
  {
   "cell_type": "code",
   "execution_count": 56,
   "metadata": {},
   "outputs": [
    {
     "name": "stdout",
     "output_type": "stream",
     "text": [
      "Fitting 4 folds for each of 36 candidates, totalling 144 fits\n"
     ]
    },
    {
     "name": "stderr",
     "output_type": "stream",
     "text": [
      "[Parallel(n_jobs=-1)]: Using backend LokyBackend with 8 concurrent workers.\n",
      "[Parallel(n_jobs=-1)]: Done  25 tasks      | elapsed:  3.1min\n",
      "[Parallel(n_jobs=-1)]: Done 144 out of 144 | elapsed: 24.5min finished\n"
     ]
    },
    {
     "data": {
      "text/plain": [
       "GridSearchCV(cv=4, error_score='raise-deprecating',\n",
       "       estimator=ExtraTreesClassifier(bootstrap=False, class_weight=None, criterion='gini',\n",
       "           max_depth=None, max_features='auto', max_leaf_nodes=None,\n",
       "           min_impurity_decrease=0.0, min_impurity_split=None,\n",
       "           min_samples_leaf=1, min_samples_split=2,\n",
       "           min_weight_fraction_leaf=0.0, n_estimators='warn', n_jobs=None,\n",
       "           oob_score=False, random_state=42, verbose=0, warm_start=False),\n",
       "       fit_params=None, iid='warn', n_jobs=-1,\n",
       "       param_grid={'n_estimators': [500, 600, 700, 800], 'max_features': [0.4, 0.5, 0.6], 'max_depth': [8, 9, 10]},\n",
       "       pre_dispatch='2*n_jobs', refit=True, return_train_score='warn',\n",
       "       scoring='roc_auc', verbose=2)"
      ]
     },
     "execution_count": 56,
     "metadata": {},
     "output_type": "execute_result"
    }
   ],
   "source": [
    "# GridSearch\n",
    "param_grid_etc = {'n_estimators' : [i for i in range (500,801,100)],\n",
    "                 'max_features' : [i/10 for i in range (4, 7)],\n",
    "                 'max_depth' : [i for i in range(8, 11)]}\n",
    "\n",
    "etc_grid_cv = GridSearchCV(etc\n",
    "                           ,param_grid_etc\n",
    "                           ,cv = 4\n",
    "                           ,scoring = 'roc_auc'\n",
    "                           ,n_jobs = -1\n",
    "                           ,verbose = 2)\n",
    "\n",
    "etc_grid_cv.fit(tr_X_transformed_tree, tr_y)"
   ]
  },
  {
   "cell_type": "code",
   "execution_count": 57,
   "metadata": {},
   "outputs": [
    {
     "data": {
      "text/plain": [
       "{'max_depth': 10, 'max_features': 0.6, 'n_estimators': 600}"
      ]
     },
     "execution_count": 57,
     "metadata": {},
     "output_type": "execute_result"
    }
   ],
   "source": [
    "# Best parameters\n",
    "etc_grid_cv.best_params_"
   ]
  },
  {
   "cell_type": "code",
   "execution_count": 58,
   "metadata": {},
   "outputs": [],
   "source": [
    "# Final model\n",
    "etc_final = etc_grid_cv.best_estimator_"
   ]
  },
  {
   "cell_type": "code",
   "execution_count": 59,
   "metadata": {},
   "outputs": [],
   "source": [
    "# Fit the training set with the final model\n",
    "tr_y_pred_etc = etc_final.predict(tr_X_transformed_tree)\n",
    "tr_y_prob_etc = etc_final.predict_proba(tr_X_transformed_tree)"
   ]
  },
  {
   "cell_type": "code",
   "execution_count": 60,
   "metadata": {},
   "outputs": [],
   "source": [
    "# Fit the test set with the final model\n",
    "te_y_pred_etc = etc_final.predict(te_X_transformed_tree)\n",
    "te_y_prob_etc = etc_final.predict_proba(te_X_transformed_tree)"
   ]
  },
  {
   "cell_type": "code",
   "execution_count": 61,
   "metadata": {},
   "outputs": [
    {
     "name": "stdout",
     "output_type": "stream",
     "text": [
      "ROC AUC - Train\n",
      "0.8249220855314546\n",
      "ROC AUC - Test\n",
      "0.77251609554778\n"
     ]
    }
   ],
   "source": [
    "# ROC AUC scores\n",
    "print('ROC AUC - Train')\n",
    "print(roc_auc_score(tr_y, tr_y_prob_etc[:,1]))\n",
    "print('ROC AUC - Test')\n",
    "print(roc_auc_score(te_y, te_y_prob_etc[:,1]))"
   ]
  },
  {
   "cell_type": "code",
   "execution_count": 62,
   "metadata": {},
   "outputs": [
    {
     "data": {
      "image/png": "[encoded data removed]",
      "text/plain": [
       "<Figure size 432x288 with 1 Axes>"
      ]
     },
     "metadata": {
      "needs_background": "light"
     },
     "output_type": "display_data"
    }
   ],
   "source": [
    "# ROC AUC curves\n",
    "fpr_etc_tr, tpr_etc_tr, thresholds_etc_tr = roc_curve(tr_y, tr_y_prob_etc[:,1])\n",
    "fpr_etc_te, tpr_etc_te, thresholds_etc_te = roc_curve(te_y, te_y_prob_etc[:,1])\n",
    "\n",
    "plot_roc_curve(fpr_etc_tr, tpr_etc_tr, \"Training\")\n",
    "plot_roc_curve(fpr_etc_te, tpr_etc_te, \"Test\")\n",
    "\n",
    "plt.title('Extra Trees Classifier', fontsize=16)\n",
    "plt.xlabel('False Positive Rate', fontsize=12)\n",
    "plt.ylabel('True Positive Rate', fontsize=12)\n",
    "plt.legend(loc=\"lower right\", fontsize=12)\n",
    "plt.show()"
   ]
  },
  {
   "cell_type": "code",
   "execution_count": 63,
   "metadata": {},
   "outputs": [
    {
     "data": {
      "image/png": "[encoded data removed]",
      "text/plain": [
       "<Figure size 504x288 with 1 Axes>"
      ]
     },
     "metadata": {
      "needs_background": "light"
     },
     "output_type": "display_data"
    }
   ],
   "source": [
    "# Feature Importance\n",
    "plot_feature_importance(final_features, etc_final.feature_importances_)"
   ]
  },
  {
   "cell_type": "markdown",
   "metadata": {},
   "source": [
    "# Gradient Boosting Classifier (XGBoost)"
   ]
  },
  {
   "cell_type": "code",
   "execution_count": 64,
   "metadata": {},
   "outputs": [],
   "source": [
    "import xgboost as xgb"
   ]
  },
  {
   "cell_type": "code",
   "execution_count": 65,
   "metadata": {},
   "outputs": [],
   "source": [
    "xgbc = xgb.XGBClassifier(random_state = 42)"
   ]
  },
  {
   "cell_type": "code",
   "execution_count": 71,
   "metadata": {},
   "outputs": [
    {
     "name": "stdout",
     "output_type": "stream",
     "text": [
      "Fitting 4 folds for each of 45 candidates, totalling 180 fits\n"
     ]
    },
    {
     "name": "stderr",
     "output_type": "stream",
     "text": [
      "[Parallel(n_jobs=-1)]: Using backend LokyBackend with 8 concurrent workers.\n",
      "[Parallel(n_jobs=-1)]: Done  25 tasks      | elapsed:  1.7min\n",
      "[Parallel(n_jobs=-1)]: Done 146 tasks      | elapsed:  9.7min\n",
      "[Parallel(n_jobs=-1)]: Done 180 out of 180 | elapsed: 12.2min finished\n"
     ]
    },
    {
     "data": {
      "text/plain": [
       "GridSearchCV(cv=4, error_score='raise-deprecating',\n",
       "       estimator=XGBClassifier(base_score=0.5, booster='gbtree', colsample_bylevel=1,\n",
       "       colsample_bytree=1, gamma=0, learning_rate=0.1, max_delta_step=0,\n",
       "       max_depth=3, min_child_weight=1, missing=None, n_estimators=100,\n",
       "       n_jobs=1, nthread=None, objective='binary:logistic',\n",
       "       random_state=42, reg_alpha=0, reg_lambda=1, scale_pos_weight=1,\n",
       "       seed=None, silent=True, subsample=1),\n",
       "       fit_params=None, iid='warn', n_jobs=-1,\n",
       "       param_grid={'learning_rate': [0.01, 0.05, 0.1], 'max_depth': [4, 5, 6], 'subsample': [0.4, 0.5, 0.6, 0.7, 0.8], 'n_estimators': [600]},\n",
       "       pre_dispatch='2*n_jobs', refit=True, return_train_score='warn',\n",
       "       scoring='roc_auc', verbose=2)"
      ]
     },
     "execution_count": 71,
     "metadata": {},
     "output_type": "execute_result"
    }
   ],
   "source": [
    "# GridSearch\n",
    "param_grid_xgbc = {'learning_rate' : [0.01, 0.05, 0.1],\n",
    "                 'max_depth' : [i for i in range(4, 7)],\n",
    "                 'subsample' : [i/10 for i in range(4, 9)],\n",
    "                 'n_estimators' : [600]}\n",
    "\n",
    "xgbc_grid_cv = GridSearchCV(xgbc\n",
    "                           ,param_grid_xgbc\n",
    "                           ,cv = 4\n",
    "                           ,scoring = 'roc_auc'\n",
    "                           ,n_jobs = -1\n",
    "                           ,verbose = 2)\n",
    "\n",
    "xgbc_grid_cv.fit(tr_X_transformed_tree, tr_y)"
   ]
  },
  {
   "cell_type": "code",
   "execution_count": 72,
   "metadata": {},
   "outputs": [
    {
     "data": {
      "text/plain": [
       "{'learning_rate': 0.01, 'max_depth': 5, 'n_estimators': 600, 'subsample': 0.5}"
      ]
     },
     "execution_count": 72,
     "metadata": {},
     "output_type": "execute_result"
    }
   ],
   "source": [
    "# Best parameters\n",
    "xgbc_grid_cv.best_params_"
   ]
  },
  {
   "cell_type": "code",
   "execution_count": 74,
   "metadata": {},
   "outputs": [],
   "source": [
    "# Final model\n",
    "xgbc_final = xgbc_grid_cv.best_estimator_"
   ]
  },
  {
   "cell_type": "code",
   "execution_count": 75,
   "metadata": {},
   "outputs": [],
   "source": [
    "# Fit the training set with the final model\n",
    "tr_y_pred_xgbc = xgbc_final.predict(tr_X_transformed_tree)\n",
    "tr_y_prob_xgbc = xgbc_final.predict_proba(tr_X_transformed_tree)"
   ]
  },
  {
   "cell_type": "code",
   "execution_count": 76,
   "metadata": {},
   "outputs": [],
   "source": [
    "# Fit the test set with the final model\n",
    "te_y_pred_xgbc = xgbc_final.predict(te_X_transformed_tree)\n",
    "te_y_prob_xgbc = xgbc_final.predict_proba(te_X_transformed_tree)"
   ]
  },
  {
   "cell_type": "code",
   "execution_count": 77,
   "metadata": {},
   "outputs": [
    {
     "name": "stdout",
     "output_type": "stream",
     "text": [
      "ROC AUC - Train\n",
      "0.8348009429832652\n",
      "ROC AUC - Test\n",
      "0.7835764070736725\n"
     ]
    }
   ],
   "source": [
    "# ROC AUC scores\n",
    "print('ROC AUC - Train')\n",
    "print(roc_auc_score(tr_y, tr_y_prob_xgbc[:,1]))\n",
    "print('ROC AUC - Test')\n",
    "print(roc_auc_score(te_y, te_y_prob_xgbc[:,1]))"
   ]
  },
  {
   "cell_type": "code",
   "execution_count": 78,
   "metadata": {},
   "outputs": [
    {
     "data": {
      "image/png": "[encoded data removed]",
      "text/plain": [
       "<Figure size 432x288 with 1 Axes>"
      ]
     },
     "metadata": {
      "needs_background": "light"
     },
     "output_type": "display_data"
    }
   ],
   "source": [
    "# ROC AUC curves\n",
    "fpr_xgbc_tr, tpr_xgbc_tr, thresholds_xgbc_tr = roc_curve(tr_y, tr_y_prob_xgbc[:,1])\n",
    "fpr_xgbc_te, tpr_xgbc_te, thresholds_xgbc_te = roc_curve(te_y, te_y_prob_xgbc[:,1])\n",
    "\n",
    "plot_roc_curve(fpr_xgbc_tr, tpr_xgbc_tr, \"Training\")\n",
    "plot_roc_curve(fpr_xgbc_te, tpr_xgbc_te, \"Test\")\n",
    "\n",
    "plt.title('XGBoost Classifier', fontsize=16)\n",
    "plt.xlabel('False Positive Rate', fontsize=12)\n",
    "plt.ylabel('True Positive Rate', fontsize=12)\n",
    "plt.legend(loc=\"lower right\", fontsize=12)\n",
    "plt.show()"
   ]
  },
  {
   "cell_type": "code",
   "execution_count": 79,
   "metadata": {},
   "outputs": [
    {
     "data": {
      "image/png": "[encoded data removed]",
      "text/plain": [
       "<Figure size 504x288 with 1 Axes>"
      ]
     },
     "metadata": {
      "needs_background": "light"
     },
     "output_type": "display_data"
    }
   ],
   "source": [
    "# Feature Importance\n",
    "plot_feature_importance(final_features, xgbc_final.feature_importances_)"
   ]
  },
  {
   "cell_type": "markdown",
   "metadata": {},
   "source": [
    "# Logistic Regression"
   ]
  },
  {
   "cell_type": "code",
   "execution_count": 80,
   "metadata": {},
   "outputs": [],
   "source": [
    "from sklearn.linear_model import LogisticRegression"
   ]
  },
  {
   "cell_type": "code",
   "execution_count": 81,
   "metadata": {},
   "outputs": [],
   "source": [
    "lr = LogisticRegression(random_state = 42)"
   ]
  },
  {
   "cell_type": "code",
   "execution_count": 152,
   "metadata": {},
   "outputs": [
    {
     "name": "stdout",
     "output_type": "stream",
     "text": [
      "Fitting 4 folds for each of 32 candidates, totalling 128 fits\n"
     ]
    },
    {
     "name": "stderr",
     "output_type": "stream",
     "text": [
      "[Parallel(n_jobs=-1)]: Using backend LokyBackend with 8 concurrent workers.\n",
      "[Parallel(n_jobs=-1)]: Done  25 tasks      | elapsed:    5.1s\n",
      "[Parallel(n_jobs=-1)]: Done 128 out of 128 | elapsed:   29.1s finished\n",
      "D:\\Anaconda3\\lib\\site-packages\\sklearn\\linear_model\\logistic.py:433: FutureWarning: Default solver will be changed to 'lbfgs' in 0.22. Specify a solver to silence this warning.\n",
      "  FutureWarning)\n"
     ]
    },
    {
     "data": {
      "text/plain": [
       "GridSearchCV(cv=4, error_score='raise-deprecating',\n",
       "       estimator=LogisticRegression(C=1.0, class_weight=None, dual=False, fit_intercept=True,\n",
       "          intercept_scaling=1, max_iter=100, multi_class='warn',\n",
       "          n_jobs=None, penalty='l2', random_state=42, solver='warn',\n",
       "          tol=0.0001, verbose=0, warm_start=False),\n",
       "       fit_params=None, iid='warn', n_jobs=-1,\n",
       "       param_grid={'penalty': ['l1', 'l2'], 'C': [0.0001, 0.001, 0.01, 0.1, 0.2, 0.3, 1.0, 2.7825594022071245, 7.742636826811269, 21.544346900318832, 59.94842503189409, 166.81005372000593, 464.15888336127773, 1291.5496650148827, 3593.813663804626, 10000.0]},\n",
       "       pre_dispatch='2*n_jobs', refit=True, return_train_score='warn',\n",
       "       scoring='roc_auc', verbose=2)"
      ]
     },
     "execution_count": 152,
     "metadata": {},
     "output_type": "execute_result"
    }
   ],
   "source": [
    "# GridSearch\n",
    "param_grid_lr = {'penalty' : ['l1','l2'],\n",
    "                 'C' : [0.0001, 0.001, 0.01, 0.1, 0.2, 0.3] + list(np.logspace(0,4,10))}\n",
    "\n",
    "lr_grid_cv = GridSearchCV(lr\n",
    "                           ,param_grid_lr\n",
    "                           ,cv = 4\n",
    "                           ,scoring = 'roc_auc'\n",
    "                           ,refit = True\n",
    "                           ,n_jobs = -1\n",
    "                           ,verbose = 2)\n",
    "\n",
    "lr_grid_cv.fit(tr_X_transformed_tree, tr_y)"
   ]
  },
  {
   "cell_type": "code",
   "execution_count": 153,
   "metadata": {},
   "outputs": [
    {
     "data": {
      "text/plain": [
       "{'C': 0.3, 'penalty': 'l1'}"
      ]
     },
     "execution_count": 153,
     "metadata": {},
     "output_type": "execute_result"
    }
   ],
   "source": [
    "# Best parameters\n",
    "lr_grid_cv.best_params_"
   ]
  },
  {
   "cell_type": "code",
   "execution_count": 154,
   "metadata": {},
   "outputs": [],
   "source": [
    "# Final model\n",
    "lr_final = lr_grid_cv.best_estimator_"
   ]
  },
  {
   "cell_type": "code",
   "execution_count": 155,
   "metadata": {},
   "outputs": [],
   "source": [
    "# Fit the training set with the final model\n",
    "tr_y_pred_lr = lr_final.predict(tr_X_transformed_reg)\n",
    "tr_y_prob_lr = lr_final.predict_proba(tr_X_transformed_reg)"
   ]
  },
  {
   "cell_type": "code",
   "execution_count": 156,
   "metadata": {},
   "outputs": [],
   "source": [
    "# Fit the test set with the final model\n",
    "te_y_pred_lr = lr_final.predict(te_X_transformed_reg)\n",
    "te_y_prob_lr = lr_final.predict_proba(te_X_transformed_reg)"
   ]
  },
  {
   "cell_type": "code",
   "execution_count": 157,
   "metadata": {},
   "outputs": [
    {
     "name": "stdout",
     "output_type": "stream",
     "text": [
      "ROC AUC - Train\n",
      "0.7046739004779141\n",
      "ROC AUC - Test\n",
      "0.706410156204933\n"
     ]
    }
   ],
   "source": [
    "# ROC AUC scores\n",
    "print('ROC AUC - Train')\n",
    "print(roc_auc_score(tr_y, tr_y_prob_lr[:,1]))\n",
    "print('ROC AUC - Test')\n",
    "print(roc_auc_score(te_y, te_y_prob_lr[:,1]))"
   ]
  },
  {
   "cell_type": "code",
   "execution_count": 158,
   "metadata": {},
   "outputs": [
    {
     "data": {
      "image/png": "[encoded data removed]",
      "text/plain": [
       "<Figure size 432x288 with 1 Axes>"
      ]
     },
     "metadata": {
      "needs_background": "light"
     },
     "output_type": "display_data"
    }
   ],
   "source": [
    "# ROC AUC curves\n",
    "fpr_lr_tr, tpr_lr_tr, thresholds_lr_tr = roc_curve(tr_y, tr_y_prob_lr[:,1])\n",
    "fpr_lr_te, tpr_lr_te, thresholds_lr_te = roc_curve(te_y, te_y_prob_lr[:,1])\n",
    "\n",
    "plot_roc_curve(fpr_lr_tr, tpr_lr_tr, \"Training\")\n",
    "plot_roc_curve(fpr_lr_te, tpr_lr_te, \"Test\")\n",
    "\n",
    "plt.title('Logistic Regression', fontsize=16)\n",
    "plt.xlabel('False Positive Rate', fontsize=12)\n",
    "plt.ylabel('True Positive Rate', fontsize=12)\n",
    "plt.legend(loc=\"lower right\", fontsize=12)\n",
    "plt.show()"
   ]
  },
  {
   "cell_type": "markdown",
   "metadata": {},
   "source": [
    "# Questions"
   ]
  },
  {
   "cell_type": "markdown",
   "metadata": {},
   "source": [
    "What ensemble yields the best result?\n",
    "\n",
    "<pre> The XGBoost classifier yielded the best result in terms of ROC AUC scores on the test set. </pre>"
   ]
  },
  {
   "cell_type": "markdown",
   "metadata": {},
   "source": [
    "Is the feature importance consistent for all classifiers?\n",
    "\n",
    "<pre> The feature importances are not consistent across all classifiers. AdaBoost and XGBoost had similar importance rankings, while Random Forest and Extra Trees have similar importance rankings. </pre>"
   ]
  },
  {
   "cell_type": "markdown",
   "metadata": {},
   "source": [
    "\n",
    "- Stack your models. \n",
    "  - Combine the models from the previous section using the stacking approach: \n",
    "    - Choose the model use to combine. Examples are:\n",
    "      - Linear Regression\n",
    "      - Logistic Regression"
   ]
  },
  {
   "cell_type": "markdown",
   "metadata": {},
   "source": [
    "# Stacking Ensemble"
   ]
  },
  {
   "cell_type": "code",
   "execution_count": 159,
   "metadata": {},
   "outputs": [],
   "source": [
    "# All the estimators\n",
    "named_estimators = [(\"random_forest_clf\", rfc_final),\n",
    "                   (\"adaboost_clf\", abc_final),\n",
    "                   (\"extra_trees_clf\", etc_final),\n",
    "                   (\"xgboost_clf\", xgbc_final),\n",
    "                   (\"log_reg\", lr_final)]"
   ]
  },
  {
   "cell_type": "code",
   "execution_count": 160,
   "metadata": {},
   "outputs": [],
   "source": [
    "# Create a matrix that holds all of the prediction probabilities for the training set\n",
    "tr_y_prob_all = np.empty((len(tr_y), len(named_estimators)), dtype=np.float32)"
   ]
  },
  {
   "cell_type": "code",
   "execution_count": 161,
   "metadata": {},
   "outputs": [],
   "source": [
    "# Fill in the predictions for the training set\n",
    "for i, (name, est) in enumerate(named_estimators):\n",
    "    if name == \"log_reg\":\n",
    "        tr_y_prob_all[:, i] = est.predict_proba(tr_X_transformed_reg)[:,1]\n",
    "    else:\n",
    "        tr_y_prob_all[:, i] = est.predict_proba(tr_X_transformed_tree)[:,1]"
   ]
  },
  {
   "cell_type": "code",
   "execution_count": 162,
   "metadata": {},
   "outputs": [
    {
     "data": {
      "text/plain": [
       "array([[0.09157121, 0.4898722 , 0.11544751, 0.10266627, 0.22497164],\n",
       "       [0.16086584, 0.49064296, 0.16207308, 0.13931262, 0.25102267],\n",
       "       [0.11279295, 0.48727182, 0.09040434, 0.08068711, 0.12244322],\n",
       "       ...,\n",
       "       [0.24106304, 0.4952387 , 0.14796098, 0.21341893, 0.06605121],\n",
       "       [0.26401195, 0.49290544, 0.20191689, 0.23457278, 0.23735082],\n",
       "       [0.17012475, 0.49143276, 0.14355579, 0.12702197, 0.06989754]],\n",
       "      dtype=float32)"
      ]
     },
     "execution_count": 162,
     "metadata": {},
     "output_type": "execute_result"
    }
   ],
   "source": [
    "tr_y_prob_all"
   ]
  },
  {
   "cell_type": "code",
   "execution_count": 163,
   "metadata": {},
   "outputs": [],
   "source": [
    "# Create a matrix that holds all of the prediction probabilities for the test set\n",
    "te_y_prob_all = np.empty((len(te_y), len(named_estimators)), dtype=np.float32)"
   ]
  },
  {
   "cell_type": "code",
   "execution_count": 164,
   "metadata": {},
   "outputs": [],
   "source": [
    "# Fill in the predictions for the test set\n",
    "for i, (name, est) in enumerate(named_estimators):\n",
    "    if name == \"log_reg\":\n",
    "        te_y_prob_all[:, i] = est.predict_proba(te_X_transformed_reg)[:,1]\n",
    "    else:\n",
    "        te_y_prob_all[:, i] = est.predict_proba(te_X_transformed_tree)[:,1]"
   ]
  },
  {
   "cell_type": "code",
   "execution_count": 165,
   "metadata": {},
   "outputs": [
    {
     "data": {
      "text/plain": [
       "array([[0.15227133, 0.49129048, 0.16929814, 0.17676124, 0.24755402],\n",
       "       [0.08689722, 0.4887025 , 0.07642807, 0.08467972, 0.2382078 ],\n",
       "       [0.14557034, 0.4903429 , 0.11791239, 0.13294466, 0.2603272 ],\n",
       "       ...,\n",
       "       [0.12989268, 0.4920229 , 0.16996482, 0.1512287 , 0.2801577 ],\n",
       "       [0.15845214, 0.49524507, 0.1672761 , 0.15667196, 0.31071308],\n",
       "       [0.14822064, 0.48900414, 0.17402339, 0.10372309, 0.31494886]],\n",
       "      dtype=float32)"
      ]
     },
     "execution_count": 165,
     "metadata": {},
     "output_type": "execute_result"
    }
   ],
   "source": [
    "te_y_prob_all"
   ]
  },
  {
   "cell_type": "markdown",
   "metadata": {},
   "source": [
    "## Stacking - Logistic Regression"
   ]
  },
  {
   "cell_type": "code",
   "execution_count": 166,
   "metadata": {},
   "outputs": [],
   "source": [
    "lr_blender = LogisticRegression(random_state = 42)"
   ]
  },
  {
   "cell_type": "code",
   "execution_count": 168,
   "metadata": {},
   "outputs": [
    {
     "name": "stdout",
     "output_type": "stream",
     "text": [
      "Fitting 4 folds for each of 32 candidates, totalling 128 fits\n"
     ]
    },
    {
     "name": "stderr",
     "output_type": "stream",
     "text": [
      "[Parallel(n_jobs=-1)]: Using backend LokyBackend with 8 concurrent workers.\n",
      "[Parallel(n_jobs=-1)]: Done  48 out of 128 | elapsed:    5.2s remaining:    8.7s\n",
      "[Parallel(n_jobs=-1)]: Done 128 out of 128 | elapsed:  1.5min finished\n",
      "D:\\Anaconda3\\lib\\site-packages\\sklearn\\linear_model\\logistic.py:433: FutureWarning: Default solver will be changed to 'lbfgs' in 0.22. Specify a solver to silence this warning.\n",
      "  FutureWarning)\n"
     ]
    },
    {
     "data": {
      "text/plain": [
       "GridSearchCV(cv=4, error_score='raise-deprecating',\n",
       "       estimator=LogisticRegression(C=1.0, class_weight=None, dual=False, fit_intercept=True,\n",
       "          intercept_scaling=1, max_iter=100, multi_class='warn',\n",
       "          n_jobs=None, penalty='l2', random_state=42, solver='warn',\n",
       "          tol=0.0001, verbose=0, warm_start=False),\n",
       "       fit_params=None, iid='warn', n_jobs=-1,\n",
       "       param_grid={'penalty': ['l1', 'l2'], 'C': [0.0001, 0.001, 0.01, 0.1, 0.2, 0.3, 1.0, 2.7825594022071245, 7.742636826811269, 21.544346900318832, 59.94842503189409, 166.81005372000593, 464.15888336127773, 1291.5496650148827, 3593.813663804626, 10000.0]},\n",
       "       pre_dispatch='2*n_jobs', refit=True, return_train_score='warn',\n",
       "       scoring='roc_auc', verbose=2)"
      ]
     },
     "execution_count": 168,
     "metadata": {},
     "output_type": "execute_result"
    }
   ],
   "source": [
    "# GridSearch\n",
    "param_grid_lr_blender = {'penalty' : ['l1','l2'],\n",
    "                 'C' : [0.0001, 0.001, 0.01, 0.1, 0.2, 0.3] + list(np.logspace(0,4,10))}\n",
    "\n",
    "lr_blender_grid_cv = GridSearchCV(lr_blender\n",
    "                           ,param_grid_lr_blender\n",
    "                           ,cv = 4\n",
    "                           ,scoring = 'roc_auc'\n",
    "                           ,n_jobs = -1\n",
    "                           ,verbose = 2)\n",
    "\n",
    "lr_blender_grid_cv.fit(tr_y_prob_all, tr_y)"
   ]
  },
  {
   "cell_type": "code",
   "execution_count": 169,
   "metadata": {},
   "outputs": [
    {
     "data": {
      "text/plain": [
       "{'C': 2.7825594022071245, 'penalty': 'l2'}"
      ]
     },
     "execution_count": 169,
     "metadata": {},
     "output_type": "execute_result"
    }
   ],
   "source": [
    "# Best parameters\n",
    "lr_blender_grid_cv.best_params_"
   ]
  },
  {
   "cell_type": "code",
   "execution_count": 171,
   "metadata": {},
   "outputs": [],
   "source": [
    "# Final model\n",
    "lr_blender_final = lr_blender_grid_cv.best_estimator_"
   ]
  },
  {
   "cell_type": "code",
   "execution_count": 172,
   "metadata": {},
   "outputs": [],
   "source": [
    "# Fit the training set with the final model\n",
    "tr_y_pred_lr_blender = lr_blender_final.predict(tr_y_prob_all)\n",
    "tr_y_prob_lr_blender = lr_blender_final.predict_proba(tr_y_prob_all)"
   ]
  },
  {
   "cell_type": "code",
   "execution_count": 173,
   "metadata": {},
   "outputs": [],
   "source": [
    "# Fit the test set with the final model\n",
    "te_y_pred_lr_blender = lr_blender_final.predict(te_y_prob_all)\n",
    "te_y_prob_lr_blender = lr_blender_final.predict_proba(te_y_prob_all)"
   ]
  },
  {
   "cell_type": "code",
   "execution_count": 174,
   "metadata": {},
   "outputs": [
    {
     "name": "stdout",
     "output_type": "stream",
     "text": [
      "ROC AUC - Train\n",
      "0.8832320161674276\n",
      "ROC AUC - Test\n",
      "0.731441554324312\n"
     ]
    }
   ],
   "source": [
    "# ROC AUC scores\n",
    "print('ROC AUC - Train')\n",
    "print(roc_auc_score(tr_y, tr_y_prob_lr_blender[:,1]))\n",
    "print('ROC AUC - Test')\n",
    "print(roc_auc_score(te_y, te_y_prob_lr_blender[:,1]))"
   ]
  },
  {
   "cell_type": "code",
   "execution_count": 175,
   "metadata": {},
   "outputs": [
    {
     "data": {
      "image/png": "[encoded data removed]",
      "text/plain": [
       "<Figure size 432x288 with 1 Axes>"
      ]
     },
     "metadata": {
      "needs_background": "light"
     },
     "output_type": "display_data"
    }
   ],
   "source": [
    "# ROC AUC curves\n",
    "fpr_lr_blender_tr, tpr_lr_blender_tr, thresholds_lr_blender_tr = roc_curve(tr_y, tr_y_prob_lr_blender[:,1])\n",
    "fpr_lr_blender_te, tpr_lr_blender_te, thresholds_lr_blender_te = roc_curve(te_y, te_y_prob_lr_blender[:,1])\n",
    "\n",
    "plot_roc_curve(fpr_lr_blender_tr, tpr_lr_blender_tr, \"Training\")\n",
    "plot_roc_curve(fpr_lr_blender_te, tpr_lr_blender_te, \"Test\")\n",
    "\n",
    "plt.title('Stacking - Logistic Regression', fontsize=16)\n",
    "plt.xlabel('False Positive Rate', fontsize=12)\n",
    "plt.ylabel('True Positive Rate', fontsize=12)\n",
    "plt.legend(loc=\"lower right\", fontsize=12)\n",
    "plt.show()"
   ]
  },
  {
   "cell_type": "markdown",
   "metadata": {},
   "source": [
    "## Stacking - XGBoost Classifier"
   ]
  },
  {
   "cell_type": "code",
   "execution_count": 177,
   "metadata": {},
   "outputs": [],
   "source": [
    "xgbc_blender = xgb.XGBClassifier(random_state = 42)"
   ]
  },
  {
   "cell_type": "code",
   "execution_count": 195,
   "metadata": {},
   "outputs": [
    {
     "name": "stdout",
     "output_type": "stream",
     "text": [
      "Fitting 4 folds for each of 16 candidates, totalling 64 fits\n"
     ]
    },
    {
     "name": "stderr",
     "output_type": "stream",
     "text": [
      "[Parallel(n_jobs=-1)]: Using backend LokyBackend with 8 concurrent workers.\n",
      "[Parallel(n_jobs=-1)]: Done  25 tasks      | elapsed:   41.5s\n",
      "[Parallel(n_jobs=-1)]: Done  64 out of  64 | elapsed:  1.4min finished\n"
     ]
    },
    {
     "data": {
      "text/plain": [
       "GridSearchCV(cv=4, error_score='raise-deprecating',\n",
       "       estimator=XGBClassifier(base_score=0.5, booster='gbtree', colsample_bylevel=1,\n",
       "       colsample_bytree=1, gamma=0, learning_rate=0.1, max_delta_step=0,\n",
       "       max_depth=3, min_child_weight=1, missing=None, n_estimators=100,\n",
       "       n_jobs=1, nthread=None, objective='binary:logistic',\n",
       "       random_state=42, reg_alpha=0, reg_lambda=1, scale_pos_weight=1,\n",
       "       seed=None, silent=True, subsample=1),\n",
       "       fit_params=None, iid='warn', n_jobs=-1,\n",
       "       param_grid={'learning_rate': [0.1, 0.2], 'max_depth': [5, 6], 'subsample': [0.5, 0.6, 0.7, 0.8], 'n_estimators': [600]},\n",
       "       pre_dispatch='2*n_jobs', refit=True, return_train_score='warn',\n",
       "       scoring='roc_auc', verbose=2)"
      ]
     },
     "execution_count": 195,
     "metadata": {},
     "output_type": "execute_result"
    }
   ],
   "source": [
    "# GridSearch\n",
    "param_grid_xgbc_blender = {'learning_rate' : [0.1, 0.2],\n",
    "                         'max_depth' : [i for i in range(5, 7)],\n",
    "                         'subsample' : [i/10 for i in range(5, 9)],\n",
    "                         'n_estimators' : [600]}\n",
    "\n",
    "xgbc_blender_grid_cv = GridSearchCV(xgbc_blender\n",
    "                           ,param_grid_xgbc_blender\n",
    "                           ,cv = 4\n",
    "                           ,scoring = 'roc_auc'\n",
    "                           ,n_jobs = -1\n",
    "                           ,verbose = 2)\n",
    "\n",
    "xgbc_blender_grid_cv.fit(tr_y_prob_all, tr_y)"
   ]
  },
  {
   "cell_type": "code",
   "execution_count": 196,
   "metadata": {},
   "outputs": [
    {
     "data": {
      "text/plain": [
       "{'learning_rate': 0.1, 'max_depth': 5, 'n_estimators': 600, 'subsample': 0.8}"
      ]
     },
     "execution_count": 196,
     "metadata": {},
     "output_type": "execute_result"
    }
   ],
   "source": [
    "# Best parameters\n",
    "xgbc_blender_grid_cv.best_params_"
   ]
  },
  {
   "cell_type": "code",
   "execution_count": 197,
   "metadata": {},
   "outputs": [],
   "source": [
    "# Final model\n",
    "xgbc_blender_final = xgbc_blender_grid_cv.best_estimator_"
   ]
  },
  {
   "cell_type": "code",
   "execution_count": 198,
   "metadata": {},
   "outputs": [],
   "source": [
    "# Fit the training set with the final model\n",
    "tr_y_pred_xgbc_blender = xgbc_blender_final.predict(tr_y_prob_all)\n",
    "tr_y_prob_xgbc_blender = xgbc_blender_final.predict_proba(tr_y_prob_all)"
   ]
  },
  {
   "cell_type": "code",
   "execution_count": 199,
   "metadata": {},
   "outputs": [],
   "source": [
    "# Fit the test set with the final model\n",
    "te_y_pred_xgbc_blender = xgbc_blender_final.predict(te_y_prob_all)\n",
    "te_y_prob_xgbc_blender = xgbc_blender_final.predict_proba(te_y_prob_all)"
   ]
  },
  {
   "cell_type": "code",
   "execution_count": 200,
   "metadata": {},
   "outputs": [
    {
     "name": "stdout",
     "output_type": "stream",
     "text": [
      "ROC AUC - Train\n",
      "0.988081369357365\n",
      "ROC AUC - Test\n",
      "0.6955952935563698\n"
     ]
    }
   ],
   "source": [
    "# ROC AUC scores\n",
    "print('ROC AUC - Train')\n",
    "print(roc_auc_score(tr_y, tr_y_prob_xgbc_blender[:,1]))\n",
    "print('ROC AUC - Test')\n",
    "print(roc_auc_score(te_y, te_y_prob_xgbc_blender[:,1]))"
   ]
  },
  {
   "cell_type": "code",
   "execution_count": 201,
   "metadata": {},
   "outputs": [
    {
     "data": {
      "image/png": "[encoded data removed]",
      "text/plain": [
       "<Figure size 432x288 with 1 Axes>"
      ]
     },
     "metadata": {
      "needs_background": "light"
     },
     "output_type": "display_data"
    }
   ],
   "source": [
    "# ROC AUC curves\n",
    "fpr_xgbc_blender_tr, tpr_xgbc_blender_tr, thresholds_xgbc_blender_tr = roc_curve(tr_y, tr_y_prob_xgbc_blender[:,1])\n",
    "fpr_xgbc_blender_te, tpr_xgbc_blender_te, thresholds_xgbc_blender_te = roc_curve(te_y, te_y_prob_xgbc_blender[:,1])\n",
    "\n",
    "plot_roc_curve(fpr_xgbc_blender_tr, tpr_xgbc_blender_tr, \"Training\")\n",
    "plot_roc_curve(fpr_xgbc_blender_te, tpr_xgbc_blender_te, \"Test\")\n",
    "\n",
    "plt.title('Stacking - XGBoost Classifier', fontsize=16)\n",
    "plt.xlabel('False Positive Rate', fontsize=12)\n",
    "plt.ylabel('True Positive Rate', fontsize=12)\n",
    "plt.legend(loc=\"lower right\", fontsize=12)\n",
    "plt.show()"
   ]
  },
  {
   "cell_type": "code",
   "execution_count": 202,
   "metadata": {},
   "outputs": [
    {
     "data": {
      "image/png": "[encoded data removed]",
      "text/plain": [
       "<Figure size 504x288 with 1 Axes>"
      ]
     },
     "metadata": {
      "needs_background": "light"
     },
     "output_type": "display_data"
    }
   ],
   "source": [
    "# Feature Importance\n",
    "plot_feature_importance([name for i, (name, est) in enumerate(named_estimators)], xgbc_blender_final.feature_importances_)"
   ]
  },
  {
   "cell_type": "markdown",
   "metadata": {},
   "source": [
    "#### Conclusions?"
   ]
  },
  {
   "cell_type": "markdown",
   "metadata": {},
   "source": [
    "Explain your results and choices"
   ]
  },
  {
   "cell_type": "markdown",
   "metadata": {},
   "source": [
    "- Stacking using Logistic Regression does not improve the performance compared to just using the XGBoost Classifier\n",
    "- Stacking using XGBoost also does not improve the performance. It is severely overfitting"
   ]
  },
  {
   "cell_type": "markdown",
   "metadata": {},
   "source": [
    "Q. (Optional) If a Decision Tree is overfitting the training set, is it a good idea to try decreasing max_depth?"
   ]
  },
  {
   "cell_type": "markdown",
   "metadata": {},
   "source": [
    "Yes"
   ]
  },
  {
   "cell_type": "markdown",
   "metadata": {},
   "source": [
    "Q. (Optional) If a Decision Tree is underfitting the training set, is it a good idea to try scaling the input features?"
   ]
  },
  {
   "cell_type": "markdown",
   "metadata": {},
   "source": [
    "Scaling should not affect the training effectiveness. Instead, try to increase `max_depth` or get more data."
   ]
  },
  {
   "cell_type": "markdown",
   "metadata": {},
   "source": [
    "Q. (Optional) What is the difference between hard and soft voting classifiers?"
   ]
  },
  {
   "cell_type": "markdown",
   "metadata": {},
   "source": [
    "Hard-voting looks only at the predicted value (i.e. 0 or 1) in the estimators and selects the majority value, while soft-voting looks at the predicted proabilities (i.e. from 0 to 1) and calcuates the average probabilities and determines the value based on that"
   ]
  },
  {
   "cell_type": "markdown",
   "metadata": {},
   "source": [
    "Q. (Optional) If your AdaBoost ensemble underfits the training data, what hyperparameters should you tweak and how?"
   ]
  },
  {
   "cell_type": "markdown",
   "metadata": {},
   "source": [
    "I would increase `n_estimators` and decrease the `learning_rate`"
   ]
  },
  {
   "cell_type": "markdown",
   "metadata": {},
   "source": [
    "Q. (Optional) If your Gradient Boosting ensemble overfits the training set, should you increase or decrease the learning rate?"
   ]
  },
  {
   "cell_type": "markdown",
   "metadata": {},
   "source": [
    "Increase"
   ]
  },
  {
   "cell_type": "markdown",
   "metadata": {},
   "source": [
    "### Conclusions\n"
   ]
  },
  {
   "cell_type": "markdown",
   "metadata": {},
   "source": [
    "An individual XGBoost model is the best option"
   ]
  },
  {
   "cell_type": "markdown",
   "metadata": {},
   "source": [
    "### Submit your notebook\n",
    "\n",
    "Submit your solution here\n",
    "https://goo.gl/forms/VKD7Zwu54oHjutDc2\n",
    "Make sure you rename your notebook to    \n",
    "W3_UTORid.ipynb    \n",
    "Example W3_adfasd01.ipynb\n"
   ]
  },
  {
   "cell_type": "code",
   "execution_count": null,
   "metadata": {},
   "outputs": [],
   "source": []
  }
 ],
 "metadata": {
  "anaconda-cloud": {},
  "kernelspec": {
   "display_name": "Python 3",
   "language": "python",
   "name": "python3"
  },
  "language_info": {
   "codemirror_mode": {
    "name": "ipython",
    "version": 3
   },
   "file_extension": ".py",
   "mimetype": "text/x-python",
   "name": "python",
   "nbconvert_exporter": "python",
   "pygments_lexer": "ipython3",
   "version": "3.6.8"
  }
 },
 "nbformat": 4,
 "nbformat_minor": 2
}
