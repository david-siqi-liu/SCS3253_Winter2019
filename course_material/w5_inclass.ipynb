{
 "cells": [
  {
   "cell_type": "markdown",
   "metadata": {},
   "source": [
    "# Lasso, Ridge, Logistic Regression\n",
    "\n"
   ]
  },
  {
   "cell_type": "code",
   "execution_count": 23,
   "metadata": {},
   "outputs": [],
   "source": [
    "#imports\n",
    "%matplotlib inline\n",
    "\n",
    "import matplotlib.pyplot as plt\n",
    "import numpy as np\n",
    "\n",
    "from sklearn import datasets\n",
    "import sklearn.datasets\n",
    "from sklearn import linear_model\n",
    "from sklearn.model_selection import train_test_split\n",
    "from sklearn import neighbors\n"
   ]
  },
  {
   "cell_type": "markdown",
   "metadata": {},
   "source": [
    "# Lasso Regression\n",
    "\n",
    "Run Lasso Regression with CV to find alpha on the California Housing dataset using Scikit-Learn\n"
   ]
  },
  {
   "cell_type": "code",
   "execution_count": 9,
   "metadata": {},
   "outputs": [],
   "source": [
    "#Load the data\n",
    "\n",
    "dataset = datasets.fetch_california_housing()\n",
    "X = dataset['data']\n",
    "y = dataset['target']\n",
    "X_train, X_test, y_train, y_test = train_test_split(X, y, test_size=0.25, random_state=0)\n"
   ]
  },
  {
   "cell_type": "code",
   "execution_count": null,
   "metadata": {},
   "outputs": [],
   "source": [
    "#Train model for different values of alpha\n",
    "\n",
    "alphas = np.logspace(-4, -1, 10)\n",
    "scores = np.empty_like(alphas)\n",
    "for i,a in enumerate(alphas):\n",
    "    lasso = #Lasso regression model\n",
    "    lasso. # set the alpha parameter to a\n",
    "    lasso. # fit the data\n",
    "    scores[i] = lasso # score the  model on the testing set\n",
    "    print(\"********\\nalpha\", a)\n",
    "    print(\"coeff\", lasso.coef_)\n",
    "    print(\"score\", scores[i])"
   ]
  },
  {
   "cell_type": "code",
   "execution_count": null,
   "metadata": {
    "collapsed": true
   },
   "outputs": [],
   "source": [
    "#Which alpha would you choose?"
   ]
  },
  {
   "cell_type": "code",
   "execution_count": 18,
   "metadata": {},
   "outputs": [
    {
     "name": "stdout",
     "output_type": "stream",
     "text": [
      "CV [ 3.81485543e-01  1.12872676e-02  2.20440782e-03  0.00000000e+00\n",
      "  1.88778147e-06 -3.51349405e-03 -3.39002345e-01 -3.39456784e-01]\n",
      "alpha 0.032210926610651135\n"
     ]
    }
   ],
   "source": [
    "# Sklearn LassoCV\n",
    "\n",
    "# 1. Read the documentation for LassoCV\n",
    "\n",
    "lassocv = #instanciate model with cv = 5, try other values for cv, do you notice any difference?\n",
    "lassocv # fit the model\n",
    "lassocv_score = # scores from model\n",
    "lassocv_alpha = # alpha values\n",
    "print('CV', lassocv.coef_)\n",
    "print('alpha', lassocv_alpha)\n"
   ]
  },
  {
   "cell_type": "code",
   "execution_count": 17,
   "metadata": {},
   "outputs": [
    {
     "data": {
      "image/png": "[encoded data removed]",
      "text/plain": [
       "<matplotlib.figure.Figure at 0x1a0fe69160>"
      ]
     },
     "metadata": {},
     "output_type": "display_data"
    }
   ],
   "source": [
    "#Plot\n",
    "plt.plot(alphas, scores, '-ko')\n",
    "plt.axhline(lassocv_score, color='b', ls='--')\n",
    "plt.axvline(lassocv_alpha, color='b', ls='--')\n",
    "plt.xlabel(r'$\\alpha$')\n",
    "plt.ylabel('Score')\n",
    "plt.xscale('log')\n",
    "#sns.despine(offset=15)"
   ]
  },
  {
   "cell_type": "markdown",
   "metadata": {},
   "source": [
    "## Ridge Regression\n",
    "\n",
    "\n",
    "Each color in the example represents a different feature of the coefficient vector, and this is displayed as a function of the regularization parameter.\n",
    "\n",
    "This example also shows the usefulness of applying Ridge regression to highly ill-conditioned matrices. For such matrices, a slight change in the target variable can cause huge variances in the calculated weights. In such cases, it is useful to set a certain regularization (alpha) to reduce this variation (noise).\n",
    "\n",
    "When alpha is very large, the regularization effect dominates the squared loss function and the coefficients tend to zero. At the end of the path, as alpha tends toward zero and the solution tends towards the ordinary least squares, coefficients exhibit big oscillations. In practise it is necessary to tune alpha in such a way that a balance is maintained between both."
   ]
  },
  {
   "cell_type": "code",
   "execution_count": 19,
   "metadata": {
    "collapsed": true
   },
   "outputs": [],
   "source": [
    "# X is the 10x10 Hilbert matrix\n",
    "X = 1. / (np.arange(1, 11) + np.arange(0, 10)[:, np.newaxis])\n",
    "y = np.ones(10)"
   ]
  },
  {
   "cell_type": "code",
   "execution_count": 20,
   "metadata": {},
   "outputs": [
    {
     "data": {
      "text/plain": [
       "(array([[1.        , 0.5       , 0.33333333, 0.25      , 0.2       ,\n",
       "         0.16666667, 0.14285714, 0.125     , 0.11111111, 0.1       ],\n",
       "        [0.5       , 0.33333333, 0.25      , 0.2       , 0.16666667,\n",
       "         0.14285714, 0.125     , 0.11111111, 0.1       , 0.09090909],\n",
       "        [0.33333333, 0.25      , 0.2       , 0.16666667, 0.14285714,\n",
       "         0.125     , 0.11111111, 0.1       , 0.09090909, 0.08333333],\n",
       "        [0.25      , 0.2       , 0.16666667, 0.14285714, 0.125     ,\n",
       "         0.11111111, 0.1       , 0.09090909, 0.08333333, 0.07692308],\n",
       "        [0.2       , 0.16666667, 0.14285714, 0.125     , 0.11111111,\n",
       "         0.1       , 0.09090909, 0.08333333, 0.07692308, 0.07142857],\n",
       "        [0.16666667, 0.14285714, 0.125     , 0.11111111, 0.1       ,\n",
       "         0.09090909, 0.08333333, 0.07692308, 0.07142857, 0.06666667],\n",
       "        [0.14285714, 0.125     , 0.11111111, 0.1       , 0.09090909,\n",
       "         0.08333333, 0.07692308, 0.07142857, 0.06666667, 0.0625    ],\n",
       "        [0.125     , 0.11111111, 0.1       , 0.09090909, 0.08333333,\n",
       "         0.07692308, 0.07142857, 0.06666667, 0.0625    , 0.05882353],\n",
       "        [0.11111111, 0.1       , 0.09090909, 0.08333333, 0.07692308,\n",
       "         0.07142857, 0.06666667, 0.0625    , 0.05882353, 0.05555556],\n",
       "        [0.1       , 0.09090909, 0.08333333, 0.07692308, 0.07142857,\n",
       "         0.06666667, 0.0625    , 0.05882353, 0.05555556, 0.05263158]]),\n",
       " array([1., 1., 1., 1., 1., 1., 1., 1., 1., 1.]))"
      ]
     },
     "execution_count": 20,
     "metadata": {},
     "output_type": "execute_result"
    }
   ],
   "source": [
    "X, y"
   ]
  },
  {
   "cell_type": "code",
   "execution_count": 21,
   "metadata": {
    "collapsed": true
   },
   "outputs": [],
   "source": [
    "# #############################################################################\n",
    "# Compute paths\n",
    "\n",
    "n_alphas = 200\n",
    "alphas = np.logspace(-10, -2, n_alphas)\n",
    "\n",
    "coefs = []\n",
    "for a in alphas:\n",
    "    ridge = # Ridge regression with alpha = a and no intercept\n",
    "    ridge # fit model\n",
    "    coefs # add coefficient to array"
   ]
  },
  {
   "cell_type": "code",
   "execution_count": 22,
   "metadata": {},
   "outputs": [
    {
     "data": {
      "image/png": "[encoded data removed]",
      "text/plain": [
       "<matplotlib.figure.Figure at 0x1a1db82358>"
      ]
     },
     "metadata": {},
     "output_type": "display_data"
    }
   ],
   "source": [
    "# #############################################################################\n",
    "# Display results\n",
    "\n",
    "ax = plt.gca()\n",
    "\n",
    "ax.plot(alphas, coefs)\n",
    "ax.set_xscale('log')\n",
    "ax.set_xlim(ax.get_xlim()[::-1])  # reverse axis\n",
    "plt.xlabel('alpha')\n",
    "plt.ylabel('weights')\n",
    "plt.title('Ridge coefficients as a function of the regularization')\n",
    "plt.axis('tight')\n",
    "plt.show()"
   ]
  },
  {
   "cell_type": "code",
   "execution_count": null,
   "metadata": {
    "collapsed": true
   },
   "outputs": [],
   "source": [
    "# Reference: https://scikit-learn.org/stable/auto_examples/linear_model/plot_ridge_path.html#sphx-glr-auto-examples-linear-model-plot-ridge-path-py"
   ]
  },
  {
   "cell_type": "markdown",
   "metadata": {},
   "source": [
    "# Logistic Regression\n",
    "\n",
    "### Digits Classification Exercise\n"
   ]
  },
  {
   "cell_type": "code",
   "execution_count": 24,
   "metadata": {
    "collapsed": true
   },
   "outputs": [],
   "source": [
    "\n",
    "digits = datasets.load_digits()\n",
    "X_digits = digits.data / digits.data.max()\n",
    "y_digits = digits.target\n",
    "\n",
    "n_samples = len(X_digits)\n"
   ]
  },
  {
   "cell_type": "code",
   "execution_count": 28,
   "metadata": {},
   "outputs": [],
   "source": [
    "# Split data\n",
    "X_train = X_digits[:int(.9 * n_samples)]\n",
    "y_train = y_digits[:int(.9 * n_samples)]\n",
    "X_test = X_digits[int(.9 * n_samples):]\n",
    "y_test = y_digits[int(.9 * n_samples):]\n",
    "\n"
   ]
  },
  {
   "cell_type": "code",
   "execution_count": null,
   "metadata": {},
   "outputs": [],
   "source": [
    "knn = neighbors.KNeighborsClassifier()\n",
    "logistic = # logistic regression: select solver, max_iter, and remember this is a multi-class problem\n",
    "\n",
    "# try different values for the regularization parameter C, do you notice any difference?"
   ]
  },
  {
   "cell_type": "code",
   "execution_count": 30,
   "metadata": {},
   "outputs": [
    {
     "name": "stdout",
     "output_type": "stream",
     "text": [
      "KNN score: 0.961111\n",
      "LogisticRegression score: 0.933333\n"
     ]
    }
   ],
   "source": [
    "# Score in the testing set\n",
    "print('KNN score: %f' % knn.fit(X_train, y_train).score(X_test, y_test))\n",
    "print('LogisticRegression score: %f'\n",
    "      % logistic.fit(X_train, y_train).score(X_test, y_test))"
   ]
  },
  {
   "cell_type": "code",
   "execution_count": null,
   "metadata": {
    "collapsed": true
   },
   "outputs": [],
   "source": []
  }
 ],
 "metadata": {
  "kernelspec": {
   "display_name": "Python [default]",
   "language": "python",
   "name": "python3"
  },
  "language_info": {
   "codemirror_mode": {
    "name": "ipython",
    "version": 3
   },
   "file_extension": ".py",
   "mimetype": "text/x-python",
   "name": "python",
   "nbconvert_exporter": "python",
   "pygments_lexer": "ipython3",
   "version": "3.5.4"
  }
 },
 "nbformat": 4,
 "nbformat_minor": 2
}
