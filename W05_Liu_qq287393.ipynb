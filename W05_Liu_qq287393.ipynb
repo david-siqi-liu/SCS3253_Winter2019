{
 "cells": [
  {
   "cell_type": "markdown",
   "metadata": {},
   "source": [
    "## Assignment for Module 5, Training Models\n",
    "\n",
    "In this assignment you will train different models on a given data set, and find the one that performs best"
   ]
  },
  {
   "cell_type": "markdown",
   "metadata": {},
   "source": [
    "### Getting the data for the assignment (similar to the notebook from chapter 2 of Hands-On...)"
   ]
  },
  {
   "cell_type": "code",
   "execution_count": 1,
   "metadata": {},
   "outputs": [],
   "source": [
    "import os\n",
    "import tarfile\n",
    "from six.moves import urllib\n",
    "\n",
    "DOWNLOAD_ROOT = \"https://raw.githubusercontent.com/ageron/handson-ml/master/\"\n",
    "HOUSING_PATH = os.path.join(\"datasets\", \"housing\")\n",
    "HOUSING_URL = DOWNLOAD_ROOT + \"datasets/housing/housing.tgz\"\n",
    "\n",
    "def fetch_housing_data(housing_url=HOUSING_URL, housing_path=HOUSING_PATH):\n",
    "    if not os.path.isdir(housing_path):\n",
    "        os.makedirs(housing_path)\n",
    "    tgz_path = os.path.join(housing_path, \"housing.tgz\")\n",
    "    urllib.request.urlretrieve(housing_url, tgz_path)\n",
    "    housing_tgz = tarfile.open(tgz_path)\n",
    "    housing_tgz.extractall(path=housing_path)\n",
    "    housing_tgz.close()"
   ]
  },
  {
   "cell_type": "code",
   "execution_count": 2,
   "metadata": {},
   "outputs": [],
   "source": [
    "fetch_housing_data()"
   ]
  },
  {
   "cell_type": "code",
   "execution_count": 3,
   "metadata": {},
   "outputs": [],
   "source": [
    "import pandas as pd\n",
    "\n",
    "def load_housing_data(housing_path=HOUSING_PATH):\n",
    "    csv_path = os.path.join(housing_path, \"housing.csv\")\n",
    "    return pd.read_csv(csv_path)"
   ]
  },
  {
   "cell_type": "code",
   "execution_count": 4,
   "metadata": {},
   "outputs": [],
   "source": [
    "housing = load_housing_data()"
   ]
  },
  {
   "cell_type": "markdown",
   "metadata": {},
   "source": [
    "### Fix the categories in the categorical variable"
   ]
  },
  {
   "cell_type": "code",
   "execution_count": 5,
   "metadata": {},
   "outputs": [],
   "source": [
    "d = {'<1H OCEAN':'LESS_1H_OCEAN', 'INLAND':'INLAND', 'ISLAND':'ISLAND', 'NEAR BAY':'NEAR_BAY', 'NEAR OCEAN':'NEAR_OCEAN'}\n",
    "housing['ocean_proximity'] = housing['ocean_proximity'].map(lambda s: d[s])"
   ]
  },
  {
   "cell_type": "markdown",
   "metadata": {},
   "source": [
    "### Add 2 more features"
   ]
  },
  {
   "cell_type": "code",
   "execution_count": 6,
   "metadata": {},
   "outputs": [],
   "source": [
    "housing[\"rooms_per_household\"] = housing[\"total_rooms\"]/housing[\"households\"]\n",
    "housing[\"population_per_household\"]=housing[\"population\"]/housing[\"households\"]"
   ]
  },
  {
   "cell_type": "markdown",
   "metadata": {},
   "source": [
    "### Fix missing data"
   ]
  },
  {
   "cell_type": "code",
   "execution_count": 7,
   "metadata": {},
   "outputs": [],
   "source": [
    "median = housing[\"total_bedrooms\"].median()\n",
    "housing[\"total_bedrooms\"].fillna(median, inplace=True) "
   ]
  },
  {
   "cell_type": "markdown",
   "metadata": {},
   "source": [
    "### Create dummy variables based on the categorical variable"
   ]
  },
  {
   "cell_type": "code",
   "execution_count": 8,
   "metadata": {},
   "outputs": [],
   "source": [
    "one_hot = pd.get_dummies(housing['ocean_proximity'])\n",
    "housing = housing.drop('ocean_proximity', axis=1)\n",
    "housing = housing.join(one_hot)"
   ]
  },
  {
   "cell_type": "markdown",
   "metadata": {},
   "source": [
    "### Check the data"
   ]
  },
  {
   "cell_type": "code",
   "execution_count": 9,
   "metadata": {},
   "outputs": [
    {
     "name": "stdout",
     "output_type": "stream",
     "text": [
      "<class 'pandas.core.frame.DataFrame'>\n",
      "RangeIndex: 20640 entries, 0 to 20639\n",
      "Data columns (total 16 columns):\n",
      "longitude                   20640 non-null float64\n",
      "latitude                    20640 non-null float64\n",
      "housing_median_age          20640 non-null float64\n",
      "total_rooms                 20640 non-null float64\n",
      "total_bedrooms              20640 non-null float64\n",
      "population                  20640 non-null float64\n",
      "households                  20640 non-null float64\n",
      "median_income               20640 non-null float64\n",
      "median_house_value          20640 non-null float64\n",
      "rooms_per_household         20640 non-null float64\n",
      "population_per_household    20640 non-null float64\n",
      "INLAND                      20640 non-null uint8\n",
      "ISLAND                      20640 non-null uint8\n",
      "LESS_1H_OCEAN               20640 non-null uint8\n",
      "NEAR_BAY                    20640 non-null uint8\n",
      "NEAR_OCEAN                  20640 non-null uint8\n",
      "dtypes: float64(11), uint8(5)\n",
      "memory usage: 1.8 MB\n"
     ]
    }
   ],
   "source": [
    "housing.info()"
   ]
  },
  {
   "cell_type": "markdown",
   "metadata": {},
   "source": [
    "# ASSIGNMENT"
   ]
  },
  {
   "cell_type": "markdown",
   "metadata": {},
   "source": [
    "### 1. Partition into train and test\n",
    "\n",
    "Use train_test_split from sklearn.model_selection to partition the dataset into 70% for training and 30% for testing.\n",
    "\n",
    "You can use the 70% for training set as both training and validation by using cross-validation.\n"
   ]
  },
  {
   "cell_type": "code",
   "execution_count": 10,
   "metadata": {},
   "outputs": [],
   "source": [
    "from sklearn.model_selection import train_test_split\n",
    "train_set, test_set = train_test_split(housing, test_size=0.3, random_state=0)"
   ]
  },
  {
   "cell_type": "markdown",
   "metadata": {},
   "source": [
    "### Features"
   ]
  },
  {
   "cell_type": "code",
   "execution_count": 11,
   "metadata": {},
   "outputs": [],
   "source": [
    "target = 'median_house_value'\n",
    "features = list(train_set.columns)\n",
    "features = [f for f in features if f!=target]"
   ]
  },
  {
   "cell_type": "code",
   "execution_count": 12,
   "metadata": {},
   "outputs": [],
   "source": [
    "X_tr = train_set[features]\n",
    "y_tr = train_set[[target]]\n",
    "\n",
    "X_te = test_set[features]\n",
    "y_te = test_set[[target]]"
   ]
  },
  {
   "cell_type": "markdown",
   "metadata": {},
   "source": [
    "### 2. Polynomial transformations"
   ]
  },
  {
   "cell_type": "markdown",
   "metadata": {},
   "source": [
    "Use PolynomialFeatures from sklearn.preprocessing"
   ]
  },
  {
   "cell_type": "code",
   "execution_count": 13,
   "metadata": {},
   "outputs": [],
   "source": [
    "from sklearn.preprocessing import PolynomialFeatures\n",
    "poly = PolynomialFeatures(2)\n",
    "poly.fit(X_tr)\n",
    "X_tr = poly.transform(X_tr)\n",
    "X_te = poly.transform(X_te)"
   ]
  },
  {
   "cell_type": "markdown",
   "metadata": {},
   "source": [
    "##### You should obtain X_tr and X_te with 136 columns each, since originally you had 15 features.\n",
    "\n",
    "##### With m original features, the new added polynomial features of degree 2 are: $(m^2-m)/2+m+1$. Why?\n",
    "\n",
    "##### These, plus the original features gives a total of  $(m^2-m)/2+2m+1$"
   ]
  },
  {
   "cell_type": "markdown",
   "metadata": {},
   "source": [
    "Each of the 15 features get to pair with another features, so $x_i$ gets to pair with $x_j$, also with $x_i$ itself:\n",
    "\n",
    "15 + 14 + ... + 1 = 16 * 15 / 2 = 120.\n",
    "\n",
    "Plus the original 15 = 135.\n",
    "\n",
    "Plus the coefficient = 136."
   ]
  },
  {
   "cell_type": "code",
   "execution_count": 14,
   "metadata": {},
   "outputs": [
    {
     "name": "stdout",
     "output_type": "stream",
     "text": [
      "Original number of features: 15\n",
      "Final number of features: 136\n"
     ]
    }
   ],
   "source": [
    "print(\"Original number of features: \"+str(len(features)))\n",
    "print(\"Final number of features: \"+str(X_tr.shape[1]))"
   ]
  },
  {
   "cell_type": "code",
   "execution_count": 15,
   "metadata": {},
   "outputs": [
    {
     "name": "stdout",
     "output_type": "stream",
     "text": [
      "['1', 'longitude', 'latitude', 'housing_median_age', 'total_rooms', 'total_bedrooms', 'population', 'households', 'median_income', 'rooms_per_household', 'population_per_household', 'INLAND', 'ISLAND', 'LESS_1H_OCEAN', 'NEAR_BAY', 'NEAR_OCEAN', 'longitude^2', 'longitude latitude', 'longitude housing_median_age', 'longitude total_rooms', 'longitude total_bedrooms', 'longitude population', 'longitude households', 'longitude median_income', 'longitude rooms_per_household', 'longitude population_per_household', 'longitude INLAND', 'longitude ISLAND', 'longitude LESS_1H_OCEAN', 'longitude NEAR_BAY', 'longitude NEAR_OCEAN', 'latitude^2', 'latitude housing_median_age', 'latitude total_rooms', 'latitude total_bedrooms', 'latitude population', 'latitude households', 'latitude median_income', 'latitude rooms_per_household', 'latitude population_per_household', 'latitude INLAND', 'latitude ISLAND', 'latitude LESS_1H_OCEAN', 'latitude NEAR_BAY', 'latitude NEAR_OCEAN', 'housing_median_age^2', 'housing_median_age total_rooms', 'housing_median_age total_bedrooms', 'housing_median_age population', 'housing_median_age households', 'housing_median_age median_income', 'housing_median_age rooms_per_household', 'housing_median_age population_per_household', 'housing_median_age INLAND', 'housing_median_age ISLAND', 'housing_median_age LESS_1H_OCEAN', 'housing_median_age NEAR_BAY', 'housing_median_age NEAR_OCEAN', 'total_rooms^2', 'total_rooms total_bedrooms', 'total_rooms population', 'total_rooms households', 'total_rooms median_income', 'total_rooms rooms_per_household', 'total_rooms population_per_household', 'total_rooms INLAND', 'total_rooms ISLAND', 'total_rooms LESS_1H_OCEAN', 'total_rooms NEAR_BAY', 'total_rooms NEAR_OCEAN', 'total_bedrooms^2', 'total_bedrooms population', 'total_bedrooms households', 'total_bedrooms median_income', 'total_bedrooms rooms_per_household', 'total_bedrooms population_per_household', 'total_bedrooms INLAND', 'total_bedrooms ISLAND', 'total_bedrooms LESS_1H_OCEAN', 'total_bedrooms NEAR_BAY', 'total_bedrooms NEAR_OCEAN', 'population^2', 'population households', 'population median_income', 'population rooms_per_household', 'population population_per_household', 'population INLAND', 'population ISLAND', 'population LESS_1H_OCEAN', 'population NEAR_BAY', 'population NEAR_OCEAN', 'households^2', 'households median_income', 'households rooms_per_household', 'households population_per_household', 'households INLAND', 'households ISLAND', 'households LESS_1H_OCEAN', 'households NEAR_BAY', 'households NEAR_OCEAN', 'median_income^2', 'median_income rooms_per_household', 'median_income population_per_household', 'median_income INLAND', 'median_income ISLAND', 'median_income LESS_1H_OCEAN', 'median_income NEAR_BAY', 'median_income NEAR_OCEAN', 'rooms_per_household^2', 'rooms_per_household population_per_household', 'rooms_per_household INLAND', 'rooms_per_household ISLAND', 'rooms_per_household LESS_1H_OCEAN', 'rooms_per_household NEAR_BAY', 'rooms_per_household NEAR_OCEAN', 'population_per_household^2', 'population_per_household INLAND', 'population_per_household ISLAND', 'population_per_household LESS_1H_OCEAN', 'population_per_household NEAR_BAY', 'population_per_household NEAR_OCEAN', 'INLAND^2', 'INLAND ISLAND', 'INLAND LESS_1H_OCEAN', 'INLAND NEAR_BAY', 'INLAND NEAR_OCEAN', 'ISLAND^2', 'ISLAND LESS_1H_OCEAN', 'ISLAND NEAR_BAY', 'ISLAND NEAR_OCEAN', 'LESS_1H_OCEAN^2', 'LESS_1H_OCEAN NEAR_BAY', 'LESS_1H_OCEAN NEAR_OCEAN', 'NEAR_BAY^2', 'NEAR_BAY NEAR_OCEAN', 'NEAR_OCEAN^2']\n"
     ]
    }
   ],
   "source": [
    "features_transformed = poly.get_feature_names(features)\n",
    "print(features_transformed)"
   ]
  },
  {
   "cell_type": "code",
   "execution_count": 16,
   "metadata": {},
   "outputs": [
    {
     "name": "stdout",
     "output_type": "stream",
     "text": [
      "['INLAND', 'ISLAND', 'LESS_1H_OCEAN', 'NEAR_BAY', 'NEAR_OCEAN', 'INLAND^2', 'INLAND ISLAND', 'ISLAND INLAND', 'INLAND LESS_1H_OCEAN', 'LESS_1H_OCEAN INLAND', 'INLAND NEAR_BAY', 'NEAR_BAY INLAND', 'INLAND NEAR_OCEAN', 'NEAR_OCEAN INLAND', 'ISLAND INLAND', 'INLAND ISLAND', 'ISLAND^2', 'ISLAND LESS_1H_OCEAN', 'LESS_1H_OCEAN ISLAND', 'ISLAND NEAR_BAY', 'NEAR_BAY ISLAND', 'ISLAND NEAR_OCEAN', 'NEAR_OCEAN ISLAND', 'LESS_1H_OCEAN INLAND', 'INLAND LESS_1H_OCEAN', 'LESS_1H_OCEAN ISLAND', 'ISLAND LESS_1H_OCEAN', 'LESS_1H_OCEAN^2', 'LESS_1H_OCEAN NEAR_BAY', 'NEAR_BAY LESS_1H_OCEAN', 'LESS_1H_OCEAN NEAR_OCEAN', 'NEAR_OCEAN LESS_1H_OCEAN', 'NEAR_BAY INLAND', 'INLAND NEAR_BAY', 'NEAR_BAY ISLAND', 'ISLAND NEAR_BAY', 'NEAR_BAY LESS_1H_OCEAN', 'LESS_1H_OCEAN NEAR_BAY', 'NEAR_BAY^2', 'NEAR_BAY NEAR_OCEAN', 'NEAR_OCEAN NEAR_BAY', 'NEAR_OCEAN INLAND', 'INLAND NEAR_OCEAN', 'NEAR_OCEAN ISLAND', 'ISLAND NEAR_OCEAN', 'NEAR_OCEAN LESS_1H_OCEAN', 'LESS_1H_OCEAN NEAR_OCEAN', 'NEAR_OCEAN NEAR_BAY', 'NEAR_BAY NEAR_OCEAN', 'NEAR_OCEAN^2']\n"
     ]
    }
   ],
   "source": [
    "features_cat = ['INLAND',\n",
    "                'ISLAND',\n",
    "                'LESS_1H_OCEAN',\n",
    "                'NEAR_BAY',\n",
    "                'NEAR_OCEAN']\n",
    "\n",
    "features_cat_combo = features_cat.copy()\n",
    "\n",
    "for f1 in features_cat:\n",
    "    for f2 in features_cat:\n",
    "        if f1 == f2:\n",
    "            features_cat_combo.append(\"{0}^2\".format(f1))\n",
    "        else:\n",
    "            features_cat_combo.append(\"{0} {1}\".format(f1, f2))\n",
    "            features_cat_combo.append(\"{0} {1}\".format(f2, f1))\n",
    "                                     \n",
    "print(features_cat_combo)"
   ]
  },
  {
   "cell_type": "code",
   "execution_count": 17,
   "metadata": {},
   "outputs": [
    {
     "name": "stdout",
     "output_type": "stream",
     "text": [
      "[11, 12, 13, 14, 15, 121, 122, 123, 124, 125, 126, 127, 128, 129, 130, 131, 132, 133, 134, 135]\n",
      "[0, 1, 2, 3, 4, 5, 6, 7, 8, 9, 10, 16, 17, 18, 19, 20, 21, 22, 23, 24, 25, 26, 27, 28, 29, 30, 31, 32, 33, 34, 35, 36, 37, 38, 39, 40, 41, 42, 43, 44, 45, 46, 47, 48, 49, 50, 51, 52, 53, 54, 55, 56, 57, 58, 59, 60, 61, 62, 63, 64, 65, 66, 67, 68, 69, 70, 71, 72, 73, 74, 75, 76, 77, 78, 79, 80, 81, 82, 83, 84, 85, 86, 87, 88, 89, 90, 91, 92, 93, 94, 95, 96, 97, 98, 99, 100, 101, 102, 103, 104, 105, 106, 107, 108, 109, 110, 111, 112, 113, 114, 115, 116, 117, 118, 119, 120]\n"
     ]
    }
   ],
   "source": [
    "features_cat_poly = []\n",
    "features_num_poly = []\n",
    "\n",
    "for i,f in enumerate(features_transformed):\n",
    "    if f in features_cat_combo:\n",
    "        features_cat_poly.append(i)\n",
    "    else:\n",
    "        features_num_poly.append(i)\n",
    "\n",
    "print(features_cat_poly)\n",
    "print(features_num_poly)"
   ]
  },
  {
   "cell_type": "markdown",
   "metadata": {},
   "source": [
    "### 3. Scaling features"
   ]
  },
  {
   "cell_type": "markdown",
   "metadata": {},
   "source": [
    "Similarly, use StandardScaler from sklearn.preprocessing to normalize the training and testing data, using the training data"
   ]
  },
  {
   "cell_type": "code",
   "execution_count": 18,
   "metadata": {},
   "outputs": [],
   "source": [
    "from sklearn.base import BaseEstimator, TransformerMixin\n",
    "\n",
    "class ColumnSelector(BaseEstimator, TransformerMixin):\n",
    "    def __init__(self, columns):\n",
    "        self.columns = columns\n",
    "    def fit(self, X, y=None):\n",
    "        return self\n",
    "    def transform(self, X):\n",
    "        assert isinstance(X, pd.DataFrame)\n",
    "\n",
    "        try:\n",
    "            return X[self.columns]\n",
    "        except KeyError:\n",
    "            cols_error = list(set(self.columns) - set(X.columns))\n",
    "            raise KeyError(\"The DataFrame does not include the columns: %s\" % cols_error)"
   ]
  },
  {
   "cell_type": "code",
   "execution_count": 19,
   "metadata": {},
   "outputs": [],
   "source": [
    "from sklearn.pipeline import Pipeline\n",
    "from sklearn.pipeline import make_pipeline\n",
    "from sklearn.pipeline import FeatureUnion\n",
    "from sklearn.preprocessing import StandardScaler"
   ]
  },
  {
   "cell_type": "code",
   "execution_count": 20,
   "metadata": {},
   "outputs": [],
   "source": [
    "preprocess_pipeline = make_pipeline(\n",
    "    FeatureUnion(transformer_list=[\n",
    "        (\"categorical_features_untouch\", make_pipeline(\n",
    "            ColumnSelector(columns=features_cat_poly)\n",
    "        )),\n",
    "        (\"numeric_features_transform\", make_pipeline(\n",
    "            ColumnSelector(columns=features_num_poly),\n",
    "            # Normalize\n",
    "            StandardScaler()\n",
    "        ))\n",
    "    ])\n",
    ")"
   ]
  },
  {
   "cell_type": "code",
   "execution_count": 21,
   "metadata": {},
   "outputs": [],
   "source": [
    "preprocess_pipeline.fit(pd.DataFrame(X_tr))\n",
    "\n",
    "X_tr = preprocess_pipeline.transform(pd.DataFrame(X_tr))\n",
    "X_te = preprocess_pipeline.transform(pd.DataFrame(X_te))"
   ]
  },
  {
   "cell_type": "code",
   "execution_count": 22,
   "metadata": {},
   "outputs": [
    {
     "data": {
      "text/html": [
       "<div>\n",
       "<style scoped>\n",
       "    .dataframe tbody tr th:only-of-type {\n",
       "        vertical-align: middle;\n",
       "    }\n",
       "\n",
       "    .dataframe tbody tr th {\n",
       "        vertical-align: top;\n",
       "    }\n",
       "\n",
       "    .dataframe thead th {\n",
       "        text-align: right;\n",
       "    }\n",
       "</style>\n",
       "<table border=\"1\" class=\"dataframe\">\n",
       "  <thead>\n",
       "    <tr style=\"text-align: right;\">\n",
       "      <th></th>\n",
       "      <th>0</th>\n",
       "      <th>1</th>\n",
       "      <th>2</th>\n",
       "      <th>3</th>\n",
       "      <th>4</th>\n",
       "      <th>5</th>\n",
       "      <th>6</th>\n",
       "      <th>7</th>\n",
       "      <th>8</th>\n",
       "      <th>9</th>\n",
       "      <th>...</th>\n",
       "      <th>126</th>\n",
       "      <th>127</th>\n",
       "      <th>128</th>\n",
       "      <th>129</th>\n",
       "      <th>130</th>\n",
       "      <th>131</th>\n",
       "      <th>132</th>\n",
       "      <th>133</th>\n",
       "      <th>134</th>\n",
       "      <th>135</th>\n",
       "    </tr>\n",
       "  </thead>\n",
       "  <tbody>\n",
       "    <tr>\n",
       "      <th>0</th>\n",
       "      <td>1.0</td>\n",
       "      <td>0.0</td>\n",
       "      <td>0.0</td>\n",
       "      <td>0.0</td>\n",
       "      <td>0.0</td>\n",
       "      <td>1.0</td>\n",
       "      <td>0.0</td>\n",
       "      <td>0.0</td>\n",
       "      <td>0.0</td>\n",
       "      <td>0.0</td>\n",
       "      <td>...</td>\n",
       "      <td>-0.011655</td>\n",
       "      <td>-0.839646</td>\n",
       "      <td>-0.345004</td>\n",
       "      <td>-0.370936</td>\n",
       "      <td>-0.008997</td>\n",
       "      <td>0.681905</td>\n",
       "      <td>-0.011763</td>\n",
       "      <td>-0.814136</td>\n",
       "      <td>-0.336107</td>\n",
       "      <td>-0.092013</td>\n",
       "    </tr>\n",
       "    <tr>\n",
       "      <th>1</th>\n",
       "      <td>0.0</td>\n",
       "      <td>0.0</td>\n",
       "      <td>0.0</td>\n",
       "      <td>1.0</td>\n",
       "      <td>0.0</td>\n",
       "      <td>0.0</td>\n",
       "      <td>0.0</td>\n",
       "      <td>0.0</td>\n",
       "      <td>0.0</td>\n",
       "      <td>0.0</td>\n",
       "      <td>...</td>\n",
       "      <td>-0.011655</td>\n",
       "      <td>-0.839646</td>\n",
       "      <td>1.815750</td>\n",
       "      <td>-0.370936</td>\n",
       "      <td>-0.012846</td>\n",
       "      <td>-0.179384</td>\n",
       "      <td>-0.011763</td>\n",
       "      <td>-0.814136</td>\n",
       "      <td>3.100108</td>\n",
       "      <td>-0.092013</td>\n",
       "    </tr>\n",
       "    <tr>\n",
       "      <th>2</th>\n",
       "      <td>0.0</td>\n",
       "      <td>0.0</td>\n",
       "      <td>1.0</td>\n",
       "      <td>0.0</td>\n",
       "      <td>0.0</td>\n",
       "      <td>0.0</td>\n",
       "      <td>0.0</td>\n",
       "      <td>0.0</td>\n",
       "      <td>0.0</td>\n",
       "      <td>0.0</td>\n",
       "      <td>...</td>\n",
       "      <td>-0.011655</td>\n",
       "      <td>1.553498</td>\n",
       "      <td>-0.345004</td>\n",
       "      <td>-0.370936</td>\n",
       "      <td>-0.011376</td>\n",
       "      <td>-0.179384</td>\n",
       "      <td>-0.011763</td>\n",
       "      <td>1.492999</td>\n",
       "      <td>-0.336107</td>\n",
       "      <td>-0.092013</td>\n",
       "    </tr>\n",
       "    <tr>\n",
       "      <th>3</th>\n",
       "      <td>0.0</td>\n",
       "      <td>0.0</td>\n",
       "      <td>1.0</td>\n",
       "      <td>0.0</td>\n",
       "      <td>0.0</td>\n",
       "      <td>0.0</td>\n",
       "      <td>0.0</td>\n",
       "      <td>0.0</td>\n",
       "      <td>0.0</td>\n",
       "      <td>0.0</td>\n",
       "      <td>...</td>\n",
       "      <td>-0.011655</td>\n",
       "      <td>0.090566</td>\n",
       "      <td>-0.345004</td>\n",
       "      <td>-0.370936</td>\n",
       "      <td>-0.012792</td>\n",
       "      <td>-0.179384</td>\n",
       "      <td>-0.011763</td>\n",
       "      <td>1.033176</td>\n",
       "      <td>-0.336107</td>\n",
       "      <td>-0.092013</td>\n",
       "    </tr>\n",
       "    <tr>\n",
       "      <th>4</th>\n",
       "      <td>1.0</td>\n",
       "      <td>0.0</td>\n",
       "      <td>0.0</td>\n",
       "      <td>0.0</td>\n",
       "      <td>0.0</td>\n",
       "      <td>1.0</td>\n",
       "      <td>0.0</td>\n",
       "      <td>0.0</td>\n",
       "      <td>0.0</td>\n",
       "      <td>0.0</td>\n",
       "      <td>...</td>\n",
       "      <td>-0.011655</td>\n",
       "      <td>-0.839646</td>\n",
       "      <td>-0.345004</td>\n",
       "      <td>-0.370936</td>\n",
       "      <td>-0.011744</td>\n",
       "      <td>0.468366</td>\n",
       "      <td>-0.011763</td>\n",
       "      <td>-0.814136</td>\n",
       "      <td>-0.336107</td>\n",
       "      <td>-0.092013</td>\n",
       "    </tr>\n",
       "  </tbody>\n",
       "</table>\n",
       "<p>5 rows × 136 columns</p>\n",
       "</div>"
      ],
      "text/plain": [
       "   0    1    2    3    4    5    6    7    8    9    ...       126       127  \\\n",
       "0  1.0  0.0  0.0  0.0  0.0  1.0  0.0  0.0  0.0  0.0  ... -0.011655 -0.839646   \n",
       "1  0.0  0.0  0.0  1.0  0.0  0.0  0.0  0.0  0.0  0.0  ... -0.011655 -0.839646   \n",
       "2  0.0  0.0  1.0  0.0  0.0  0.0  0.0  0.0  0.0  0.0  ... -0.011655  1.553498   \n",
       "3  0.0  0.0  1.0  0.0  0.0  0.0  0.0  0.0  0.0  0.0  ... -0.011655  0.090566   \n",
       "4  1.0  0.0  0.0  0.0  0.0  1.0  0.0  0.0  0.0  0.0  ... -0.011655 -0.839646   \n",
       "\n",
       "        128       129       130       131       132       133       134  \\\n",
       "0 -0.345004 -0.370936 -0.008997  0.681905 -0.011763 -0.814136 -0.336107   \n",
       "1  1.815750 -0.370936 -0.012846 -0.179384 -0.011763 -0.814136  3.100108   \n",
       "2 -0.345004 -0.370936 -0.011376 -0.179384 -0.011763  1.492999 -0.336107   \n",
       "3 -0.345004 -0.370936 -0.012792 -0.179384 -0.011763  1.033176 -0.336107   \n",
       "4 -0.345004 -0.370936 -0.011744  0.468366 -0.011763 -0.814136 -0.336107   \n",
       "\n",
       "        135  \n",
       "0 -0.092013  \n",
       "1 -0.092013  \n",
       "2 -0.092013  \n",
       "3 -0.092013  \n",
       "4 -0.092013  \n",
       "\n",
       "[5 rows x 136 columns]"
      ]
     },
     "execution_count": 22,
     "metadata": {},
     "output_type": "execute_result"
    }
   ],
   "source": [
    "pd.DataFrame(X_tr).head()"
   ]
  },
  {
   "cell_type": "code",
   "execution_count": 23,
   "metadata": {
    "scrolled": true
   },
   "outputs": [
    {
     "data": {
      "text/html": [
       "<div>\n",
       "<style scoped>\n",
       "    .dataframe tbody tr th:only-of-type {\n",
       "        vertical-align: middle;\n",
       "    }\n",
       "\n",
       "    .dataframe tbody tr th {\n",
       "        vertical-align: top;\n",
       "    }\n",
       "\n",
       "    .dataframe thead th {\n",
       "        text-align: right;\n",
       "    }\n",
       "</style>\n",
       "<table border=\"1\" class=\"dataframe\">\n",
       "  <thead>\n",
       "    <tr style=\"text-align: right;\">\n",
       "      <th></th>\n",
       "      <th>0</th>\n",
       "      <th>1</th>\n",
       "      <th>2</th>\n",
       "      <th>3</th>\n",
       "      <th>4</th>\n",
       "      <th>5</th>\n",
       "      <th>6</th>\n",
       "      <th>7</th>\n",
       "      <th>8</th>\n",
       "      <th>9</th>\n",
       "      <th>...</th>\n",
       "      <th>126</th>\n",
       "      <th>127</th>\n",
       "      <th>128</th>\n",
       "      <th>129</th>\n",
       "      <th>130</th>\n",
       "      <th>131</th>\n",
       "      <th>132</th>\n",
       "      <th>133</th>\n",
       "      <th>134</th>\n",
       "      <th>135</th>\n",
       "    </tr>\n",
       "  </thead>\n",
       "  <tbody>\n",
       "    <tr>\n",
       "      <th>0</th>\n",
       "      <td>0.0</td>\n",
       "      <td>0.0</td>\n",
       "      <td>0.0</td>\n",
       "      <td>0.0</td>\n",
       "      <td>1.0</td>\n",
       "      <td>0.0</td>\n",
       "      <td>0.0</td>\n",
       "      <td>0.0</td>\n",
       "      <td>0.0</td>\n",
       "      <td>0.0</td>\n",
       "      <td>...</td>\n",
       "      <td>-0.011655</td>\n",
       "      <td>-0.839646</td>\n",
       "      <td>-0.345004</td>\n",
       "      <td>2.728158</td>\n",
       "      <td>-0.010573</td>\n",
       "      <td>-0.179384</td>\n",
       "      <td>-0.011763</td>\n",
       "      <td>-0.814136</td>\n",
       "      <td>-0.336107</td>\n",
       "      <td>0.880780</td>\n",
       "    </tr>\n",
       "    <tr>\n",
       "      <th>1</th>\n",
       "      <td>0.0</td>\n",
       "      <td>0.0</td>\n",
       "      <td>1.0</td>\n",
       "      <td>0.0</td>\n",
       "      <td>0.0</td>\n",
       "      <td>0.0</td>\n",
       "      <td>0.0</td>\n",
       "      <td>0.0</td>\n",
       "      <td>0.0</td>\n",
       "      <td>0.0</td>\n",
       "      <td>...</td>\n",
       "      <td>-0.011655</td>\n",
       "      <td>1.416516</td>\n",
       "      <td>-0.345004</td>\n",
       "      <td>-0.370936</td>\n",
       "      <td>-0.012841</td>\n",
       "      <td>-0.179384</td>\n",
       "      <td>-0.011763</td>\n",
       "      <td>1.014999</td>\n",
       "      <td>-0.336107</td>\n",
       "      <td>-0.092013</td>\n",
       "    </tr>\n",
       "    <tr>\n",
       "      <th>2</th>\n",
       "      <td>1.0</td>\n",
       "      <td>0.0</td>\n",
       "      <td>0.0</td>\n",
       "      <td>0.0</td>\n",
       "      <td>0.0</td>\n",
       "      <td>1.0</td>\n",
       "      <td>0.0</td>\n",
       "      <td>0.0</td>\n",
       "      <td>0.0</td>\n",
       "      <td>0.0</td>\n",
       "      <td>...</td>\n",
       "      <td>-0.011655</td>\n",
       "      <td>-0.839646</td>\n",
       "      <td>-0.345004</td>\n",
       "      <td>-0.370936</td>\n",
       "      <td>-0.013020</td>\n",
       "      <td>0.340087</td>\n",
       "      <td>-0.011763</td>\n",
       "      <td>-0.814136</td>\n",
       "      <td>-0.336107</td>\n",
       "      <td>-0.092013</td>\n",
       "    </tr>\n",
       "    <tr>\n",
       "      <th>3</th>\n",
       "      <td>1.0</td>\n",
       "      <td>0.0</td>\n",
       "      <td>0.0</td>\n",
       "      <td>0.0</td>\n",
       "      <td>0.0</td>\n",
       "      <td>1.0</td>\n",
       "      <td>0.0</td>\n",
       "      <td>0.0</td>\n",
       "      <td>0.0</td>\n",
       "      <td>0.0</td>\n",
       "      <td>...</td>\n",
       "      <td>-0.011655</td>\n",
       "      <td>-0.839646</td>\n",
       "      <td>-0.345004</td>\n",
       "      <td>-0.370936</td>\n",
       "      <td>-0.013271</td>\n",
       "      <td>0.310877</td>\n",
       "      <td>-0.011763</td>\n",
       "      <td>-0.814136</td>\n",
       "      <td>-0.336107</td>\n",
       "      <td>-0.092013</td>\n",
       "    </tr>\n",
       "    <tr>\n",
       "      <th>4</th>\n",
       "      <td>0.0</td>\n",
       "      <td>0.0</td>\n",
       "      <td>0.0</td>\n",
       "      <td>1.0</td>\n",
       "      <td>0.0</td>\n",
       "      <td>0.0</td>\n",
       "      <td>0.0</td>\n",
       "      <td>0.0</td>\n",
       "      <td>0.0</td>\n",
       "      <td>0.0</td>\n",
       "      <td>...</td>\n",
       "      <td>-0.011655</td>\n",
       "      <td>-0.839646</td>\n",
       "      <td>2.196984</td>\n",
       "      <td>-0.370936</td>\n",
       "      <td>-0.014523</td>\n",
       "      <td>-0.179384</td>\n",
       "      <td>-0.011763</td>\n",
       "      <td>-0.814136</td>\n",
       "      <td>1.613555</td>\n",
       "      <td>-0.092013</td>\n",
       "    </tr>\n",
       "  </tbody>\n",
       "</table>\n",
       "<p>5 rows × 136 columns</p>\n",
       "</div>"
      ],
      "text/plain": [
       "   0    1    2    3    4    5    6    7    8    9    ...       126       127  \\\n",
       "0  0.0  0.0  0.0  0.0  1.0  0.0  0.0  0.0  0.0  0.0  ... -0.011655 -0.839646   \n",
       "1  0.0  0.0  1.0  0.0  0.0  0.0  0.0  0.0  0.0  0.0  ... -0.011655  1.416516   \n",
       "2  1.0  0.0  0.0  0.0  0.0  1.0  0.0  0.0  0.0  0.0  ... -0.011655 -0.839646   \n",
       "3  1.0  0.0  0.0  0.0  0.0  1.0  0.0  0.0  0.0  0.0  ... -0.011655 -0.839646   \n",
       "4  0.0  0.0  0.0  1.0  0.0  0.0  0.0  0.0  0.0  0.0  ... -0.011655 -0.839646   \n",
       "\n",
       "        128       129       130       131       132       133       134  \\\n",
       "0 -0.345004  2.728158 -0.010573 -0.179384 -0.011763 -0.814136 -0.336107   \n",
       "1 -0.345004 -0.370936 -0.012841 -0.179384 -0.011763  1.014999 -0.336107   \n",
       "2 -0.345004 -0.370936 -0.013020  0.340087 -0.011763 -0.814136 -0.336107   \n",
       "3 -0.345004 -0.370936 -0.013271  0.310877 -0.011763 -0.814136 -0.336107   \n",
       "4  2.196984 -0.370936 -0.014523 -0.179384 -0.011763 -0.814136  1.613555   \n",
       "\n",
       "        135  \n",
       "0  0.880780  \n",
       "1 -0.092013  \n",
       "2 -0.092013  \n",
       "3 -0.092013  \n",
       "4 -0.092013  \n",
       "\n",
       "[5 rows x 136 columns]"
      ]
     },
     "execution_count": 23,
     "metadata": {},
     "output_type": "execute_result"
    }
   ],
   "source": [
    "pd.DataFrame(X_te).head()"
   ]
  },
  {
   "cell_type": "markdown",
   "metadata": {},
   "source": [
    "#### Comparing models"
   ]
  },
  {
   "cell_type": "code",
   "execution_count": 24,
   "metadata": {},
   "outputs": [],
   "source": [
    "from sklearn.model_selection import cross_val_score\n",
    "from sklearn.model_selection import GridSearchCV\n",
    "import numpy as np\n",
    "\n",
    "def display_scores(scores):\n",
    "    print(\"Scores:\", scores)\n",
    "    print(\"Mean:\", scores.mean())"
   ]
  },
  {
   "cell_type": "markdown",
   "metadata": {},
   "source": [
    "### 4. Linear regression on original features (no transformations) --- benchmark\n",
    "\n",
    "#### Your goal is to find the model that minimizes the rmse score"
   ]
  },
  {
   "cell_type": "code",
   "execution_count": 25,
   "metadata": {},
   "outputs": [
    {
     "name": "stdout",
     "output_type": "stream",
     "text": [
      "Scores: [68467.34965417 69923.01197952 68470.88999986 68207.01493917]\n",
      "Mean: 68767.06664318193\n"
     ]
    }
   ],
   "source": [
    "from sklearn.linear_model import LinearRegression\n",
    "lin_scores = cross_val_score(LinearRegression(), train_set[features], train_set[target], scoring=\"neg_mean_squared_error\", cv=4)\n",
    "lin_rmse_scores = np.sqrt(-lin_scores)\n",
    "display_scores(lin_rmse_scores)"
   ]
  },
  {
   "cell_type": "markdown",
   "metadata": {},
   "source": [
    "### 5. Linear regression  (on transformed features: polynomial transformation + scaling)"
   ]
  },
  {
   "cell_type": "markdown",
   "metadata": {},
   "source": [
    "Now do as in 4 but with the original and transformed features (136 features)"
   ]
  },
  {
   "cell_type": "code",
   "execution_count": 26,
   "metadata": {},
   "outputs": [
    {
     "name": "stdout",
     "output_type": "stream",
     "text": [
      "Scores: [1.57818657e+05 8.73512425e+04 4.18730943e+16 2.75979063e+16]\n",
      "Mean: 1.7367750157626596e+16\n"
     ]
    }
   ],
   "source": [
    "lin_scores_transformed = cross_val_score(LinearRegression(), X_tr, y_tr, scoring=\"neg_mean_squared_error\", cv=4)\n",
    "lin_rmse_scores_transformed = np.sqrt(-lin_scores_transformed)\n",
    "display_scores(lin_rmse_scores_transformed)"
   ]
  },
  {
   "cell_type": "markdown",
   "metadata": {},
   "source": [
    "If the error on the cross-validation is too high it is because the model is over-fitting. Regularization is needed."
   ]
  },
  {
   "cell_type": "markdown",
   "metadata": {},
   "source": [
    "### 6. Ridge regression"
   ]
  },
  {
   "cell_type": "code",
   "execution_count": 27,
   "metadata": {},
   "outputs": [
    {
     "data": {
      "text/plain": [
       "GridSearchCV(cv=3, error_score='raise-deprecating',\n",
       "       estimator=Ridge(alpha=1.0, copy_X=True, fit_intercept=True, max_iter=None,\n",
       "   normalize=False, random_state=None, solver='auto', tol=0.001),\n",
       "       fit_params=None, iid='warn', n_jobs=None,\n",
       "       param_grid=[{'alpha': [0.001, 0.01, 0.1, 1, 10, 100, 1000]}],\n",
       "       pre_dispatch='2*n_jobs', refit=True, return_train_score='warn',\n",
       "       scoring='neg_mean_squared_error', verbose=0)"
      ]
     },
     "execution_count": 27,
     "metadata": {},
     "output_type": "execute_result"
    }
   ],
   "source": [
    "from sklearn.linear_model import Ridge\n",
    "param_grid = [{'alpha': [0.001,0.01,0.1,1,10,100,1000]}]\n",
    "grid_search_rr = GridSearchCV(Ridge(), param_grid, cv=3, scoring='neg_mean_squared_error')\n",
    "grid_search_rr.fit(X_tr, y_tr)"
   ]
  },
  {
   "cell_type": "code",
   "execution_count": 28,
   "metadata": {},
   "outputs": [
    {
     "name": "stdout",
     "output_type": "stream",
     "text": [
      "{'alpha': 1000}\n",
      "66546.31850955132\n"
     ]
    }
   ],
   "source": [
    "print(grid_search_rr.best_params_)\n",
    "print(np.sqrt(-grid_search_rr.best_score_))"
   ]
  },
  {
   "cell_type": "markdown",
   "metadata": {},
   "source": [
    "### 7. Lasso regression\n",
    "\n",
    "Now do the same as in 6 but with Lasso"
   ]
  },
  {
   "cell_type": "code",
   "execution_count": 29,
   "metadata": {},
   "outputs": [],
   "source": [
    "import warnings\n",
    "warnings.filterwarnings(\"ignore\")"
   ]
  },
  {
   "cell_type": "code",
   "execution_count": 30,
   "metadata": {
    "scrolled": true
   },
   "outputs": [
    {
     "data": {
      "text/plain": [
       "GridSearchCV(cv=3, error_score='raise-deprecating',\n",
       "       estimator=Lasso(alpha=1.0, copy_X=True, fit_intercept=True, max_iter=1000,\n",
       "   normalize=False, positive=False, precompute=False, random_state=None,\n",
       "   selection='cyclic', tol=0.0001, warm_start=False),\n",
       "       fit_params=None, iid='warn', n_jobs=None,\n",
       "       param_grid=[{'alpha': [0.001, 0.01, 0.1, 1, 10, 100, 1000]}],\n",
       "       pre_dispatch='2*n_jobs', refit=True, return_train_score='warn',\n",
       "       scoring='neg_mean_squared_error', verbose=0)"
      ]
     },
     "execution_count": 30,
     "metadata": {},
     "output_type": "execute_result"
    }
   ],
   "source": [
    "from sklearn.linear_model import Lasso\n",
    "param_grid = [{'alpha': [0.001,0.01,0.1,1,10,100,1000]}]\n",
    "grid_search_lr = GridSearchCV(Lasso(), param_grid, cv=3, scoring='neg_mean_squared_error')\n",
    "grid_search_lr.fit(X_tr, y_tr)"
   ]
  },
  {
   "cell_type": "code",
   "execution_count": 31,
   "metadata": {},
   "outputs": [
    {
     "name": "stdout",
     "output_type": "stream",
     "text": [
      "{'alpha': 1000}\n",
      "66513.99721189485\n"
     ]
    }
   ],
   "source": [
    "print(grid_search_lr.best_params_)\n",
    "print(np.sqrt(-grid_search_lr.best_score_))"
   ]
  },
  {
   "cell_type": "markdown",
   "metadata": {},
   "source": [
    "### 8. Elastic Net regression\n",
    "\n",
    "Do the same as in 6 and 7, but now with Elastic Net. However, the grid search should be over the parameters alpha and  l 1ratio. Use just 3 values for l1_ratio."
   ]
  },
  {
   "cell_type": "code",
   "execution_count": 32,
   "metadata": {
    "scrolled": true
   },
   "outputs": [
    {
     "data": {
      "text/plain": [
       "GridSearchCV(cv=3, error_score='raise-deprecating',\n",
       "       estimator=ElasticNet(alpha=1.0, copy_X=True, fit_intercept=True, l1_ratio=0.5,\n",
       "      max_iter=1000, normalize=False, positive=False, precompute=False,\n",
       "      random_state=None, selection='cyclic', tol=0.0001, warm_start=False),\n",
       "       fit_params=None, iid='warn', n_jobs=None,\n",
       "       param_grid=[{'alpha': [0.001, 0.01, 0.1, 1, 10, 100, 1000], 'l1_ratio': [0.25, 0.5, 0.75]}],\n",
       "       pre_dispatch='2*n_jobs', refit=True, return_train_score='warn',\n",
       "       scoring='neg_mean_squared_error', verbose=0)"
      ]
     },
     "execution_count": 32,
     "metadata": {},
     "output_type": "execute_result"
    }
   ],
   "source": [
    "from sklearn.linear_model import ElasticNet\n",
    "param_grid = [{'alpha': [0.001,0.01,0.1,1,10,100,1000],\n",
    "              'l1_ratio': [0.25, 0.5, 0.75]}]\n",
    "grid_search_en = GridSearchCV(ElasticNet(), param_grid, cv=3, scoring='neg_mean_squared_error')\n",
    "grid_search_en.fit(X_tr, y_tr)"
   ]
  },
  {
   "cell_type": "code",
   "execution_count": 33,
   "metadata": {},
   "outputs": [
    {
     "name": "stdout",
     "output_type": "stream",
     "text": [
      "{'alpha': 0.1, 'l1_ratio': 0.5}\n",
      "66103.66491208452\n"
     ]
    }
   ],
   "source": [
    "print(grid_search_en.best_params_)\n",
    "print(np.sqrt(-grid_search_en.best_score_))"
   ]
  },
  {
   "cell_type": "code",
   "execution_count": 35,
   "metadata": {},
   "outputs": [
    {
     "name": "stdout",
     "output_type": "stream",
     "text": [
      "65064.98539584745\n"
     ]
    }
   ],
   "source": [
    "# Final RMSE on the training set using ElasticNet\n",
    "from sklearn.metrics import mean_squared_error\n",
    "\n",
    "y_tr_estimation = grid_search_en.best_estimator_.predict(X_tr)\n",
    "\n",
    "tr_mse = mean_squared_error(y_tr, y_tr_estimation)\n",
    "tr_rmse = np.sqrt(tr_mse)\n",
    "\n",
    "print(tr_rmse)"
   ]
  },
  {
   "cell_type": "markdown",
   "metadata": {},
   "source": [
    "### Evaluating your best model on TESTING data\n",
    "\n",
    "Choose among grid_search_rr, grid_search_lr, and grid_search_enr, the model with best performance"
   ]
  },
  {
   "cell_type": "code",
   "execution_count": 36,
   "metadata": {},
   "outputs": [
    {
     "name": "stdout",
     "output_type": "stream",
     "text": [
      "66365.45298518328\n"
     ]
    }
   ],
   "source": [
    "# ElasticNet produced the lowest RMSE\n",
    "final_model = grid_search_en.best_estimator_   ## grid_search SHOULD BE THE BEST GRID SEARCH ##\n",
    "\n",
    "y_te_estimation = final_model.predict(X_te)\n",
    "\n",
    "final_mse = mean_squared_error(y_te, y_te_estimation)\n",
    "final_rmse = np.sqrt(final_mse)\n",
    "print(final_rmse)"
   ]
  },
  {
   "cell_type": "code",
   "execution_count": 38,
   "metadata": {},
   "outputs": [
    {
     "data": {
      "image/png": "[encoded data removed]",
      "text/plain": [
       "<Figure size 432x288 with 1 Axes>"
      ]
     },
     "metadata": {
      "needs_background": "light"
     },
     "output_type": "display_data"
    }
   ],
   "source": [
    "import matplotlib.pyplot as plt\n",
    "\n",
    "plt.scatter(x=y_te, y=y_te_estimation)\n",
    "plt.xlim([-200000,800000])\n",
    "plt.ylim([-200000,800000])\n",
    "plt.show()"
   ]
  },
  {
   "cell_type": "code",
   "execution_count": 39,
   "metadata": {},
   "outputs": [],
   "source": [
    "# Plot Learning Curve\n",
    "\n",
    "from sklearn.metrics import mean_squared_error\n",
    "\n",
    "model_en = ElasticNet(alpha = 0.1, l1_ratio = 0.5)\n",
    "\n",
    "train_errors, test_errors = [], []\n",
    "for m in range(1, len(X_tr), 100):\n",
    "    model_en.fit(X_tr[:m], y_tr[:m])\n",
    "    y_tr_pred = model_en.predict(X_tr[:m])\n",
    "    y_te_pred = model_en.predict(X_te)\n",
    "    train_errors.append(mean_squared_error(y_tr_pred, y_tr[:m]))\n",
    "    test_errors.append(mean_squared_error(y_te_pred, y_te))"
   ]
  },
  {
   "cell_type": "code",
   "execution_count": 40,
   "metadata": {},
   "outputs": [
    {
     "data": {
      "image/png": "[encoded data removed]",
      "text/plain": [
       "<Figure size 432x288 with 1 Axes>"
      ]
     },
     "metadata": {
      "needs_background": "light"
     },
     "output_type": "display_data"
    }
   ],
   "source": [
    "plt.title(\"Learning Curve\")\n",
    "plt.xlabel('Training Set Size (in 100)')\n",
    "plt.ylabel('RMSE')\n",
    "plt.plot(np.sqrt(train_errors),\"r-+\", linewidth=2, label='train')\n",
    "plt.plot(np.sqrt(test_errors),\"b-\", linewidth=3, label='test')\n",
    "plt.legend()\n",
    "plt.show()"
   ]
  },
  {
   "cell_type": "markdown",
   "metadata": {},
   "source": [
    "### Question: Before you computed the final_rmse on the test data, what was your expected value for this quantity? Does your best model have high variance?"
   ]
  },
  {
   "cell_type": "markdown",
   "metadata": {
    "collapsed": true
   },
   "source": [
    "##### YOUR ANSWER HERE "
   ]
  },
  {
   "cell_type": "markdown",
   "metadata": {
    "collapsed": true
   },
   "source": [
    "My expected value for the final RMSE on the test set is the RMSE on the training set, which is 65064.98. Since the final RMSE on the test set, 66365.45, is only 2% higher than my expectation, I can say that the final ElasticNet model does not have high variance is therefore not overfitting. The learning curve above also supports this observation."
   ]
  },
  {
   "cell_type": "markdown",
   "metadata": {},
   "source": [
    "#[Optional]\n",
    "Why does the matrix X appears transponsed in the normal equation in the linear regression? Equation 4.4. Start from equation 4.3\n",
    "\n"
   ]
  },
  {
   "cell_type": "code",
   "execution_count": null,
   "metadata": {},
   "outputs": [],
   "source": []
  },
  {
   "cell_type": "markdown",
   "metadata": {},
   "source": [
    "#[Optional]\n",
    "Do all Gradient Descent algorithms lead to the same model provided you let them run long enough?\n",
    "\n"
   ]
  },
  {
   "cell_type": "code",
   "execution_count": null,
   "metadata": {},
   "outputs": [],
   "source": []
  },
  {
   "cell_type": "markdown",
   "metadata": {},
   "source": [
    "#[Optional]\n",
    "Is it a good idea to stop Mini-batch Gradient Descent immediately when the validation error goes up?\n",
    "\n"
   ]
  },
  {
   "cell_type": "code",
   "execution_count": null,
   "metadata": {},
   "outputs": [],
   "source": []
  },
  {
   "cell_type": "markdown",
   "metadata": {},
   "source": [
    "#[Optional]\n",
    "Suppose you are using Ridge Regression and you notice that the training error and the validation error are almost equal and fairly high. Would you say that the model suffers from high bias or high variance? Should you increase the regularization hyperparameter α or reduce it?\n",
    "\n"
   ]
  },
  {
   "cell_type": "code",
   "execution_count": null,
   "metadata": {},
   "outputs": [],
   "source": []
  },
  {
   "cell_type": "markdown",
   "metadata": {},
   "source": [
    "#[Optional]\n",
    "Why does the matrix X appears transponsed in the normal equation in the linear regression? Equation 4.4. Start from equation 4.3\n",
    "\n"
   ]
  },
  {
   "cell_type": "code",
   "execution_count": null,
   "metadata": {},
   "outputs": [],
   "source": []
  }
 ],
 "metadata": {
  "kernelspec": {
   "display_name": "Python 3",
   "language": "python",
   "name": "python3"
  },
  "language_info": {
   "codemirror_mode": {
    "name": "ipython",
    "version": 3
   },
   "file_extension": ".py",
   "mimetype": "text/x-python",
   "name": "python",
   "nbconvert_exporter": "python",
   "pygments_lexer": "ipython3",
   "version": "3.6.8"
  }
 },
 "nbformat": 4,
 "nbformat_minor": 2
}
