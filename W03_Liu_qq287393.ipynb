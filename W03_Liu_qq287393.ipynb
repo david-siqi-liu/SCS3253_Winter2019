{
 "cells": [
  {
   "cell_type": "markdown",
   "metadata": {},
   "source": [
    "### Your name:\n",
    "\n",
    "<pre> Siqi Liu </pre>\n",
    "\n",
    "### Collaborators:\n",
    "\n",
    "<pre> Enter the name of the people you worked with if any</pre>\n"
   ]
  },
  {
   "cell_type": "code",
   "execution_count": 1,
   "metadata": {},
   "outputs": [],
   "source": [
    "import numpy as np\n",
    "import pandas as pd\n",
    "\n",
    "# to make this notebook's output stable across runs\n",
    "np.random.seed(123)\n",
    "\n",
    "# To plot pretty figures\n",
    "%matplotlib inline\n",
    "import matplotlib\n",
    "import matplotlib.pyplot as plt\n",
    "plt.rcParams['axes.labelsize'] = 14\n",
    "plt.rcParams['xtick.labelsize'] = 12\n",
    "plt.rcParams['ytick.labelsize'] = 12\n",
    "\n",
    "# Seaborn\n",
    "import seaborn as sns"
   ]
  },
  {
   "cell_type": "markdown",
   "metadata": {},
   "source": [
    "### Classification"
   ]
  },
  {
   "cell_type": "markdown",
   "metadata": {},
   "source": [
    "Q1. Build a classification model for the default of credit card clients dataset. More info here:\n",
    "https://archive.ics.uci.edu/ml/datasets/default+of+credit+card+clients\n",
    "\n",
    "- Explore the data\n",
    "- Make sure you build a full data pipeline\n",
    "- Do you require any data pre-processing? Are all the features useful? (Use only raw features)\n",
    "- set the random seed to 123 (For splitting or any other random algorithm)\n",
    "- Split data into training (80%) and testing (20%)\n",
    "- Follow similar procedure as the one for week 2 (End-to-end Machine Learning Project). Remember apendix B\n",
    "- Study the ROC Curve, decide threshold\n",
    "- Use 2 classifiers.\n",
    "    - Random Forest\n",
    "        - tune only: n_estimators: {3, 4, 6, 7, 10, 20, 50, 100} \n",
    "    - KNN Classfier \n",
    "        - tune only: n_neighbors: {3, 4, 5, 7, 10, 20, 50} \n",
    "    - Which one performs better in the cross validation?\n",
    "    \n",
    "http://scikit-learn.org/stable/modules/generated/sklearn.ensemble.RandomForestClassifier.html\n",
    "\n",
    "http://scikit-learn.org/stable/modules/generated/sklearn.neighbors.KNeighborsClassifier.html\n",
    "\n",
    "- Cross-validation with 4-folds.\n",
    "\n",
    "- Other paramenters -> Use default\n",
    "\n",
    "Notes:\n",
    "  - Make your code modular, the second part of the assignmet you will have to repeat. \n",
    "  - Include documentation for your code "
   ]
  },
  {
   "cell_type": "code",
   "execution_count": 2,
   "metadata": {},
   "outputs": [],
   "source": [
    "### Your code here\n",
    "\n",
    "## Feel free to use multiple cells\n",
    "\n",
    "df = pd.read_excel(\"data/default_of_credit_card_clients.xls\", \n",
    "                   skiprows= 1, header = 0)"
   ]
  },
  {
   "cell_type": "code",
   "execution_count": 3,
   "metadata": {},
   "outputs": [
    {
     "data": {
      "text/html": [
       "<div>\n",
       "<style scoped>\n",
       "    .dataframe tbody tr th:only-of-type {\n",
       "        vertical-align: middle;\n",
       "    }\n",
       "\n",
       "    .dataframe tbody tr th {\n",
       "        vertical-align: top;\n",
       "    }\n",
       "\n",
       "    .dataframe thead th {\n",
       "        text-align: right;\n",
       "    }\n",
       "</style>\n",
       "<table border=\"1\" class=\"dataframe\">\n",
       "  <thead>\n",
       "    <tr style=\"text-align: right;\">\n",
       "      <th></th>\n",
       "      <th>ID</th>\n",
       "      <th>LIMIT_BAL</th>\n",
       "      <th>SEX</th>\n",
       "      <th>EDUCATION</th>\n",
       "      <th>MARRIAGE</th>\n",
       "      <th>AGE</th>\n",
       "      <th>PAY_0</th>\n",
       "      <th>PAY_2</th>\n",
       "      <th>PAY_3</th>\n",
       "      <th>PAY_4</th>\n",
       "      <th>...</th>\n",
       "      <th>BILL_AMT4</th>\n",
       "      <th>BILL_AMT5</th>\n",
       "      <th>BILL_AMT6</th>\n",
       "      <th>PAY_AMT1</th>\n",
       "      <th>PAY_AMT2</th>\n",
       "      <th>PAY_AMT3</th>\n",
       "      <th>PAY_AMT4</th>\n",
       "      <th>PAY_AMT5</th>\n",
       "      <th>PAY_AMT6</th>\n",
       "      <th>default payment next month</th>\n",
       "    </tr>\n",
       "  </thead>\n",
       "  <tbody>\n",
       "    <tr>\n",
       "      <th>0</th>\n",
       "      <td>1</td>\n",
       "      <td>20000</td>\n",
       "      <td>2</td>\n",
       "      <td>2</td>\n",
       "      <td>1</td>\n",
       "      <td>24</td>\n",
       "      <td>2</td>\n",
       "      <td>2</td>\n",
       "      <td>-1</td>\n",
       "      <td>-1</td>\n",
       "      <td>...</td>\n",
       "      <td>0</td>\n",
       "      <td>0</td>\n",
       "      <td>0</td>\n",
       "      <td>0</td>\n",
       "      <td>689</td>\n",
       "      <td>0</td>\n",
       "      <td>0</td>\n",
       "      <td>0</td>\n",
       "      <td>0</td>\n",
       "      <td>1</td>\n",
       "    </tr>\n",
       "    <tr>\n",
       "      <th>1</th>\n",
       "      <td>2</td>\n",
       "      <td>120000</td>\n",
       "      <td>2</td>\n",
       "      <td>2</td>\n",
       "      <td>2</td>\n",
       "      <td>26</td>\n",
       "      <td>-1</td>\n",
       "      <td>2</td>\n",
       "      <td>0</td>\n",
       "      <td>0</td>\n",
       "      <td>...</td>\n",
       "      <td>3272</td>\n",
       "      <td>3455</td>\n",
       "      <td>3261</td>\n",
       "      <td>0</td>\n",
       "      <td>1000</td>\n",
       "      <td>1000</td>\n",
       "      <td>1000</td>\n",
       "      <td>0</td>\n",
       "      <td>2000</td>\n",
       "      <td>1</td>\n",
       "    </tr>\n",
       "    <tr>\n",
       "      <th>2</th>\n",
       "      <td>3</td>\n",
       "      <td>90000</td>\n",
       "      <td>2</td>\n",
       "      <td>2</td>\n",
       "      <td>2</td>\n",
       "      <td>34</td>\n",
       "      <td>0</td>\n",
       "      <td>0</td>\n",
       "      <td>0</td>\n",
       "      <td>0</td>\n",
       "      <td>...</td>\n",
       "      <td>14331</td>\n",
       "      <td>14948</td>\n",
       "      <td>15549</td>\n",
       "      <td>1518</td>\n",
       "      <td>1500</td>\n",
       "      <td>1000</td>\n",
       "      <td>1000</td>\n",
       "      <td>1000</td>\n",
       "      <td>5000</td>\n",
       "      <td>0</td>\n",
       "    </tr>\n",
       "    <tr>\n",
       "      <th>3</th>\n",
       "      <td>4</td>\n",
       "      <td>50000</td>\n",
       "      <td>2</td>\n",
       "      <td>2</td>\n",
       "      <td>1</td>\n",
       "      <td>37</td>\n",
       "      <td>0</td>\n",
       "      <td>0</td>\n",
       "      <td>0</td>\n",
       "      <td>0</td>\n",
       "      <td>...</td>\n",
       "      <td>28314</td>\n",
       "      <td>28959</td>\n",
       "      <td>29547</td>\n",
       "      <td>2000</td>\n",
       "      <td>2019</td>\n",
       "      <td>1200</td>\n",
       "      <td>1100</td>\n",
       "      <td>1069</td>\n",
       "      <td>1000</td>\n",
       "      <td>0</td>\n",
       "    </tr>\n",
       "    <tr>\n",
       "      <th>4</th>\n",
       "      <td>5</td>\n",
       "      <td>50000</td>\n",
       "      <td>1</td>\n",
       "      <td>2</td>\n",
       "      <td>1</td>\n",
       "      <td>57</td>\n",
       "      <td>-1</td>\n",
       "      <td>0</td>\n",
       "      <td>-1</td>\n",
       "      <td>0</td>\n",
       "      <td>...</td>\n",
       "      <td>20940</td>\n",
       "      <td>19146</td>\n",
       "      <td>19131</td>\n",
       "      <td>2000</td>\n",
       "      <td>36681</td>\n",
       "      <td>10000</td>\n",
       "      <td>9000</td>\n",
       "      <td>689</td>\n",
       "      <td>679</td>\n",
       "      <td>0</td>\n",
       "    </tr>\n",
       "  </tbody>\n",
       "</table>\n",
       "<p>5 rows × 25 columns</p>\n",
       "</div>"
      ],
      "text/plain": [
       "   ID  LIMIT_BAL  SEX  EDUCATION  MARRIAGE  AGE  PAY_0  PAY_2  PAY_3  PAY_4  \\\n",
       "0   1      20000    2          2         1   24      2      2     -1     -1   \n",
       "1   2     120000    2          2         2   26     -1      2      0      0   \n",
       "2   3      90000    2          2         2   34      0      0      0      0   \n",
       "3   4      50000    2          2         1   37      0      0      0      0   \n",
       "4   5      50000    1          2         1   57     -1      0     -1      0   \n",
       "\n",
       "   ...  BILL_AMT4  BILL_AMT5  BILL_AMT6  PAY_AMT1  PAY_AMT2  PAY_AMT3  \\\n",
       "0  ...          0          0          0         0       689         0   \n",
       "1  ...       3272       3455       3261         0      1000      1000   \n",
       "2  ...      14331      14948      15549      1518      1500      1000   \n",
       "3  ...      28314      28959      29547      2000      2019      1200   \n",
       "4  ...      20940      19146      19131      2000     36681     10000   \n",
       "\n",
       "   PAY_AMT4  PAY_AMT5  PAY_AMT6  default payment next month  \n",
       "0         0         0         0                           1  \n",
       "1      1000         0      2000                           1  \n",
       "2      1000      1000      5000                           0  \n",
       "3      1100      1069      1000                           0  \n",
       "4      9000       689       679                           0  \n",
       "\n",
       "[5 rows x 25 columns]"
      ]
     },
     "execution_count": 3,
     "metadata": {},
     "output_type": "execute_result"
    }
   ],
   "source": [
    "df.head()"
   ]
  },
  {
   "cell_type": "markdown",
   "metadata": {},
   "source": [
    "# EDA"
   ]
  },
  {
   "cell_type": "code",
   "execution_count": 4,
   "metadata": {},
   "outputs": [
    {
     "data": {
      "text/html": [
       "<div>\n",
       "<style scoped>\n",
       "    .dataframe tbody tr th:only-of-type {\n",
       "        vertical-align: middle;\n",
       "    }\n",
       "\n",
       "    .dataframe tbody tr th {\n",
       "        vertical-align: top;\n",
       "    }\n",
       "\n",
       "    .dataframe thead th {\n",
       "        text-align: right;\n",
       "    }\n",
       "</style>\n",
       "<table border=\"1\" class=\"dataframe\">\n",
       "  <thead>\n",
       "    <tr style=\"text-align: right;\">\n",
       "      <th></th>\n",
       "      <th>count</th>\n",
       "      <th>mean</th>\n",
       "      <th>std</th>\n",
       "      <th>min</th>\n",
       "      <th>25%</th>\n",
       "      <th>50%</th>\n",
       "      <th>75%</th>\n",
       "      <th>max</th>\n",
       "    </tr>\n",
       "  </thead>\n",
       "  <tbody>\n",
       "    <tr>\n",
       "      <th>ID</th>\n",
       "      <td>30000.0</td>\n",
       "      <td>15000.50</td>\n",
       "      <td>8660.40</td>\n",
       "      <td>1.0</td>\n",
       "      <td>7500.75</td>\n",
       "      <td>15000.5</td>\n",
       "      <td>22500.25</td>\n",
       "      <td>30000.0</td>\n",
       "    </tr>\n",
       "    <tr>\n",
       "      <th>LIMIT_BAL</th>\n",
       "      <td>30000.0</td>\n",
       "      <td>167484.32</td>\n",
       "      <td>129747.66</td>\n",
       "      <td>10000.0</td>\n",
       "      <td>50000.00</td>\n",
       "      <td>140000.0</td>\n",
       "      <td>240000.00</td>\n",
       "      <td>1000000.0</td>\n",
       "    </tr>\n",
       "    <tr>\n",
       "      <th>SEX</th>\n",
       "      <td>30000.0</td>\n",
       "      <td>1.60</td>\n",
       "      <td>0.49</td>\n",
       "      <td>1.0</td>\n",
       "      <td>1.00</td>\n",
       "      <td>2.0</td>\n",
       "      <td>2.00</td>\n",
       "      <td>2.0</td>\n",
       "    </tr>\n",
       "    <tr>\n",
       "      <th>EDUCATION</th>\n",
       "      <td>30000.0</td>\n",
       "      <td>1.85</td>\n",
       "      <td>0.79</td>\n",
       "      <td>0.0</td>\n",
       "      <td>1.00</td>\n",
       "      <td>2.0</td>\n",
       "      <td>2.00</td>\n",
       "      <td>6.0</td>\n",
       "    </tr>\n",
       "    <tr>\n",
       "      <th>MARRIAGE</th>\n",
       "      <td>30000.0</td>\n",
       "      <td>1.55</td>\n",
       "      <td>0.52</td>\n",
       "      <td>0.0</td>\n",
       "      <td>1.00</td>\n",
       "      <td>2.0</td>\n",
       "      <td>2.00</td>\n",
       "      <td>3.0</td>\n",
       "    </tr>\n",
       "    <tr>\n",
       "      <th>AGE</th>\n",
       "      <td>30000.0</td>\n",
       "      <td>35.49</td>\n",
       "      <td>9.22</td>\n",
       "      <td>21.0</td>\n",
       "      <td>28.00</td>\n",
       "      <td>34.0</td>\n",
       "      <td>41.00</td>\n",
       "      <td>79.0</td>\n",
       "    </tr>\n",
       "    <tr>\n",
       "      <th>PAY_0</th>\n",
       "      <td>30000.0</td>\n",
       "      <td>-0.02</td>\n",
       "      <td>1.12</td>\n",
       "      <td>-2.0</td>\n",
       "      <td>-1.00</td>\n",
       "      <td>0.0</td>\n",
       "      <td>0.00</td>\n",
       "      <td>8.0</td>\n",
       "    </tr>\n",
       "    <tr>\n",
       "      <th>PAY_2</th>\n",
       "      <td>30000.0</td>\n",
       "      <td>-0.13</td>\n",
       "      <td>1.20</td>\n",
       "      <td>-2.0</td>\n",
       "      <td>-1.00</td>\n",
       "      <td>0.0</td>\n",
       "      <td>0.00</td>\n",
       "      <td>8.0</td>\n",
       "    </tr>\n",
       "    <tr>\n",
       "      <th>PAY_3</th>\n",
       "      <td>30000.0</td>\n",
       "      <td>-0.17</td>\n",
       "      <td>1.20</td>\n",
       "      <td>-2.0</td>\n",
       "      <td>-1.00</td>\n",
       "      <td>0.0</td>\n",
       "      <td>0.00</td>\n",
       "      <td>8.0</td>\n",
       "    </tr>\n",
       "    <tr>\n",
       "      <th>PAY_4</th>\n",
       "      <td>30000.0</td>\n",
       "      <td>-0.22</td>\n",
       "      <td>1.17</td>\n",
       "      <td>-2.0</td>\n",
       "      <td>-1.00</td>\n",
       "      <td>0.0</td>\n",
       "      <td>0.00</td>\n",
       "      <td>8.0</td>\n",
       "    </tr>\n",
       "    <tr>\n",
       "      <th>PAY_5</th>\n",
       "      <td>30000.0</td>\n",
       "      <td>-0.27</td>\n",
       "      <td>1.13</td>\n",
       "      <td>-2.0</td>\n",
       "      <td>-1.00</td>\n",
       "      <td>0.0</td>\n",
       "      <td>0.00</td>\n",
       "      <td>8.0</td>\n",
       "    </tr>\n",
       "    <tr>\n",
       "      <th>PAY_6</th>\n",
       "      <td>30000.0</td>\n",
       "      <td>-0.29</td>\n",
       "      <td>1.15</td>\n",
       "      <td>-2.0</td>\n",
       "      <td>-1.00</td>\n",
       "      <td>0.0</td>\n",
       "      <td>0.00</td>\n",
       "      <td>8.0</td>\n",
       "    </tr>\n",
       "    <tr>\n",
       "      <th>BILL_AMT1</th>\n",
       "      <td>30000.0</td>\n",
       "      <td>51223.33</td>\n",
       "      <td>73635.86</td>\n",
       "      <td>-165580.0</td>\n",
       "      <td>3558.75</td>\n",
       "      <td>22381.5</td>\n",
       "      <td>67091.00</td>\n",
       "      <td>964511.0</td>\n",
       "    </tr>\n",
       "    <tr>\n",
       "      <th>BILL_AMT2</th>\n",
       "      <td>30000.0</td>\n",
       "      <td>49179.08</td>\n",
       "      <td>71173.77</td>\n",
       "      <td>-69777.0</td>\n",
       "      <td>2984.75</td>\n",
       "      <td>21200.0</td>\n",
       "      <td>64006.25</td>\n",
       "      <td>983931.0</td>\n",
       "    </tr>\n",
       "    <tr>\n",
       "      <th>BILL_AMT3</th>\n",
       "      <td>30000.0</td>\n",
       "      <td>47013.15</td>\n",
       "      <td>69349.39</td>\n",
       "      <td>-157264.0</td>\n",
       "      <td>2666.25</td>\n",
       "      <td>20088.5</td>\n",
       "      <td>60164.75</td>\n",
       "      <td>1664089.0</td>\n",
       "    </tr>\n",
       "    <tr>\n",
       "      <th>BILL_AMT4</th>\n",
       "      <td>30000.0</td>\n",
       "      <td>43262.95</td>\n",
       "      <td>64332.86</td>\n",
       "      <td>-170000.0</td>\n",
       "      <td>2326.75</td>\n",
       "      <td>19052.0</td>\n",
       "      <td>54506.00</td>\n",
       "      <td>891586.0</td>\n",
       "    </tr>\n",
       "    <tr>\n",
       "      <th>BILL_AMT5</th>\n",
       "      <td>30000.0</td>\n",
       "      <td>40311.40</td>\n",
       "      <td>60797.16</td>\n",
       "      <td>-81334.0</td>\n",
       "      <td>1763.00</td>\n",
       "      <td>18104.5</td>\n",
       "      <td>50190.50</td>\n",
       "      <td>927171.0</td>\n",
       "    </tr>\n",
       "    <tr>\n",
       "      <th>BILL_AMT6</th>\n",
       "      <td>30000.0</td>\n",
       "      <td>38871.76</td>\n",
       "      <td>59554.11</td>\n",
       "      <td>-339603.0</td>\n",
       "      <td>1256.00</td>\n",
       "      <td>17071.0</td>\n",
       "      <td>49198.25</td>\n",
       "      <td>961664.0</td>\n",
       "    </tr>\n",
       "    <tr>\n",
       "      <th>PAY_AMT1</th>\n",
       "      <td>30000.0</td>\n",
       "      <td>5663.58</td>\n",
       "      <td>16563.28</td>\n",
       "      <td>0.0</td>\n",
       "      <td>1000.00</td>\n",
       "      <td>2100.0</td>\n",
       "      <td>5006.00</td>\n",
       "      <td>873552.0</td>\n",
       "    </tr>\n",
       "    <tr>\n",
       "      <th>PAY_AMT2</th>\n",
       "      <td>30000.0</td>\n",
       "      <td>5921.16</td>\n",
       "      <td>23040.87</td>\n",
       "      <td>0.0</td>\n",
       "      <td>833.00</td>\n",
       "      <td>2009.0</td>\n",
       "      <td>5000.00</td>\n",
       "      <td>1684259.0</td>\n",
       "    </tr>\n",
       "    <tr>\n",
       "      <th>PAY_AMT3</th>\n",
       "      <td>30000.0</td>\n",
       "      <td>5225.68</td>\n",
       "      <td>17606.96</td>\n",
       "      <td>0.0</td>\n",
       "      <td>390.00</td>\n",
       "      <td>1800.0</td>\n",
       "      <td>4505.00</td>\n",
       "      <td>896040.0</td>\n",
       "    </tr>\n",
       "    <tr>\n",
       "      <th>PAY_AMT4</th>\n",
       "      <td>30000.0</td>\n",
       "      <td>4826.08</td>\n",
       "      <td>15666.16</td>\n",
       "      <td>0.0</td>\n",
       "      <td>296.00</td>\n",
       "      <td>1500.0</td>\n",
       "      <td>4013.25</td>\n",
       "      <td>621000.0</td>\n",
       "    </tr>\n",
       "    <tr>\n",
       "      <th>PAY_AMT5</th>\n",
       "      <td>30000.0</td>\n",
       "      <td>4799.39</td>\n",
       "      <td>15278.31</td>\n",
       "      <td>0.0</td>\n",
       "      <td>252.50</td>\n",
       "      <td>1500.0</td>\n",
       "      <td>4031.50</td>\n",
       "      <td>426529.0</td>\n",
       "    </tr>\n",
       "    <tr>\n",
       "      <th>PAY_AMT6</th>\n",
       "      <td>30000.0</td>\n",
       "      <td>5215.50</td>\n",
       "      <td>17777.47</td>\n",
       "      <td>0.0</td>\n",
       "      <td>117.75</td>\n",
       "      <td>1500.0</td>\n",
       "      <td>4000.00</td>\n",
       "      <td>528666.0</td>\n",
       "    </tr>\n",
       "    <tr>\n",
       "      <th>default payment next month</th>\n",
       "      <td>30000.0</td>\n",
       "      <td>0.22</td>\n",
       "      <td>0.42</td>\n",
       "      <td>0.0</td>\n",
       "      <td>0.00</td>\n",
       "      <td>0.0</td>\n",
       "      <td>0.00</td>\n",
       "      <td>1.0</td>\n",
       "    </tr>\n",
       "  </tbody>\n",
       "</table>\n",
       "</div>"
      ],
      "text/plain": [
       "                              count       mean        std       min       25%  \\\n",
       "ID                          30000.0   15000.50    8660.40       1.0   7500.75   \n",
       "LIMIT_BAL                   30000.0  167484.32  129747.66   10000.0  50000.00   \n",
       "SEX                         30000.0       1.60       0.49       1.0      1.00   \n",
       "EDUCATION                   30000.0       1.85       0.79       0.0      1.00   \n",
       "MARRIAGE                    30000.0       1.55       0.52       0.0      1.00   \n",
       "AGE                         30000.0      35.49       9.22      21.0     28.00   \n",
       "PAY_0                       30000.0      -0.02       1.12      -2.0     -1.00   \n",
       "PAY_2                       30000.0      -0.13       1.20      -2.0     -1.00   \n",
       "PAY_3                       30000.0      -0.17       1.20      -2.0     -1.00   \n",
       "PAY_4                       30000.0      -0.22       1.17      -2.0     -1.00   \n",
       "PAY_5                       30000.0      -0.27       1.13      -2.0     -1.00   \n",
       "PAY_6                       30000.0      -0.29       1.15      -2.0     -1.00   \n",
       "BILL_AMT1                   30000.0   51223.33   73635.86 -165580.0   3558.75   \n",
       "BILL_AMT2                   30000.0   49179.08   71173.77  -69777.0   2984.75   \n",
       "BILL_AMT3                   30000.0   47013.15   69349.39 -157264.0   2666.25   \n",
       "BILL_AMT4                   30000.0   43262.95   64332.86 -170000.0   2326.75   \n",
       "BILL_AMT5                   30000.0   40311.40   60797.16  -81334.0   1763.00   \n",
       "BILL_AMT6                   30000.0   38871.76   59554.11 -339603.0   1256.00   \n",
       "PAY_AMT1                    30000.0    5663.58   16563.28       0.0   1000.00   \n",
       "PAY_AMT2                    30000.0    5921.16   23040.87       0.0    833.00   \n",
       "PAY_AMT3                    30000.0    5225.68   17606.96       0.0    390.00   \n",
       "PAY_AMT4                    30000.0    4826.08   15666.16       0.0    296.00   \n",
       "PAY_AMT5                    30000.0    4799.39   15278.31       0.0    252.50   \n",
       "PAY_AMT6                    30000.0    5215.50   17777.47       0.0    117.75   \n",
       "default payment next month  30000.0       0.22       0.42       0.0      0.00   \n",
       "\n",
       "                                 50%        75%        max  \n",
       "ID                           15000.5   22500.25    30000.0  \n",
       "LIMIT_BAL                   140000.0  240000.00  1000000.0  \n",
       "SEX                              2.0       2.00        2.0  \n",
       "EDUCATION                        2.0       2.00        6.0  \n",
       "MARRIAGE                         2.0       2.00        3.0  \n",
       "AGE                             34.0      41.00       79.0  \n",
       "PAY_0                            0.0       0.00        8.0  \n",
       "PAY_2                            0.0       0.00        8.0  \n",
       "PAY_3                            0.0       0.00        8.0  \n",
       "PAY_4                            0.0       0.00        8.0  \n",
       "PAY_5                            0.0       0.00        8.0  \n",
       "PAY_6                            0.0       0.00        8.0  \n",
       "BILL_AMT1                    22381.5   67091.00   964511.0  \n",
       "BILL_AMT2                    21200.0   64006.25   983931.0  \n",
       "BILL_AMT3                    20088.5   60164.75  1664089.0  \n",
       "BILL_AMT4                    19052.0   54506.00   891586.0  \n",
       "BILL_AMT5                    18104.5   50190.50   927171.0  \n",
       "BILL_AMT6                    17071.0   49198.25   961664.0  \n",
       "PAY_AMT1                      2100.0    5006.00   873552.0  \n",
       "PAY_AMT2                      2009.0    5000.00  1684259.0  \n",
       "PAY_AMT3                      1800.0    4505.00   896040.0  \n",
       "PAY_AMT4                      1500.0    4013.25   621000.0  \n",
       "PAY_AMT5                      1500.0    4031.50   426529.0  \n",
       "PAY_AMT6                      1500.0    4000.00   528666.0  \n",
       "default payment next month       0.0       0.00        1.0  "
      ]
     },
     "execution_count": 4,
     "metadata": {},
     "output_type": "execute_result"
    }
   ],
   "source": [
    "df.describe().T.round(2)"
   ]
  },
  {
   "cell_type": "markdown",
   "metadata": {},
   "source": [
    "The attributes have the following meaning:\n",
    "\n",
    "- **LIMIT_BAL** - credit limit\n",
    "- **SEX** - 1 = male; 2 = female\n",
    "- **EDUCATION** - 1 = graduate school; 2 = university; 3 = high school; 4 = others\n",
    "- **MARRIAGE** - 1 = married; 2 = single; 3 = others\n",
    "- **AGE** - in years\n",
    "- **PAY_0 ... PAY_6** - repayment status, from Sep 2005 to Apr 2015. -1 = paid; 1 = delayed for one month; ... ; 9 = delayed for nine months and above\n",
    "- **BILL_AMT1 ... BILL_AMT6** - amount in bill statment, from Sep 2005 to Apr 2015\n",
    "- **PAY_AMT1 ... PAY_AMT6** - amount paid, from Sep 2005 to Apr 2015\n",
    "- **default payment next month** - target variable. 1 = Yes, 0 = No"
   ]
  },
  {
   "cell_type": "code",
   "execution_count": 5,
   "metadata": {
    "scrolled": false
   },
   "outputs": [
    {
     "name": "stdout",
     "output_type": "stream",
     "text": [
      "<class 'pandas.core.frame.DataFrame'>\n",
      "RangeIndex: 30000 entries, 0 to 29999\n",
      "Data columns (total 25 columns):\n",
      "ID                            30000 non-null int64\n",
      "LIMIT_BAL                     30000 non-null int64\n",
      "SEX                           30000 non-null int64\n",
      "EDUCATION                     30000 non-null int64\n",
      "MARRIAGE                      30000 non-null int64\n",
      "AGE                           30000 non-null int64\n",
      "PAY_0                         30000 non-null int64\n",
      "PAY_2                         30000 non-null int64\n",
      "PAY_3                         30000 non-null int64\n",
      "PAY_4                         30000 non-null int64\n",
      "PAY_5                         30000 non-null int64\n",
      "PAY_6                         30000 non-null int64\n",
      "BILL_AMT1                     30000 non-null int64\n",
      "BILL_AMT2                     30000 non-null int64\n",
      "BILL_AMT3                     30000 non-null int64\n",
      "BILL_AMT4                     30000 non-null int64\n",
      "BILL_AMT5                     30000 non-null int64\n",
      "BILL_AMT6                     30000 non-null int64\n",
      "PAY_AMT1                      30000 non-null int64\n",
      "PAY_AMT2                      30000 non-null int64\n",
      "PAY_AMT3                      30000 non-null int64\n",
      "PAY_AMT4                      30000 non-null int64\n",
      "PAY_AMT5                      30000 non-null int64\n",
      "PAY_AMT6                      30000 non-null int64\n",
      "default payment next month    30000 non-null int64\n",
      "dtypes: int64(25)\n",
      "memory usage: 5.7 MB\n"
     ]
    }
   ],
   "source": [
    "df.info()"
   ]
  },
  {
   "cell_type": "markdown",
   "metadata": {},
   "source": [
    "No missing data"
   ]
  },
  {
   "cell_type": "code",
   "execution_count": 6,
   "metadata": {},
   "outputs": [],
   "source": [
    "# Rename target column to DEFAULT\n",
    "\n",
    "df = df.rename(columns = {\"default payment next month\" : \"DEFAULT\"})"
   ]
  },
  {
   "cell_type": "code",
   "execution_count": 7,
   "metadata": {},
   "outputs": [],
   "source": [
    "# Rename PAY_0 to PAY_1\n",
    "\n",
    "df = df.rename(columns = {\"PAY_0\" : \"PAY_1\"})"
   ]
  },
  {
   "cell_type": "code",
   "execution_count": 8,
   "metadata": {},
   "outputs": [],
   "source": [
    "# Remove ID column\n",
    "\n",
    "df = df.drop(columns = [\"ID\"])"
   ]
  },
  {
   "cell_type": "code",
   "execution_count": 9,
   "metadata": {},
   "outputs": [
    {
     "data": {
      "image/png": "[encoded data removed]",
      "text/plain": [
       "<Figure size 432x288 with 1 Axes>"
      ]
     },
     "metadata": {
      "needs_background": "light"
     },
     "output_type": "display_data"
    }
   ],
   "source": [
    "plt.hist(x = df['LIMIT_BAL'], bins = 30)\n",
    "plt.title(\"LIMIT_BAL\")\n",
    "\n",
    "plt.show()"
   ]
  },
  {
   "cell_type": "markdown",
   "metadata": {},
   "source": [
    "Heavily left skrewed, should normalize"
   ]
  },
  {
   "cell_type": "code",
   "execution_count": 10,
   "metadata": {
    "scrolled": true
   },
   "outputs": [
    {
     "data": {
      "text/plain": [
       "2    18112\n",
       "1    11888\n",
       "Name: SEX, dtype: int64"
      ]
     },
     "execution_count": 10,
     "metadata": {},
     "output_type": "execute_result"
    }
   ],
   "source": [
    "df['SEX'].value_counts()"
   ]
  },
  {
   "cell_type": "code",
   "execution_count": 11,
   "metadata": {},
   "outputs": [],
   "source": [
    "#Rename SEX categories to M and F\n",
    "df.loc[df['SEX'] == 1, 'SEX'] = 'M'\n",
    "df.loc[df['SEX'] == 2, 'SEX'] = 'F'"
   ]
  },
  {
   "cell_type": "code",
   "execution_count": 12,
   "metadata": {},
   "outputs": [
    {
     "data": {
      "text/plain": [
       "2    14030\n",
       "1    10585\n",
       "3     4917\n",
       "5      280\n",
       "4      123\n",
       "6       51\n",
       "0       14\n",
       "Name: EDUCATION, dtype: int64"
      ]
     },
     "execution_count": 12,
     "metadata": {},
     "output_type": "execute_result"
    }
   ],
   "source": [
    "df['EDUCATION'].value_counts()"
   ]
  },
  {
   "cell_type": "markdown",
   "metadata": {},
   "source": [
    "There are some with EDUCATION = 0, 5 and 6. Can group them into 4, the Other category."
   ]
  },
  {
   "cell_type": "code",
   "execution_count": 13,
   "metadata": {},
   "outputs": [],
   "source": [
    "#Rename EDUCATION categories, and group extra categories into Others\n",
    "df.loc[df['EDUCATION'] == 1, 'EDUCATION'] = 'GradSchool'\n",
    "df.loc[df['EDUCATION'] == 2, 'EDUCATION'] = 'University'\n",
    "df.loc[df['EDUCATION'] == 3, 'EDUCATION'] = 'HighSchool'\n",
    "df.loc[df['EDUCATION'] == 4, 'EDUCATION'] = 'Others'\n",
    "df.loc[(df['EDUCATION'] == 0) | (df['EDUCATION'] == 5) | (df['EDUCATION'] == 6), 'EDUCATION'] = 'Others'"
   ]
  },
  {
   "cell_type": "code",
   "execution_count": 14,
   "metadata": {
    "scrolled": true
   },
   "outputs": [
    {
     "data": {
      "text/plain": [
       "2    15964\n",
       "1    13659\n",
       "3      323\n",
       "0       54\n",
       "Name: MARRIAGE, dtype: int64"
      ]
     },
     "execution_count": 14,
     "metadata": {},
     "output_type": "execute_result"
    }
   ],
   "source": [
    "df['MARRIAGE'].value_counts()"
   ]
  },
  {
   "cell_type": "markdown",
   "metadata": {},
   "source": [
    "There are some with MARRIAGE = 0. Can group them into 3, the Other category."
   ]
  },
  {
   "cell_type": "code",
   "execution_count": 15,
   "metadata": {},
   "outputs": [],
   "source": [
    "#Rename MARRIAGE categories, and group extra categories into Others\n",
    "df.loc[df['MARRIAGE'] == 1, 'MARRIAGE'] = 'Married'\n",
    "df.loc[df['MARRIAGE'] == 2, 'MARRIAGE'] = 'Single'\n",
    "df.loc[df['MARRIAGE'] == 3, 'MARRIAGE'] = 'Others'\n",
    "df.loc[df['MARRIAGE'] == 0, 'MARRIAGE'] = 'Others'"
   ]
  },
  {
   "cell_type": "code",
   "execution_count": 16,
   "metadata": {
    "scrolled": true
   },
   "outputs": [
    {
     "data": {
      "image/png": "[encoded data removed]",
      "text/plain": [
       "<Figure size 432x288 with 1 Axes>"
      ]
     },
     "metadata": {
      "needs_background": "light"
     },
     "output_type": "display_data"
    }
   ],
   "source": [
    "plt.hist(x = df['AGE'], bins = 59)\n",
    "plt.title(\"AGE\")\n",
    "\n",
    "plt.show()"
   ]
  },
  {
   "cell_type": "markdown",
   "metadata": {},
   "source": [
    "Mode is around age 30"
   ]
  },
  {
   "cell_type": "code",
   "execution_count": 17,
   "metadata": {},
   "outputs": [
    {
     "data": {
      "text/plain": [
       "0.2212"
      ]
     },
     "execution_count": 17,
     "metadata": {},
     "output_type": "execute_result"
    }
   ],
   "source": [
    "df['DEFAULT'].sum() / len(df['DEFAULT'])"
   ]
  },
  {
   "cell_type": "markdown",
   "metadata": {},
   "source": [
    "The class ratio is around 22%"
   ]
  },
  {
   "cell_type": "code",
   "execution_count": 18,
   "metadata": {},
   "outputs": [
    {
     "data": {
      "image/png": "[encoded data removed]",
      "text/plain": [
       "<Figure size 1080x720 with 6 Axes>"
      ]
     },
     "metadata": {
      "needs_background": "light"
     },
     "output_type": "display_data"
    }
   ],
   "source": [
    "fig = plt.figure(figsize = (15, 10))\n",
    "\n",
    "for i in range(1, 7):\n",
    "    ax = fig.add_subplot(2, 3, i)\n",
    "    plt.hist(x = df[\"PAY_\" + str(i)], bins = 20)\n",
    "    ax.set_title(\"PAY_\" + str(i))\n",
    "\n",
    "plt.show()"
   ]
  },
  {
   "cell_type": "markdown",
   "metadata": {},
   "source": [
    "What is -2?"
   ]
  },
  {
   "cell_type": "code",
   "execution_count": 19,
   "metadata": {},
   "outputs": [
    {
     "data": {
      "image/png": "[encoded data removed]",
      "text/plain": [
       "<Figure size 1080x720 with 6 Axes>"
      ]
     },
     "metadata": {
      "needs_background": "light"
     },
     "output_type": "display_data"
    }
   ],
   "source": [
    "fig = plt.figure(figsize = (15, 10))\n",
    "\n",
    "for i in range(1, 7):\n",
    "    ax = fig.add_subplot(2, 3, i)\n",
    "    plt.hist(x = df[\"BILL_AMT\" + str(i)], bins = 20)\n",
    "    ax.set_title(\"BILL_AMT\" + str(i))\n",
    "\n",
    "plt.show()"
   ]
  },
  {
   "cell_type": "markdown",
   "metadata": {},
   "source": [
    "Some balances are negative, also too right tailed, should normalize"
   ]
  },
  {
   "cell_type": "code",
   "execution_count": 20,
   "metadata": {},
   "outputs": [
    {
     "data": {
      "image/png": "[encoded data removed]",
      "text/plain": [
       "<Figure size 1080x720 with 6 Axes>"
      ]
     },
     "metadata": {
      "needs_background": "light"
     },
     "output_type": "display_data"
    }
   ],
   "source": [
    "fig = plt.figure(figsize = (15, 10))\n",
    "\n",
    "for i in range(1, 7):\n",
    "    ax = fig.add_subplot(2, 3, i)\n",
    "    plt.hist(x = df[\"PAY_AMT\" + str(i)], bins = 20)\n",
    "    ax.set_title(\"PAY_AMT\" + str(i))\n",
    "\n",
    "plt.show()"
   ]
  },
  {
   "cell_type": "markdown",
   "metadata": {},
   "source": [
    "Payment amount is too right tailed, should normalize"
   ]
  },
  {
   "cell_type": "markdown",
   "metadata": {},
   "source": [
    "# Train/Test Split"
   ]
  },
  {
   "cell_type": "code",
   "execution_count": 21,
   "metadata": {},
   "outputs": [],
   "source": [
    "from sklearn.model_selection import train_test_split\n",
    "\n",
    "df_train, df_test = train_test_split(df, test_size=0.2, random_state=42)\n",
    "\n",
    "df_train = df_train.copy()\n",
    "df_test = df_test.copy()"
   ]
  },
  {
   "cell_type": "code",
   "execution_count": 22,
   "metadata": {},
   "outputs": [],
   "source": [
    "df_train_y = df_train['DEFAULT'].copy()\n",
    "df_train_X = df_train.drop('DEFAULT', axis = 1)"
   ]
  },
  {
   "cell_type": "code",
   "execution_count": 23,
   "metadata": {},
   "outputs": [
    {
     "data": {
      "text/plain": [
       "21753    0\n",
       "251      0\n",
       "22941    0\n",
       "618      0\n",
       "17090    0\n",
       "Name: DEFAULT, dtype: int64"
      ]
     },
     "execution_count": 23,
     "metadata": {},
     "output_type": "execute_result"
    }
   ],
   "source": [
    "df_train_y.head()"
   ]
  },
  {
   "cell_type": "code",
   "execution_count": 24,
   "metadata": {},
   "outputs": [
    {
     "data": {
      "text/html": [
       "<div>\n",
       "<style scoped>\n",
       "    .dataframe tbody tr th:only-of-type {\n",
       "        vertical-align: middle;\n",
       "    }\n",
       "\n",
       "    .dataframe tbody tr th {\n",
       "        vertical-align: top;\n",
       "    }\n",
       "\n",
       "    .dataframe thead th {\n",
       "        text-align: right;\n",
       "    }\n",
       "</style>\n",
       "<table border=\"1\" class=\"dataframe\">\n",
       "  <thead>\n",
       "    <tr style=\"text-align: right;\">\n",
       "      <th></th>\n",
       "      <th>LIMIT_BAL</th>\n",
       "      <th>SEX</th>\n",
       "      <th>EDUCATION</th>\n",
       "      <th>MARRIAGE</th>\n",
       "      <th>AGE</th>\n",
       "      <th>PAY_1</th>\n",
       "      <th>PAY_2</th>\n",
       "      <th>PAY_3</th>\n",
       "      <th>PAY_4</th>\n",
       "      <th>PAY_5</th>\n",
       "      <th>...</th>\n",
       "      <th>BILL_AMT3</th>\n",
       "      <th>BILL_AMT4</th>\n",
       "      <th>BILL_AMT5</th>\n",
       "      <th>BILL_AMT6</th>\n",
       "      <th>PAY_AMT1</th>\n",
       "      <th>PAY_AMT2</th>\n",
       "      <th>PAY_AMT3</th>\n",
       "      <th>PAY_AMT4</th>\n",
       "      <th>PAY_AMT5</th>\n",
       "      <th>PAY_AMT6</th>\n",
       "    </tr>\n",
       "  </thead>\n",
       "  <tbody>\n",
       "    <tr>\n",
       "      <th>21753</th>\n",
       "      <td>80000</td>\n",
       "      <td>F</td>\n",
       "      <td>University</td>\n",
       "      <td>Single</td>\n",
       "      <td>24</td>\n",
       "      <td>0</td>\n",
       "      <td>0</td>\n",
       "      <td>0</td>\n",
       "      <td>0</td>\n",
       "      <td>0</td>\n",
       "      <td>...</td>\n",
       "      <td>78321</td>\n",
       "      <td>73731</td>\n",
       "      <td>39643</td>\n",
       "      <td>39457</td>\n",
       "      <td>3503</td>\n",
       "      <td>5001</td>\n",
       "      <td>2092</td>\n",
       "      <td>1218</td>\n",
       "      <td>1445</td>\n",
       "      <td>878</td>\n",
       "    </tr>\n",
       "    <tr>\n",
       "      <th>251</th>\n",
       "      <td>30000</td>\n",
       "      <td>M</td>\n",
       "      <td>University</td>\n",
       "      <td>Single</td>\n",
       "      <td>28</td>\n",
       "      <td>0</td>\n",
       "      <td>0</td>\n",
       "      <td>0</td>\n",
       "      <td>0</td>\n",
       "      <td>0</td>\n",
       "      <td>...</td>\n",
       "      <td>29155</td>\n",
       "      <td>25255</td>\n",
       "      <td>22001</td>\n",
       "      <td>0</td>\n",
       "      <td>5006</td>\n",
       "      <td>1244</td>\n",
       "      <td>851</td>\n",
       "      <td>955</td>\n",
       "      <td>0</td>\n",
       "      <td>0</td>\n",
       "    </tr>\n",
       "    <tr>\n",
       "      <th>22941</th>\n",
       "      <td>180000</td>\n",
       "      <td>F</td>\n",
       "      <td>Others</td>\n",
       "      <td>Married</td>\n",
       "      <td>44</td>\n",
       "      <td>0</td>\n",
       "      <td>0</td>\n",
       "      <td>-1</td>\n",
       "      <td>-1</td>\n",
       "      <td>-1</td>\n",
       "      <td>...</td>\n",
       "      <td>850</td>\n",
       "      <td>0</td>\n",
       "      <td>6881</td>\n",
       "      <td>10340</td>\n",
       "      <td>0</td>\n",
       "      <td>850</td>\n",
       "      <td>0</td>\n",
       "      <td>6881</td>\n",
       "      <td>10340</td>\n",
       "      <td>182</td>\n",
       "    </tr>\n",
       "    <tr>\n",
       "      <th>618</th>\n",
       "      <td>60000</td>\n",
       "      <td>M</td>\n",
       "      <td>GradSchool</td>\n",
       "      <td>Single</td>\n",
       "      <td>25</td>\n",
       "      <td>0</td>\n",
       "      <td>0</td>\n",
       "      <td>0</td>\n",
       "      <td>0</td>\n",
       "      <td>0</td>\n",
       "      <td>...</td>\n",
       "      <td>38533</td>\n",
       "      <td>39639</td>\n",
       "      <td>39619</td>\n",
       "      <td>39140</td>\n",
       "      <td>2018</td>\n",
       "      <td>1900</td>\n",
       "      <td>2000</td>\n",
       "      <td>1500</td>\n",
       "      <td>1900</td>\n",
       "      <td>2000</td>\n",
       "    </tr>\n",
       "    <tr>\n",
       "      <th>17090</th>\n",
       "      <td>130000</td>\n",
       "      <td>F</td>\n",
       "      <td>University</td>\n",
       "      <td>Single</td>\n",
       "      <td>25</td>\n",
       "      <td>0</td>\n",
       "      <td>0</td>\n",
       "      <td>0</td>\n",
       "      <td>0</td>\n",
       "      <td>0</td>\n",
       "      <td>...</td>\n",
       "      <td>114734</td>\n",
       "      <td>117823</td>\n",
       "      <td>120854</td>\n",
       "      <td>123904</td>\n",
       "      <td>4100</td>\n",
       "      <td>4200</td>\n",
       "      <td>5000</td>\n",
       "      <td>5000</td>\n",
       "      <td>5000</td>\n",
       "      <td>10700</td>\n",
       "    </tr>\n",
       "  </tbody>\n",
       "</table>\n",
       "<p>5 rows × 23 columns</p>\n",
       "</div>"
      ],
      "text/plain": [
       "       LIMIT_BAL SEX   EDUCATION MARRIAGE  AGE  PAY_1  PAY_2  PAY_3  PAY_4  \\\n",
       "21753      80000   F  University   Single   24      0      0      0      0   \n",
       "251        30000   M  University   Single   28      0      0      0      0   \n",
       "22941     180000   F      Others  Married   44      0      0     -1     -1   \n",
       "618        60000   M  GradSchool   Single   25      0      0      0      0   \n",
       "17090     130000   F  University   Single   25      0      0      0      0   \n",
       "\n",
       "       PAY_5  ...  BILL_AMT3  BILL_AMT4  BILL_AMT5  BILL_AMT6  PAY_AMT1  \\\n",
       "21753      0  ...      78321      73731      39643      39457      3503   \n",
       "251        0  ...      29155      25255      22001          0      5006   \n",
       "22941     -1  ...        850          0       6881      10340         0   \n",
       "618        0  ...      38533      39639      39619      39140      2018   \n",
       "17090      0  ...     114734     117823     120854     123904      4100   \n",
       "\n",
       "       PAY_AMT2  PAY_AMT3  PAY_AMT4  PAY_AMT5  PAY_AMT6  \n",
       "21753      5001      2092      1218      1445       878  \n",
       "251        1244       851       955         0         0  \n",
       "22941       850         0      6881     10340       182  \n",
       "618        1900      2000      1500      1900      2000  \n",
       "17090      4200      5000      5000      5000     10700  \n",
       "\n",
       "[5 rows x 23 columns]"
      ]
     },
     "execution_count": 24,
     "metadata": {},
     "output_type": "execute_result"
    }
   ],
   "source": [
    "df_train_X.head()"
   ]
  },
  {
   "cell_type": "code",
   "execution_count": 25,
   "metadata": {},
   "outputs": [],
   "source": [
    "df_test_y = df_test['DEFAULT'].copy()\n",
    "df_test_X = df_test.drop('DEFAULT', axis = 1)"
   ]
  },
  {
   "cell_type": "code",
   "execution_count": 26,
   "metadata": {},
   "outputs": [
    {
     "data": {
      "text/plain": [
       "0.22179166666666666"
      ]
     },
     "execution_count": 26,
     "metadata": {},
     "output_type": "execute_result"
    }
   ],
   "source": [
    "df_train_y.sum() / df_train_X.shape[0]"
   ]
  },
  {
   "cell_type": "code",
   "execution_count": 27,
   "metadata": {},
   "outputs": [
    {
     "data": {
      "text/plain": [
       "0.21883333333333332"
      ]
     },
     "execution_count": 27,
     "metadata": {},
     "output_type": "execute_result"
    }
   ],
   "source": [
    "df_test_y.sum() / df_test_X.shape[0]"
   ]
  },
  {
   "cell_type": "markdown",
   "metadata": {},
   "source": [
    "Class ratios for both training and test set are fairly similar"
   ]
  },
  {
   "cell_type": "markdown",
   "metadata": {},
   "source": [
    "# Data Cleaning Pipeline"
   ]
  },
  {
   "cell_type": "code",
   "execution_count": 28,
   "metadata": {},
   "outputs": [],
   "source": [
    "# From https://ramhiser.com/post/2018-04-16-building-scikit-learn-pipeline-with-pandas-dataframe/\n",
    "\n",
    "from sklearn.base import BaseEstimator, TransformerMixin\n",
    "\n",
    "class ColumnSelector(BaseEstimator, TransformerMixin):\n",
    "    def __init__(self, columns):\n",
    "        self.columns = columns\n",
    "    def fit(self, X, y=None):\n",
    "        return self\n",
    "    def transform(self, X):\n",
    "        assert isinstance(X, pd.DataFrame)\n",
    "\n",
    "        try:\n",
    "            return X[self.columns]\n",
    "        except KeyError:\n",
    "            cols_error = list(set(self.columns) - set(X.columns))\n",
    "            raise KeyError(\"The DataFrame does not include the columns: %s\" % cols_error)\n",
    "\n",
    "class ColumnExcluder(BaseEstimator, TransformerMixin):\n",
    "    def __init__(self, columns):\n",
    "        self.columns = columns\n",
    "    def fit(self, X, y=None):\n",
    "        return self\n",
    "    def transform(self, X):\n",
    "        assert isinstance(X, pd.DataFrame)\n",
    "\n",
    "        try:\n",
    "            return X[set(X.columns) - set(self.columns)]\n",
    "        except KeyError:\n",
    "            cols_error = list(set(self.columns) - set(X.columns))\n",
    "            raise KeyError(\"The DataFrame does not include the columns: %s\" % cols_error)\n",
    "\n",
    "class TypeSelector(BaseEstimator, TransformerMixin):\n",
    "    def __init__(self, dtype):\n",
    "        self.dtype = dtype\n",
    "    def fit(self, X, y=None):\n",
    "        return self\n",
    "    def transform(self, X):\n",
    "        assert isinstance(X, pd.DataFrame)\n",
    "        return X.select_dtypes(include=[self.dtype])"
   ]
  },
  {
   "cell_type": "code",
   "execution_count": 29,
   "metadata": {},
   "outputs": [
    {
     "data": {
      "text/html": [
       "<div>\n",
       "<style scoped>\n",
       "    .dataframe tbody tr th:only-of-type {\n",
       "        vertical-align: middle;\n",
       "    }\n",
       "\n",
       "    .dataframe tbody tr th {\n",
       "        vertical-align: top;\n",
       "    }\n",
       "\n",
       "    .dataframe thead th {\n",
       "        text-align: right;\n",
       "    }\n",
       "</style>\n",
       "<table border=\"1\" class=\"dataframe\">\n",
       "  <thead>\n",
       "    <tr style=\"text-align: right;\">\n",
       "      <th></th>\n",
       "      <th>AGE</th>\n",
       "      <th>EDUCATION</th>\n",
       "    </tr>\n",
       "  </thead>\n",
       "  <tbody>\n",
       "    <tr>\n",
       "      <th>21753</th>\n",
       "      <td>24</td>\n",
       "      <td>University</td>\n",
       "    </tr>\n",
       "    <tr>\n",
       "      <th>251</th>\n",
       "      <td>28</td>\n",
       "      <td>University</td>\n",
       "    </tr>\n",
       "    <tr>\n",
       "      <th>22941</th>\n",
       "      <td>44</td>\n",
       "      <td>Others</td>\n",
       "    </tr>\n",
       "    <tr>\n",
       "      <th>618</th>\n",
       "      <td>25</td>\n",
       "      <td>GradSchool</td>\n",
       "    </tr>\n",
       "    <tr>\n",
       "      <th>17090</th>\n",
       "      <td>25</td>\n",
       "      <td>University</td>\n",
       "    </tr>\n",
       "  </tbody>\n",
       "</table>\n",
       "</div>"
      ],
      "text/plain": [
       "       AGE   EDUCATION\n",
       "21753   24  University\n",
       "251     28  University\n",
       "22941   44      Others\n",
       "618     25  GradSchool\n",
       "17090   25  University"
      ]
     },
     "execution_count": 29,
     "metadata": {},
     "output_type": "execute_result"
    }
   ],
   "source": [
    "cs = ColumnSelector(['AGE','EDUCATION'])\n",
    "cs.fit_transform(df_train_X).head()"
   ]
  },
  {
   "cell_type": "code",
   "execution_count": 30,
   "metadata": {
    "scrolled": true
   },
   "outputs": [
    {
     "data": {
      "text/html": [
       "<div>\n",
       "<style scoped>\n",
       "    .dataframe tbody tr th:only-of-type {\n",
       "        vertical-align: middle;\n",
       "    }\n",
       "\n",
       "    .dataframe tbody tr th {\n",
       "        vertical-align: top;\n",
       "    }\n",
       "\n",
       "    .dataframe thead th {\n",
       "        text-align: right;\n",
       "    }\n",
       "</style>\n",
       "<table border=\"1\" class=\"dataframe\">\n",
       "  <thead>\n",
       "    <tr style=\"text-align: right;\">\n",
       "      <th></th>\n",
       "      <th>BILL_AMT4</th>\n",
       "      <th>PAY_AMT4</th>\n",
       "      <th>SEX</th>\n",
       "      <th>AGE</th>\n",
       "      <th>PAY_AMT3</th>\n",
       "      <th>PAY_AMT2</th>\n",
       "      <th>BILL_AMT5</th>\n",
       "      <th>EDUCATION</th>\n",
       "      <th>BILL_AMT3</th>\n",
       "      <th>PAY_AMT6</th>\n",
       "      <th>PAY_AMT1</th>\n",
       "      <th>BILL_AMT1</th>\n",
       "      <th>LIMIT_BAL</th>\n",
       "      <th>BILL_AMT6</th>\n",
       "      <th>PAY_AMT5</th>\n",
       "      <th>BILL_AMT2</th>\n",
       "      <th>MARRIAGE</th>\n",
       "    </tr>\n",
       "  </thead>\n",
       "  <tbody>\n",
       "    <tr>\n",
       "      <th>21753</th>\n",
       "      <td>73731</td>\n",
       "      <td>1218</td>\n",
       "      <td>F</td>\n",
       "      <td>24</td>\n",
       "      <td>2092</td>\n",
       "      <td>5001</td>\n",
       "      <td>39643</td>\n",
       "      <td>University</td>\n",
       "      <td>78321</td>\n",
       "      <td>878</td>\n",
       "      <td>3503</td>\n",
       "      <td>75125</td>\n",
       "      <td>80000</td>\n",
       "      <td>39457</td>\n",
       "      <td>1445</td>\n",
       "      <td>77353</td>\n",
       "      <td>Single</td>\n",
       "    </tr>\n",
       "    <tr>\n",
       "      <th>251</th>\n",
       "      <td>25255</td>\n",
       "      <td>955</td>\n",
       "      <td>M</td>\n",
       "      <td>28</td>\n",
       "      <td>851</td>\n",
       "      <td>1244</td>\n",
       "      <td>22001</td>\n",
       "      <td>University</td>\n",
       "      <td>29155</td>\n",
       "      <td>0</td>\n",
       "      <td>5006</td>\n",
       "      <td>29242</td>\n",
       "      <td>30000</td>\n",
       "      <td>0</td>\n",
       "      <td>0</td>\n",
       "      <td>29507</td>\n",
       "      <td>Single</td>\n",
       "    </tr>\n",
       "    <tr>\n",
       "      <th>22941</th>\n",
       "      <td>0</td>\n",
       "      <td>6881</td>\n",
       "      <td>F</td>\n",
       "      <td>44</td>\n",
       "      <td>0</td>\n",
       "      <td>850</td>\n",
       "      <td>6881</td>\n",
       "      <td>Others</td>\n",
       "      <td>850</td>\n",
       "      <td>182</td>\n",
       "      <td>0</td>\n",
       "      <td>20916</td>\n",
       "      <td>180000</td>\n",
       "      <td>10340</td>\n",
       "      <td>10340</td>\n",
       "      <td>0</td>\n",
       "      <td>Married</td>\n",
       "    </tr>\n",
       "    <tr>\n",
       "      <th>618</th>\n",
       "      <td>39639</td>\n",
       "      <td>1500</td>\n",
       "      <td>M</td>\n",
       "      <td>25</td>\n",
       "      <td>2000</td>\n",
       "      <td>1900</td>\n",
       "      <td>39619</td>\n",
       "      <td>GradSchool</td>\n",
       "      <td>38533</td>\n",
       "      <td>2000</td>\n",
       "      <td>2018</td>\n",
       "      <td>58839</td>\n",
       "      <td>60000</td>\n",
       "      <td>39140</td>\n",
       "      <td>1900</td>\n",
       "      <td>53235</td>\n",
       "      <td>Single</td>\n",
       "    </tr>\n",
       "    <tr>\n",
       "      <th>17090</th>\n",
       "      <td>117823</td>\n",
       "      <td>5000</td>\n",
       "      <td>F</td>\n",
       "      <td>25</td>\n",
       "      <td>5000</td>\n",
       "      <td>4200</td>\n",
       "      <td>120854</td>\n",
       "      <td>University</td>\n",
       "      <td>114734</td>\n",
       "      <td>10700</td>\n",
       "      <td>4100</td>\n",
       "      <td>111587</td>\n",
       "      <td>130000</td>\n",
       "      <td>123904</td>\n",
       "      <td>5000</td>\n",
       "      <td>112348</td>\n",
       "      <td>Single</td>\n",
       "    </tr>\n",
       "  </tbody>\n",
       "</table>\n",
       "</div>"
      ],
      "text/plain": [
       "       BILL_AMT4  PAY_AMT4 SEX  AGE  PAY_AMT3  PAY_AMT2  BILL_AMT5  \\\n",
       "21753      73731      1218   F   24      2092      5001      39643   \n",
       "251        25255       955   M   28       851      1244      22001   \n",
       "22941          0      6881   F   44         0       850       6881   \n",
       "618        39639      1500   M   25      2000      1900      39619   \n",
       "17090     117823      5000   F   25      5000      4200     120854   \n",
       "\n",
       "        EDUCATION  BILL_AMT3  PAY_AMT6  PAY_AMT1  BILL_AMT1  LIMIT_BAL  \\\n",
       "21753  University      78321       878      3503      75125      80000   \n",
       "251    University      29155         0      5006      29242      30000   \n",
       "22941      Others        850       182         0      20916     180000   \n",
       "618    GradSchool      38533      2000      2018      58839      60000   \n",
       "17090  University     114734     10700      4100     111587     130000   \n",
       "\n",
       "       BILL_AMT6  PAY_AMT5  BILL_AMT2 MARRIAGE  \n",
       "21753      39457      1445      77353   Single  \n",
       "251            0         0      29507   Single  \n",
       "22941      10340     10340          0  Married  \n",
       "618        39140      1900      53235   Single  \n",
       "17090     123904      5000     112348   Single  "
      ]
     },
     "execution_count": 30,
     "metadata": {},
     "output_type": "execute_result"
    }
   ],
   "source": [
    "ce = ColumnExcluder(columns=['PAY_' + str(i) for i in range(1, 7)])\n",
    "ce.fit_transform(df_train_X).head()"
   ]
  },
  {
   "cell_type": "code",
   "execution_count": 31,
   "metadata": {},
   "outputs": [
    {
     "data": {
      "text/html": [
       "<div>\n",
       "<style scoped>\n",
       "    .dataframe tbody tr th:only-of-type {\n",
       "        vertical-align: middle;\n",
       "    }\n",
       "\n",
       "    .dataframe tbody tr th {\n",
       "        vertical-align: top;\n",
       "    }\n",
       "\n",
       "    .dataframe thead th {\n",
       "        text-align: right;\n",
       "    }\n",
       "</style>\n",
       "<table border=\"1\" class=\"dataframe\">\n",
       "  <thead>\n",
       "    <tr style=\"text-align: right;\">\n",
       "      <th></th>\n",
       "      <th>SEX</th>\n",
       "      <th>EDUCATION</th>\n",
       "      <th>MARRIAGE</th>\n",
       "    </tr>\n",
       "  </thead>\n",
       "  <tbody>\n",
       "    <tr>\n",
       "      <th>21753</th>\n",
       "      <td>F</td>\n",
       "      <td>University</td>\n",
       "      <td>Single</td>\n",
       "    </tr>\n",
       "    <tr>\n",
       "      <th>251</th>\n",
       "      <td>M</td>\n",
       "      <td>University</td>\n",
       "      <td>Single</td>\n",
       "    </tr>\n",
       "    <tr>\n",
       "      <th>22941</th>\n",
       "      <td>F</td>\n",
       "      <td>Others</td>\n",
       "      <td>Married</td>\n",
       "    </tr>\n",
       "    <tr>\n",
       "      <th>618</th>\n",
       "      <td>M</td>\n",
       "      <td>GradSchool</td>\n",
       "      <td>Single</td>\n",
       "    </tr>\n",
       "    <tr>\n",
       "      <th>17090</th>\n",
       "      <td>F</td>\n",
       "      <td>University</td>\n",
       "      <td>Single</td>\n",
       "    </tr>\n",
       "  </tbody>\n",
       "</table>\n",
       "</div>"
      ],
      "text/plain": [
       "      SEX   EDUCATION MARRIAGE\n",
       "21753   F  University   Single\n",
       "251     M  University   Single\n",
       "22941   F      Others  Married\n",
       "618     M  GradSchool   Single\n",
       "17090   F  University   Single"
      ]
     },
     "execution_count": 31,
     "metadata": {},
     "output_type": "execute_result"
    }
   ],
   "source": [
    "ts_categorical = TypeSelector(\"object\")\n",
    "ts_categorical.fit_transform(df_train_X).head()"
   ]
  },
  {
   "cell_type": "code",
   "execution_count": 32,
   "metadata": {},
   "outputs": [
    {
     "data": {
      "text/html": [
       "<div>\n",
       "<style scoped>\n",
       "    .dataframe tbody tr th:only-of-type {\n",
       "        vertical-align: middle;\n",
       "    }\n",
       "\n",
       "    .dataframe tbody tr th {\n",
       "        vertical-align: top;\n",
       "    }\n",
       "\n",
       "    .dataframe thead th {\n",
       "        text-align: right;\n",
       "    }\n",
       "</style>\n",
       "<table border=\"1\" class=\"dataframe\">\n",
       "  <thead>\n",
       "    <tr style=\"text-align: right;\">\n",
       "      <th></th>\n",
       "      <th>LIMIT_BAL</th>\n",
       "      <th>AGE</th>\n",
       "      <th>PAY_1</th>\n",
       "      <th>PAY_2</th>\n",
       "      <th>PAY_3</th>\n",
       "      <th>PAY_4</th>\n",
       "      <th>PAY_5</th>\n",
       "      <th>PAY_6</th>\n",
       "      <th>BILL_AMT1</th>\n",
       "      <th>BILL_AMT2</th>\n",
       "      <th>BILL_AMT3</th>\n",
       "      <th>BILL_AMT4</th>\n",
       "      <th>BILL_AMT5</th>\n",
       "      <th>BILL_AMT6</th>\n",
       "      <th>PAY_AMT1</th>\n",
       "      <th>PAY_AMT2</th>\n",
       "      <th>PAY_AMT3</th>\n",
       "      <th>PAY_AMT4</th>\n",
       "      <th>PAY_AMT5</th>\n",
       "      <th>PAY_AMT6</th>\n",
       "    </tr>\n",
       "  </thead>\n",
       "  <tbody>\n",
       "    <tr>\n",
       "      <th>21753</th>\n",
       "      <td>80000</td>\n",
       "      <td>24</td>\n",
       "      <td>0</td>\n",
       "      <td>0</td>\n",
       "      <td>0</td>\n",
       "      <td>0</td>\n",
       "      <td>0</td>\n",
       "      <td>0</td>\n",
       "      <td>75125</td>\n",
       "      <td>77353</td>\n",
       "      <td>78321</td>\n",
       "      <td>73731</td>\n",
       "      <td>39643</td>\n",
       "      <td>39457</td>\n",
       "      <td>3503</td>\n",
       "      <td>5001</td>\n",
       "      <td>2092</td>\n",
       "      <td>1218</td>\n",
       "      <td>1445</td>\n",
       "      <td>878</td>\n",
       "    </tr>\n",
       "    <tr>\n",
       "      <th>251</th>\n",
       "      <td>30000</td>\n",
       "      <td>28</td>\n",
       "      <td>0</td>\n",
       "      <td>0</td>\n",
       "      <td>0</td>\n",
       "      <td>0</td>\n",
       "      <td>0</td>\n",
       "      <td>0</td>\n",
       "      <td>29242</td>\n",
       "      <td>29507</td>\n",
       "      <td>29155</td>\n",
       "      <td>25255</td>\n",
       "      <td>22001</td>\n",
       "      <td>0</td>\n",
       "      <td>5006</td>\n",
       "      <td>1244</td>\n",
       "      <td>851</td>\n",
       "      <td>955</td>\n",
       "      <td>0</td>\n",
       "      <td>0</td>\n",
       "    </tr>\n",
       "    <tr>\n",
       "      <th>22941</th>\n",
       "      <td>180000</td>\n",
       "      <td>44</td>\n",
       "      <td>0</td>\n",
       "      <td>0</td>\n",
       "      <td>-1</td>\n",
       "      <td>-1</td>\n",
       "      <td>-1</td>\n",
       "      <td>-1</td>\n",
       "      <td>20916</td>\n",
       "      <td>0</td>\n",
       "      <td>850</td>\n",
       "      <td>0</td>\n",
       "      <td>6881</td>\n",
       "      <td>10340</td>\n",
       "      <td>0</td>\n",
       "      <td>850</td>\n",
       "      <td>0</td>\n",
       "      <td>6881</td>\n",
       "      <td>10340</td>\n",
       "      <td>182</td>\n",
       "    </tr>\n",
       "    <tr>\n",
       "      <th>618</th>\n",
       "      <td>60000</td>\n",
       "      <td>25</td>\n",
       "      <td>0</td>\n",
       "      <td>0</td>\n",
       "      <td>0</td>\n",
       "      <td>0</td>\n",
       "      <td>0</td>\n",
       "      <td>0</td>\n",
       "      <td>58839</td>\n",
       "      <td>53235</td>\n",
       "      <td>38533</td>\n",
       "      <td>39639</td>\n",
       "      <td>39619</td>\n",
       "      <td>39140</td>\n",
       "      <td>2018</td>\n",
       "      <td>1900</td>\n",
       "      <td>2000</td>\n",
       "      <td>1500</td>\n",
       "      <td>1900</td>\n",
       "      <td>2000</td>\n",
       "    </tr>\n",
       "    <tr>\n",
       "      <th>17090</th>\n",
       "      <td>130000</td>\n",
       "      <td>25</td>\n",
       "      <td>0</td>\n",
       "      <td>0</td>\n",
       "      <td>0</td>\n",
       "      <td>0</td>\n",
       "      <td>0</td>\n",
       "      <td>0</td>\n",
       "      <td>111587</td>\n",
       "      <td>112348</td>\n",
       "      <td>114734</td>\n",
       "      <td>117823</td>\n",
       "      <td>120854</td>\n",
       "      <td>123904</td>\n",
       "      <td>4100</td>\n",
       "      <td>4200</td>\n",
       "      <td>5000</td>\n",
       "      <td>5000</td>\n",
       "      <td>5000</td>\n",
       "      <td>10700</td>\n",
       "    </tr>\n",
       "  </tbody>\n",
       "</table>\n",
       "</div>"
      ],
      "text/plain": [
       "       LIMIT_BAL  AGE  PAY_1  PAY_2  PAY_3  PAY_4  PAY_5  PAY_6  BILL_AMT1  \\\n",
       "21753      80000   24      0      0      0      0      0      0      75125   \n",
       "251        30000   28      0      0      0      0      0      0      29242   \n",
       "22941     180000   44      0      0     -1     -1     -1     -1      20916   \n",
       "618        60000   25      0      0      0      0      0      0      58839   \n",
       "17090     130000   25      0      0      0      0      0      0     111587   \n",
       "\n",
       "       BILL_AMT2  BILL_AMT3  BILL_AMT4  BILL_AMT5  BILL_AMT6  PAY_AMT1  \\\n",
       "21753      77353      78321      73731      39643      39457      3503   \n",
       "251        29507      29155      25255      22001          0      5006   \n",
       "22941          0        850          0       6881      10340         0   \n",
       "618        53235      38533      39639      39619      39140      2018   \n",
       "17090     112348     114734     117823     120854     123904      4100   \n",
       "\n",
       "       PAY_AMT2  PAY_AMT3  PAY_AMT4  PAY_AMT5  PAY_AMT6  \n",
       "21753      5001      2092      1218      1445       878  \n",
       "251        1244       851       955         0         0  \n",
       "22941       850         0      6881     10340       182  \n",
       "618        1900      2000      1500      1900      2000  \n",
       "17090      4200      5000      5000      5000     10700  "
      ]
     },
     "execution_count": 32,
     "metadata": {},
     "output_type": "execute_result"
    }
   ],
   "source": [
    "ts_numerical = TypeSelector(np.number)\n",
    "ts_numerical.fit_transform(df_train_X).head()"
   ]
  },
  {
   "cell_type": "code",
   "execution_count": 33,
   "metadata": {},
   "outputs": [],
   "source": [
    "from sklearn.pipeline import Pipeline\n",
    "from sklearn.pipeline import make_pipeline\n",
    "from sklearn.pipeline import FeatureUnion\n",
    "from sklearn.preprocessing import OneHotEncoder\n",
    "from sklearn.preprocessing import MinMaxScaler\n",
    "from sklearn.preprocessing import StandardScaler"
   ]
  },
  {
   "cell_type": "code",
   "execution_count": 34,
   "metadata": {},
   "outputs": [],
   "source": [
    "preprocess_pipeline = make_pipeline(\n",
    "    FeatureUnion(transformer_list=[\n",
    "        (\"numeric_features_untouch\", make_pipeline(\n",
    "            ColumnSelector(columns=['AGE'] + ['PAY_' + str(i) for i in range(1, 7)])\n",
    "        )),\n",
    "        (\"numeric_features_transform\", make_pipeline(\n",
    "            ColumnSelector(columns=['LIMIT_BAL'] + ['PAY_AMT' + str(i) for i in range(1, 7)] + ['BILL_AMT' + str(i) for i in range(1, 7)] ),\n",
    "            # Standardize\n",
    "            MinMaxScaler(),\n",
    "            # Normalize\n",
    "            # StandardScaler()\n",
    "        )),\n",
    "        (\"categorical_features\", make_pipeline(\n",
    "            # Select all categorical features\n",
    "            TypeSelector(\"object\"),\n",
    "            # One-Hot Encode\n",
    "            OneHotEncoder()\n",
    "        ))\n",
    "    ])\n",
    ")"
   ]
  },
  {
   "cell_type": "markdown",
   "metadata": {},
   "source": [
    "# Transform Train/Test Data"
   ]
  },
  {
   "cell_type": "code",
   "execution_count": 35,
   "metadata": {
    "scrolled": false
   },
   "outputs": [
    {
     "name": "stderr",
     "output_type": "stream",
     "text": [
      "D:\\Anaconda3\\lib\\site-packages\\sklearn\\preprocessing\\data.py:323: DataConversionWarning: Data with input dtype int64 were all converted to float64 by MinMaxScaler.\n",
      "  return self.partial_fit(X, y)\n"
     ]
    }
   ],
   "source": [
    "preprocess_pipeline.fit(df_train_X)\n",
    "\n",
    "df_train_X_transformed = preprocess_pipeline.transform(df_train_X)"
   ]
  },
  {
   "cell_type": "code",
   "execution_count": 36,
   "metadata": {},
   "outputs": [],
   "source": [
    "df_test_X_transformed = preprocess_pipeline.transform(df_test_X)"
   ]
  },
  {
   "cell_type": "code",
   "execution_count": 37,
   "metadata": {},
   "outputs": [],
   "source": [
    "final_features = ['AGE'\n",
    "                  , 'PAY_1', 'PAY_2', 'PAY_3', 'PAY_4', 'PAY_5', 'PAY_6'\n",
    "                  , 'LIMIT_BAL'\n",
    "                  , 'PAY_AMT1', 'PAY_AMT2', 'PAY_AMT3', 'PAY_AMT4', 'PAY_AMT5', 'PAY_AMT6'\n",
    "                  , 'BILL_AMT1', 'BILL_AMT2', 'BILL_AMT3', 'BILL_AMT4', 'BILL_AMT5', 'BILL_AMT6'\n",
    "                  , 'F', 'M'\n",
    "                  , 'GradSchool', 'HighSchool', 'Others', 'University'\n",
    "                  , 'Married', 'Others', 'Single']"
   ]
  },
  {
   "cell_type": "code",
   "execution_count": 38,
   "metadata": {},
   "outputs": [
    {
     "data": {
      "text/plain": [
       "29"
      ]
     },
     "execution_count": 38,
     "metadata": {},
     "output_type": "execute_result"
    }
   ],
   "source": [
    "len(final_features)"
   ]
  },
  {
   "cell_type": "code",
   "execution_count": 39,
   "metadata": {},
   "outputs": [
    {
     "data": {
      "text/html": [
       "<div>\n",
       "<style scoped>\n",
       "    .dataframe tbody tr th:only-of-type {\n",
       "        vertical-align: middle;\n",
       "    }\n",
       "\n",
       "    .dataframe tbody tr th {\n",
       "        vertical-align: top;\n",
       "    }\n",
       "\n",
       "    .dataframe thead th {\n",
       "        text-align: right;\n",
       "    }\n",
       "</style>\n",
       "<table border=\"1\" class=\"dataframe\">\n",
       "  <thead>\n",
       "    <tr style=\"text-align: right;\">\n",
       "      <th></th>\n",
       "      <th>count</th>\n",
       "      <th>mean</th>\n",
       "      <th>std</th>\n",
       "      <th>min</th>\n",
       "      <th>25%</th>\n",
       "      <th>50%</th>\n",
       "      <th>75%</th>\n",
       "      <th>max</th>\n",
       "    </tr>\n",
       "  </thead>\n",
       "  <tbody>\n",
       "    <tr>\n",
       "      <th>AGE</th>\n",
       "      <td>24000.0</td>\n",
       "      <td>35.494</td>\n",
       "      <td>9.235</td>\n",
       "      <td>21.0</td>\n",
       "      <td>28.000</td>\n",
       "      <td>34.000</td>\n",
       "      <td>42.000</td>\n",
       "      <td>79.0</td>\n",
       "    </tr>\n",
       "    <tr>\n",
       "      <th>PAY_1</th>\n",
       "      <td>24000.0</td>\n",
       "      <td>-0.017</td>\n",
       "      <td>1.126</td>\n",
       "      <td>-2.0</td>\n",
       "      <td>-1.000</td>\n",
       "      <td>0.000</td>\n",
       "      <td>0.000</td>\n",
       "      <td>8.0</td>\n",
       "    </tr>\n",
       "    <tr>\n",
       "      <th>PAY_2</th>\n",
       "      <td>24000.0</td>\n",
       "      <td>-0.131</td>\n",
       "      <td>1.198</td>\n",
       "      <td>-2.0</td>\n",
       "      <td>-1.000</td>\n",
       "      <td>0.000</td>\n",
       "      <td>0.000</td>\n",
       "      <td>8.0</td>\n",
       "    </tr>\n",
       "    <tr>\n",
       "      <th>PAY_3</th>\n",
       "      <td>24000.0</td>\n",
       "      <td>-0.168</td>\n",
       "      <td>1.192</td>\n",
       "      <td>-2.0</td>\n",
       "      <td>-1.000</td>\n",
       "      <td>0.000</td>\n",
       "      <td>0.000</td>\n",
       "      <td>8.0</td>\n",
       "    </tr>\n",
       "    <tr>\n",
       "      <th>PAY_4</th>\n",
       "      <td>24000.0</td>\n",
       "      <td>-0.220</td>\n",
       "      <td>1.168</td>\n",
       "      <td>-2.0</td>\n",
       "      <td>-1.000</td>\n",
       "      <td>0.000</td>\n",
       "      <td>0.000</td>\n",
       "      <td>8.0</td>\n",
       "    </tr>\n",
       "    <tr>\n",
       "      <th>PAY_5</th>\n",
       "      <td>24000.0</td>\n",
       "      <td>-0.265</td>\n",
       "      <td>1.133</td>\n",
       "      <td>-2.0</td>\n",
       "      <td>-1.000</td>\n",
       "      <td>0.000</td>\n",
       "      <td>0.000</td>\n",
       "      <td>8.0</td>\n",
       "    </tr>\n",
       "    <tr>\n",
       "      <th>PAY_6</th>\n",
       "      <td>24000.0</td>\n",
       "      <td>-0.289</td>\n",
       "      <td>1.152</td>\n",
       "      <td>-2.0</td>\n",
       "      <td>-1.000</td>\n",
       "      <td>0.000</td>\n",
       "      <td>0.000</td>\n",
       "      <td>8.0</td>\n",
       "    </tr>\n",
       "    <tr>\n",
       "      <th>LIMIT_BAL</th>\n",
       "      <td>24000.0</td>\n",
       "      <td>0.159</td>\n",
       "      <td>0.131</td>\n",
       "      <td>0.0</td>\n",
       "      <td>0.040</td>\n",
       "      <td>0.131</td>\n",
       "      <td>0.232</td>\n",
       "      <td>1.0</td>\n",
       "    </tr>\n",
       "    <tr>\n",
       "      <th>PAY_AMT1</th>\n",
       "      <td>24000.0</td>\n",
       "      <td>0.006</td>\n",
       "      <td>0.020</td>\n",
       "      <td>0.0</td>\n",
       "      <td>0.001</td>\n",
       "      <td>0.002</td>\n",
       "      <td>0.006</td>\n",
       "      <td>1.0</td>\n",
       "    </tr>\n",
       "    <tr>\n",
       "      <th>PAY_AMT2</th>\n",
       "      <td>24000.0</td>\n",
       "      <td>0.004</td>\n",
       "      <td>0.014</td>\n",
       "      <td>0.0</td>\n",
       "      <td>0.001</td>\n",
       "      <td>0.001</td>\n",
       "      <td>0.003</td>\n",
       "      <td>1.0</td>\n",
       "    </tr>\n",
       "    <tr>\n",
       "      <th>PAY_AMT3</th>\n",
       "      <td>24000.0</td>\n",
       "      <td>0.006</td>\n",
       "      <td>0.020</td>\n",
       "      <td>0.0</td>\n",
       "      <td>0.000</td>\n",
       "      <td>0.002</td>\n",
       "      <td>0.005</td>\n",
       "      <td>1.0</td>\n",
       "    </tr>\n",
       "    <tr>\n",
       "      <th>PAY_AMT4</th>\n",
       "      <td>24000.0</td>\n",
       "      <td>0.008</td>\n",
       "      <td>0.026</td>\n",
       "      <td>0.0</td>\n",
       "      <td>0.000</td>\n",
       "      <td>0.002</td>\n",
       "      <td>0.006</td>\n",
       "      <td>1.0</td>\n",
       "    </tr>\n",
       "    <tr>\n",
       "      <th>PAY_AMT5</th>\n",
       "      <td>24000.0</td>\n",
       "      <td>0.011</td>\n",
       "      <td>0.037</td>\n",
       "      <td>0.0</td>\n",
       "      <td>0.001</td>\n",
       "      <td>0.004</td>\n",
       "      <td>0.009</td>\n",
       "      <td>1.0</td>\n",
       "    </tr>\n",
       "    <tr>\n",
       "      <th>PAY_AMT6</th>\n",
       "      <td>24000.0</td>\n",
       "      <td>0.010</td>\n",
       "      <td>0.033</td>\n",
       "      <td>0.0</td>\n",
       "      <td>0.000</td>\n",
       "      <td>0.003</td>\n",
       "      <td>0.008</td>\n",
       "      <td>1.0</td>\n",
       "    </tr>\n",
       "    <tr>\n",
       "      <th>BILL_AMT1</th>\n",
       "      <td>24000.0</td>\n",
       "      <td>0.192</td>\n",
       "      <td>0.065</td>\n",
       "      <td>0.0</td>\n",
       "      <td>0.150</td>\n",
       "      <td>0.166</td>\n",
       "      <td>0.205</td>\n",
       "      <td>1.0</td>\n",
       "    </tr>\n",
       "    <tr>\n",
       "      <th>BILL_AMT2</th>\n",
       "      <td>24000.0</td>\n",
       "      <td>0.113</td>\n",
       "      <td>0.067</td>\n",
       "      <td>0.0</td>\n",
       "      <td>0.069</td>\n",
       "      <td>0.086</td>\n",
       "      <td>0.126</td>\n",
       "      <td>1.0</td>\n",
       "    </tr>\n",
       "    <tr>\n",
       "      <th>BILL_AMT3</th>\n",
       "      <td>24000.0</td>\n",
       "      <td>0.112</td>\n",
       "      <td>0.038</td>\n",
       "      <td>0.0</td>\n",
       "      <td>0.088</td>\n",
       "      <td>0.097</td>\n",
       "      <td>0.119</td>\n",
       "      <td>1.0</td>\n",
       "    </tr>\n",
       "    <tr>\n",
       "      <th>BILL_AMT4</th>\n",
       "      <td>24000.0</td>\n",
       "      <td>0.201</td>\n",
       "      <td>0.060</td>\n",
       "      <td>0.0</td>\n",
       "      <td>0.162</td>\n",
       "      <td>0.178</td>\n",
       "      <td>0.211</td>\n",
       "      <td>1.0</td>\n",
       "    </tr>\n",
       "    <tr>\n",
       "      <th>BILL_AMT5</th>\n",
       "      <td>24000.0</td>\n",
       "      <td>0.120</td>\n",
       "      <td>0.060</td>\n",
       "      <td>0.0</td>\n",
       "      <td>0.082</td>\n",
       "      <td>0.099</td>\n",
       "      <td>0.130</td>\n",
       "      <td>1.0</td>\n",
       "    </tr>\n",
       "    <tr>\n",
       "      <th>BILL_AMT6</th>\n",
       "      <td>24000.0</td>\n",
       "      <td>0.212</td>\n",
       "      <td>0.051</td>\n",
       "      <td>0.0</td>\n",
       "      <td>0.180</td>\n",
       "      <td>0.193</td>\n",
       "      <td>0.221</td>\n",
       "      <td>1.0</td>\n",
       "    </tr>\n",
       "    <tr>\n",
       "      <th>F</th>\n",
       "      <td>24000.0</td>\n",
       "      <td>0.605</td>\n",
       "      <td>0.489</td>\n",
       "      <td>0.0</td>\n",
       "      <td>0.000</td>\n",
       "      <td>1.000</td>\n",
       "      <td>1.000</td>\n",
       "      <td>1.0</td>\n",
       "    </tr>\n",
       "    <tr>\n",
       "      <th>M</th>\n",
       "      <td>24000.0</td>\n",
       "      <td>0.395</td>\n",
       "      <td>0.489</td>\n",
       "      <td>0.0</td>\n",
       "      <td>0.000</td>\n",
       "      <td>0.000</td>\n",
       "      <td>1.000</td>\n",
       "      <td>1.0</td>\n",
       "    </tr>\n",
       "    <tr>\n",
       "      <th>GradSchool</th>\n",
       "      <td>24000.0</td>\n",
       "      <td>0.353</td>\n",
       "      <td>0.478</td>\n",
       "      <td>0.0</td>\n",
       "      <td>0.000</td>\n",
       "      <td>0.000</td>\n",
       "      <td>1.000</td>\n",
       "      <td>1.0</td>\n",
       "    </tr>\n",
       "    <tr>\n",
       "      <th>HighSchool</th>\n",
       "      <td>24000.0</td>\n",
       "      <td>0.165</td>\n",
       "      <td>0.371</td>\n",
       "      <td>0.0</td>\n",
       "      <td>0.000</td>\n",
       "      <td>0.000</td>\n",
       "      <td>0.000</td>\n",
       "      <td>1.0</td>\n",
       "    </tr>\n",
       "    <tr>\n",
       "      <th>Others</th>\n",
       "      <td>24000.0</td>\n",
       "      <td>0.016</td>\n",
       "      <td>0.124</td>\n",
       "      <td>0.0</td>\n",
       "      <td>0.000</td>\n",
       "      <td>0.000</td>\n",
       "      <td>0.000</td>\n",
       "      <td>1.0</td>\n",
       "    </tr>\n",
       "    <tr>\n",
       "      <th>University</th>\n",
       "      <td>24000.0</td>\n",
       "      <td>0.466</td>\n",
       "      <td>0.499</td>\n",
       "      <td>0.0</td>\n",
       "      <td>0.000</td>\n",
       "      <td>0.000</td>\n",
       "      <td>1.000</td>\n",
       "      <td>1.0</td>\n",
       "    </tr>\n",
       "    <tr>\n",
       "      <th>Married</th>\n",
       "      <td>24000.0</td>\n",
       "      <td>0.456</td>\n",
       "      <td>0.498</td>\n",
       "      <td>0.0</td>\n",
       "      <td>0.000</td>\n",
       "      <td>0.000</td>\n",
       "      <td>1.000</td>\n",
       "      <td>1.0</td>\n",
       "    </tr>\n",
       "    <tr>\n",
       "      <th>Others</th>\n",
       "      <td>24000.0</td>\n",
       "      <td>0.013</td>\n",
       "      <td>0.113</td>\n",
       "      <td>0.0</td>\n",
       "      <td>0.000</td>\n",
       "      <td>0.000</td>\n",
       "      <td>0.000</td>\n",
       "      <td>1.0</td>\n",
       "    </tr>\n",
       "    <tr>\n",
       "      <th>Single</th>\n",
       "      <td>24000.0</td>\n",
       "      <td>0.531</td>\n",
       "      <td>0.499</td>\n",
       "      <td>0.0</td>\n",
       "      <td>0.000</td>\n",
       "      <td>1.000</td>\n",
       "      <td>1.000</td>\n",
       "      <td>1.0</td>\n",
       "    </tr>\n",
       "  </tbody>\n",
       "</table>\n",
       "</div>"
      ],
      "text/plain": [
       "              count    mean    std   min     25%     50%     75%   max\n",
       "AGE         24000.0  35.494  9.235  21.0  28.000  34.000  42.000  79.0\n",
       "PAY_1       24000.0  -0.017  1.126  -2.0  -1.000   0.000   0.000   8.0\n",
       "PAY_2       24000.0  -0.131  1.198  -2.0  -1.000   0.000   0.000   8.0\n",
       "PAY_3       24000.0  -0.168  1.192  -2.0  -1.000   0.000   0.000   8.0\n",
       "PAY_4       24000.0  -0.220  1.168  -2.0  -1.000   0.000   0.000   8.0\n",
       "PAY_5       24000.0  -0.265  1.133  -2.0  -1.000   0.000   0.000   8.0\n",
       "PAY_6       24000.0  -0.289  1.152  -2.0  -1.000   0.000   0.000   8.0\n",
       "LIMIT_BAL   24000.0   0.159  0.131   0.0   0.040   0.131   0.232   1.0\n",
       "PAY_AMT1    24000.0   0.006  0.020   0.0   0.001   0.002   0.006   1.0\n",
       "PAY_AMT2    24000.0   0.004  0.014   0.0   0.001   0.001   0.003   1.0\n",
       "PAY_AMT3    24000.0   0.006  0.020   0.0   0.000   0.002   0.005   1.0\n",
       "PAY_AMT4    24000.0   0.008  0.026   0.0   0.000   0.002   0.006   1.0\n",
       "PAY_AMT5    24000.0   0.011  0.037   0.0   0.001   0.004   0.009   1.0\n",
       "PAY_AMT6    24000.0   0.010  0.033   0.0   0.000   0.003   0.008   1.0\n",
       "BILL_AMT1   24000.0   0.192  0.065   0.0   0.150   0.166   0.205   1.0\n",
       "BILL_AMT2   24000.0   0.113  0.067   0.0   0.069   0.086   0.126   1.0\n",
       "BILL_AMT3   24000.0   0.112  0.038   0.0   0.088   0.097   0.119   1.0\n",
       "BILL_AMT4   24000.0   0.201  0.060   0.0   0.162   0.178   0.211   1.0\n",
       "BILL_AMT5   24000.0   0.120  0.060   0.0   0.082   0.099   0.130   1.0\n",
       "BILL_AMT6   24000.0   0.212  0.051   0.0   0.180   0.193   0.221   1.0\n",
       "F           24000.0   0.605  0.489   0.0   0.000   1.000   1.000   1.0\n",
       "M           24000.0   0.395  0.489   0.0   0.000   0.000   1.000   1.0\n",
       "GradSchool  24000.0   0.353  0.478   0.0   0.000   0.000   1.000   1.0\n",
       "HighSchool  24000.0   0.165  0.371   0.0   0.000   0.000   0.000   1.0\n",
       "Others      24000.0   0.016  0.124   0.0   0.000   0.000   0.000   1.0\n",
       "University  24000.0   0.466  0.499   0.0   0.000   0.000   1.000   1.0\n",
       "Married     24000.0   0.456  0.498   0.0   0.000   0.000   1.000   1.0\n",
       "Others      24000.0   0.013  0.113   0.0   0.000   0.000   0.000   1.0\n",
       "Single      24000.0   0.531  0.499   0.0   0.000   1.000   1.000   1.0"
      ]
     },
     "execution_count": 39,
     "metadata": {},
     "output_type": "execute_result"
    }
   ],
   "source": [
    "pd.DataFrame(df_train_X_transformed.toarray(), columns=final_features).describe().T.round(3)"
   ]
  },
  {
   "cell_type": "code",
   "execution_count": 40,
   "metadata": {},
   "outputs": [
    {
     "data": {
      "text/plain": [
       "(6000, 29)"
      ]
     },
     "execution_count": 40,
     "metadata": {},
     "output_type": "execute_result"
    }
   ],
   "source": [
    "df_test_X_transformed.shape"
   ]
  },
  {
   "cell_type": "code",
   "execution_count": 41,
   "metadata": {},
   "outputs": [
    {
     "data": {
      "text/plain": [
       "(24000,)"
      ]
     },
     "execution_count": 41,
     "metadata": {},
     "output_type": "execute_result"
    }
   ],
   "source": [
    "df_train_y.shape"
   ]
  },
  {
   "cell_type": "code",
   "execution_count": 42,
   "metadata": {},
   "outputs": [
    {
     "data": {
      "text/plain": [
       "(6000,)"
      ]
     },
     "execution_count": 42,
     "metadata": {},
     "output_type": "execute_result"
    }
   ],
   "source": [
    "df_test_y.shape"
   ]
  },
  {
   "cell_type": "markdown",
   "metadata": {},
   "source": [
    "# Random Forest"
   ]
  },
  {
   "cell_type": "code",
   "execution_count": 43,
   "metadata": {},
   "outputs": [],
   "source": [
    "from sklearn.ensemble import RandomForestClassifier\n",
    "from sklearn.metrics import roc_curve\n",
    "from sklearn.metrics import roc_auc_score\n",
    "from sklearn.model_selection import GridSearchCV\n",
    "from sklearn.model_selection import cross_val_predict\n",
    "from sklearn.metrics import mean_squared_error"
   ]
  },
  {
   "cell_type": "markdown",
   "metadata": {},
   "source": [
    "## *Initial Fit*"
   ]
  },
  {
   "cell_type": "code",
   "execution_count": 44,
   "metadata": {},
   "outputs": [],
   "source": [
    "forest_clf = RandomForestClassifier(random_state = 42)"
   ]
  },
  {
   "cell_type": "code",
   "execution_count": 45,
   "metadata": {},
   "outputs": [
    {
     "name": "stderr",
     "output_type": "stream",
     "text": [
      "D:\\Anaconda3\\lib\\site-packages\\sklearn\\ensemble\\forest.py:246: FutureWarning: The default value of n_estimators will change from 10 in version 0.20 to 100 in 0.22.\n",
      "  \"10 in version 0.20 to 100 in 0.22.\", FutureWarning)\n"
     ]
    },
    {
     "data": {
      "text/plain": [
       "RandomForestClassifier(bootstrap=True, class_weight=None, criterion='gini',\n",
       "            max_depth=None, max_features='auto', max_leaf_nodes=None,\n",
       "            min_impurity_decrease=0.0, min_impurity_split=None,\n",
       "            min_samples_leaf=1, min_samples_split=2,\n",
       "            min_weight_fraction_leaf=0.0, n_estimators=10, n_jobs=None,\n",
       "            oob_score=False, random_state=42, verbose=0, warm_start=False)"
      ]
     },
     "execution_count": 45,
     "metadata": {},
     "output_type": "execute_result"
    }
   ],
   "source": [
    "forest_clf.fit(df_train_X_transformed, df_train_y)"
   ]
  },
  {
   "cell_type": "code",
   "execution_count": 46,
   "metadata": {},
   "outputs": [],
   "source": [
    "# Fit the training set\n",
    "y_predict_forest_train = forest_clf.predict(df_train_X_transformed)\n",
    "y_proba_forest_train = forest_clf.predict_proba(df_train_X_transformed)"
   ]
  },
  {
   "cell_type": "code",
   "execution_count": 47,
   "metadata": {},
   "outputs": [],
   "source": [
    "# Also fit on the test set\n",
    "y_predict_forest_test = forest_clf.predict(df_test_X_transformed)\n",
    "y_proba_forest_test = forest_clf.predict_proba(df_test_X_transformed)"
   ]
  },
  {
   "cell_type": "code",
   "execution_count": 48,
   "metadata": {},
   "outputs": [
    {
     "name": "stdout",
     "output_type": "stream",
     "text": [
      "ROC AUC - Train\n",
      "0.999134887197267\n",
      "ROC AUC - Test\n",
      "0.7311099830338846\n"
     ]
    }
   ],
   "source": [
    "# ROC AUC\n",
    "print('ROC AUC - Train')\n",
    "print(roc_auc_score(df_train_y, y_proba_forest_train[:,1]))\n",
    "print('ROC AUC - Test')\n",
    "print(roc_auc_score(df_test_y, y_proba_forest_test[:,1]))"
   ]
  },
  {
   "cell_type": "code",
   "execution_count": 49,
   "metadata": {},
   "outputs": [
    {
     "name": "stdout",
     "output_type": "stream",
     "text": [
      "MSE - Training\n",
      "0.1439039031205663\n",
      "MSE - Test\n",
      "0.43779751788545657\n"
     ]
    }
   ],
   "source": [
    "# Mean Squared Error\n",
    "print('MSE - Training')\n",
    "print(np.sqrt(mean_squared_error(df_train_y, y_predict_forest_train)))\n",
    "print('MSE - Test')\n",
    "print(np.sqrt(mean_squared_error(df_test_y, y_predict_forest_test)))"
   ]
  },
  {
   "cell_type": "markdown",
   "metadata": {},
   "source": [
    "Significant amount of overfitting - need to:\n",
    "- Add regularization (e.g. set *max_depth*)"
   ]
  },
  {
   "cell_type": "markdown",
   "metadata": {},
   "source": [
    "## *Feature Importance*"
   ]
  },
  {
   "cell_type": "code",
   "execution_count": 50,
   "metadata": {},
   "outputs": [
    {
     "data": {
      "text/plain": [
       "<function matplotlib.pyplot.show(*args, **kw)>"
      ]
     },
     "execution_count": 50,
     "metadata": {},
     "output_type": "execute_result"
    },
    {
     "data": {
      "image/png": "[encoded data removed]",
      "text/plain": [
       "<Figure size 504x288 with 1 Axes>"
      ]
     },
     "metadata": {
      "needs_background": "light"
     },
     "output_type": "display_data"
    }
   ],
   "source": [
    "temp = pd.DataFrame({'Feature' : final_features\n",
    "                     ,'Feature Importance' : forest_clf.feature_importances_})\n",
    "\n",
    "temp = temp.sort_values(by='Feature Importance', ascending = False)\n",
    "\n",
    "plt.figure(figsize = (7,4))\n",
    "plt.title('Feature Importance', fontsize=16)\n",
    "s = sns.barplot(x='Feature', y='Feature Importance', data=temp)\n",
    "s.set_xticklabels(s.get_xticklabels(),rotation=90)\n",
    "plt.show"
   ]
  },
  {
   "cell_type": "markdown",
   "metadata": {},
   "source": [
    "Most importance features are:\n",
    "- PAY_1\n",
    "- AGE\n",
    "- BILL_AMT1,\n",
    "- LIMIT_BAL,\n",
    "- PAY_AMT1"
   ]
  },
  {
   "cell_type": "markdown",
   "metadata": {},
   "source": [
    "## *Cross-Validation*"
   ]
  },
  {
   "cell_type": "code",
   "execution_count": 51,
   "metadata": {
    "scrolled": true
   },
   "outputs": [],
   "source": [
    "# 4-fold CV, predict the probablies in order to to calculate ROC AUC\n",
    "\n",
    "y_proba_forest_train_cv = cross_val_predict(forest_clf\n",
    "                                            ,df_train_X_transformed\n",
    "                                            ,df_train_y\n",
    "                                            ,cv=4\n",
    "                                            ,method=\"predict_proba\")"
   ]
  },
  {
   "cell_type": "code",
   "execution_count": 52,
   "metadata": {
    "scrolled": true
   },
   "outputs": [
    {
     "data": {
      "text/plain": [
       "0.7301572976900657"
      ]
     },
     "execution_count": 52,
     "metadata": {},
     "output_type": "execute_result"
    }
   ],
   "source": [
    "roc_auc_score(df_train_y, y_proba_forest_train_cv[:, 1]) # target score, prob of positive class"
   ]
  },
  {
   "cell_type": "code",
   "execution_count": 53,
   "metadata": {},
   "outputs": [],
   "source": [
    "# Plot ROC curve\n",
    "\n",
    "def plot_roc_curve(fpr, tpr, label=None):\n",
    "    plt.plot(fpr, tpr, linewidth=2, label=label)\n",
    "    plt.plot([0, 1], [0, 1], 'k--')\n",
    "    plt.axis([0, 1, 0, 1])"
   ]
  },
  {
   "cell_type": "code",
   "execution_count": 54,
   "metadata": {},
   "outputs": [
    {
     "data": {
      "image/png": "[encoded data removed]",
      "text/plain": [
       "<Figure size 432x288 with 1 Axes>"
      ]
     },
     "metadata": {
      "needs_background": "light"
     },
     "output_type": "display_data"
    }
   ],
   "source": [
    "fpr_forest_train_cv, tpr_forest_train_cv, thresholds_forest_train_cv = roc_curve(df_train_y, y_proba_forest_train_cv[:, 1])\n",
    "plot_roc_curve(fpr_forest_train_cv, tpr_forest_train_cv, \"Random Forest - Train\")\n",
    "\n",
    "plt.title('Cross Validation', fontsize=16)\n",
    "plt.xlabel('False Positive Rate', fontsize=12)\n",
    "plt.ylabel('True Positive Rate', fontsize=12)\n",
    "plt.legend(loc=\"lower right\", fontsize=12)\n",
    "plt.show()"
   ]
  },
  {
   "cell_type": "markdown",
   "metadata": {},
   "source": [
    "## *GridSearch*"
   ]
  },
  {
   "cell_type": "code",
   "execution_count": 55,
   "metadata": {
    "scrolled": true
   },
   "outputs": [
    {
     "name": "stdout",
     "output_type": "stream",
     "text": [
      "Fitting 4 folds for each of 8 candidates, totalling 32 fits\n"
     ]
    },
    {
     "name": "stderr",
     "output_type": "stream",
     "text": [
      "[Parallel(n_jobs=-1)]: Using backend LokyBackend with 8 concurrent workers.\n",
      "[Parallel(n_jobs=-1)]: Done  32 out of  32 | elapsed:   36.4s finished\n"
     ]
    },
    {
     "data": {
      "text/plain": [
       "GridSearchCV(cv=4, error_score='raise-deprecating',\n",
       "       estimator=RandomForestClassifier(bootstrap=True, class_weight=None, criterion='gini',\n",
       "            max_depth=None, max_features='auto', max_leaf_nodes=None,\n",
       "            min_impurity_decrease=0.0, min_impurity_split=None,\n",
       "            min_samples_leaf=1, min_samples_split=2,\n",
       "            min_weight_fraction_leaf=0.0, n_estimators=10, n_jobs=None,\n",
       "            oob_score=False, random_state=42, verbose=0, warm_start=False),\n",
       "       fit_params=None, iid='warn', n_jobs=-1,\n",
       "       param_grid={'n_estimators': [3, 4, 6, 7, 10, 20, 50, 100]},\n",
       "       pre_dispatch='2*n_jobs', refit=True, return_train_score='warn',\n",
       "       scoring='neg_mean_squared_error', verbose=2)"
      ]
     },
     "execution_count": 55,
     "metadata": {},
     "output_type": "execute_result"
    }
   ],
   "source": [
    "# GridSearch\n",
    "param_grid = {'n_estimators' : [3, 4, 6, 7, 10, 20, 50, 100]}\n",
    "\n",
    "forest_grid_cv = GridSearchCV(forest_clf\n",
    "                              ,param_grid\n",
    "                              ,cv = 4\n",
    "                              ,scoring = 'neg_mean_squared_error'\n",
    "                              ,n_jobs = -1\n",
    "                              ,verbose = 2)\n",
    "\n",
    "forest_grid_cv.fit(df_train_X_transformed, df_train_y)"
   ]
  },
  {
   "cell_type": "code",
   "execution_count": 56,
   "metadata": {},
   "outputs": [
    {
     "data": {
      "text/plain": [
       "{'n_estimators': 100}"
      ]
     },
     "execution_count": 56,
     "metadata": {},
     "output_type": "execute_result"
    }
   ],
   "source": [
    "forest_grid_cv.best_params_"
   ]
  },
  {
   "cell_type": "code",
   "execution_count": 57,
   "metadata": {},
   "outputs": [
    {
     "data": {
      "text/plain": [
       "RandomForestClassifier(bootstrap=True, class_weight=None, criterion='gini',\n",
       "            max_depth=None, max_features='auto', max_leaf_nodes=None,\n",
       "            min_impurity_decrease=0.0, min_impurity_split=None,\n",
       "            min_samples_leaf=1, min_samples_split=2,\n",
       "            min_weight_fraction_leaf=0.0, n_estimators=100, n_jobs=None,\n",
       "            oob_score=False, random_state=42, verbose=0, warm_start=False)"
      ]
     },
     "execution_count": 57,
     "metadata": {},
     "output_type": "execute_result"
    }
   ],
   "source": [
    "forest_grid_cv.best_estimator_"
   ]
  },
  {
   "cell_type": "code",
   "execution_count": 58,
   "metadata": {},
   "outputs": [],
   "source": [
    "# Fit the training set with the best estimator\n",
    "y_predict_forest_train = forest_grid_cv.best_estimator_.predict(df_train_X_transformed)\n",
    "y_proba_forest_train = forest_grid_cv.best_estimator_.predict_proba(df_train_X_transformed)"
   ]
  },
  {
   "cell_type": "code",
   "execution_count": 59,
   "metadata": {},
   "outputs": [],
   "source": [
    "# Also fit on the test set\n",
    "y_predict_forest_test = forest_grid_cv.best_estimator_.predict(df_test_X_transformed)\n",
    "y_proba_forest_test = forest_grid_cv.best_estimator_.predict_proba(df_test_X_transformed)"
   ]
  },
  {
   "cell_type": "code",
   "execution_count": 60,
   "metadata": {},
   "outputs": [
    {
     "name": "stdout",
     "output_type": "stream",
     "text": [
      "ROC AUC - Train\n",
      "0.999992415835209\n",
      "ROC AUC - Test\n",
      "0.7615803365306414\n"
     ]
    }
   ],
   "source": [
    "# ROC AUC\n",
    "print('ROC AUC - Train')\n",
    "print(roc_auc_score(df_train_y, y_proba_forest_train[:,1]))\n",
    "print('ROC AUC - Test')\n",
    "print(roc_auc_score(df_test_y, y_proba_forest_test[:,1]))"
   ]
  },
  {
   "cell_type": "code",
   "execution_count": 61,
   "metadata": {},
   "outputs": [
    {
     "data": {
      "image/png": "[encoded data removed]",
      "text/plain": [
       "<Figure size 432x288 with 1 Axes>"
      ]
     },
     "metadata": {
      "needs_background": "light"
     },
     "output_type": "display_data"
    }
   ],
   "source": [
    "# ROC AUC curve\n",
    "fpr_forest_train, tpr_forest_train, thresholds_forest_train = roc_curve(df_train_y, y_proba_forest_train[:,1])\n",
    "fpr_forest_test, tpr_forest_test, thresholds_forest_test = roc_curve(df_test_y, y_proba_forest_test[:,1])\n",
    "\n",
    "plot_roc_curve(fpr_forest_train, tpr_forest_train, \"Random Forest - Train\")\n",
    "plot_roc_curve(fpr_forest_test, tpr_forest_test, \"Random Forest - Test\")\n",
    "\n",
    "plt.title('Random Forest Final', fontsize=16)\n",
    "plt.xlabel('False Positive Rate', fontsize=12)\n",
    "plt.ylabel('True Positive Rate', fontsize=12)\n",
    "plt.legend(loc=\"lower right\", fontsize=12)\n",
    "plt.show()"
   ]
  },
  {
   "cell_type": "code",
   "execution_count": 62,
   "metadata": {
    "scrolled": true
   },
   "outputs": [
    {
     "name": "stdout",
     "output_type": "stream",
     "text": [
      "MSE - Training\n",
      "0.02327373340628157\n",
      "MSE - Test\n",
      "0.4306971093471606\n"
     ]
    }
   ],
   "source": [
    "# Mean Squared Error\n",
    "print('MSE - Training')\n",
    "print(np.sqrt(mean_squared_error(df_train_y, y_predict_forest_train)))\n",
    "print('MSE - Test')\n",
    "print(np.sqrt(mean_squared_error(df_test_y, y_predict_forest_test)))"
   ]
  },
  {
   "cell_type": "markdown",
   "metadata": {},
   "source": [
    "Still significant amount of overfitting"
   ]
  },
  {
   "cell_type": "markdown",
   "metadata": {},
   "source": [
    "# KNN"
   ]
  },
  {
   "cell_type": "code",
   "execution_count": 63,
   "metadata": {},
   "outputs": [],
   "source": [
    "from sklearn.neighbors import KNeighborsClassifier"
   ]
  },
  {
   "cell_type": "markdown",
   "metadata": {},
   "source": [
    "## *Initial Fit*"
   ]
  },
  {
   "cell_type": "code",
   "execution_count": 64,
   "metadata": {},
   "outputs": [],
   "source": [
    "knn_clf = KNeighborsClassifier()"
   ]
  },
  {
   "cell_type": "code",
   "execution_count": 65,
   "metadata": {},
   "outputs": [
    {
     "data": {
      "text/plain": [
       "KNeighborsClassifier(algorithm='auto', leaf_size=30, metric='minkowski',\n",
       "           metric_params=None, n_jobs=None, n_neighbors=5, p=2,\n",
       "           weights='uniform')"
      ]
     },
     "execution_count": 65,
     "metadata": {},
     "output_type": "execute_result"
    }
   ],
   "source": [
    "knn_clf.fit(df_train_X_transformed, df_train_y)"
   ]
  },
  {
   "cell_type": "code",
   "execution_count": 66,
   "metadata": {},
   "outputs": [],
   "source": [
    "# Fit the training set\n",
    "y_predict_knn_train = knn_clf.predict(df_train_X_transformed)\n",
    "y_proba_knn_train = knn_clf.predict_proba(df_train_X_transformed)"
   ]
  },
  {
   "cell_type": "code",
   "execution_count": 67,
   "metadata": {},
   "outputs": [],
   "source": [
    "# Also fit on the test set\n",
    "y_predict_knn_test = knn_clf.predict(df_test_X_transformed)\n",
    "y_proba_knn_test = knn_clf.predict_proba(df_test_X_transformed)"
   ]
  },
  {
   "cell_type": "code",
   "execution_count": 68,
   "metadata": {},
   "outputs": [
    {
     "name": "stdout",
     "output_type": "stream",
     "text": [
      "ROC AUC - Train\n",
      "0.879374492689534\n",
      "ROC AUC - Test\n",
      "0.7010787725963681\n"
     ]
    }
   ],
   "source": [
    "# ROC AUC\n",
    "print('ROC AUC - Train')\n",
    "print(roc_auc_score(df_train_y, y_proba_knn_train[:,1]))\n",
    "print('ROC AUC - Test')\n",
    "print(roc_auc_score(df_test_y, y_proba_knn_test[:,1]))"
   ]
  },
  {
   "cell_type": "code",
   "execution_count": 69,
   "metadata": {},
   "outputs": [
    {
     "name": "stdout",
     "output_type": "stream",
     "text": [
      "MSE - Training\n",
      "0.3984344362627307\n",
      "MSE - Test\n",
      "0.454972526643093\n"
     ]
    }
   ],
   "source": [
    "# Mean Squared Error\n",
    "print('MSE - Training')\n",
    "print(np.sqrt(mean_squared_error(df_train_y, y_predict_knn_train)))\n",
    "print('MSE - Test')\n",
    "print(np.sqrt(mean_squared_error(df_test_y, y_predict_knn_test)))"
   ]
  },
  {
   "cell_type": "markdown",
   "metadata": {},
   "source": [
    "A lot less overfitting than in tree"
   ]
  },
  {
   "cell_type": "markdown",
   "metadata": {},
   "source": [
    "## *Cross-Validation*"
   ]
  },
  {
   "cell_type": "code",
   "execution_count": 70,
   "metadata": {
    "scrolled": true
   },
   "outputs": [],
   "source": [
    "# 4-fold CV, predict the probablies in order to to calculate ROC AUC\n",
    "\n",
    "y_proba_knn_train_cv = cross_val_predict(knn_clf\n",
    "                                         ,df_train_X_transformed\n",
    "                                         ,df_train_y\n",
    "                                         ,cv=4\n",
    "                                         ,method=\"predict_proba\")"
   ]
  },
  {
   "cell_type": "code",
   "execution_count": 71,
   "metadata": {
    "scrolled": true
   },
   "outputs": [
    {
     "data": {
      "text/plain": [
       "0.698269777412106"
      ]
     },
     "execution_count": 71,
     "metadata": {},
     "output_type": "execute_result"
    }
   ],
   "source": [
    "roc_auc_score(df_train_y, y_proba_knn_train_cv[:, 1]) "
   ]
  },
  {
   "cell_type": "code",
   "execution_count": 72,
   "metadata": {
    "scrolled": true
   },
   "outputs": [
    {
     "data": {
      "image/png": "[encoded data removed]",
      "text/plain": [
       "<Figure size 432x288 with 1 Axes>"
      ]
     },
     "metadata": {
      "needs_background": "light"
     },
     "output_type": "display_data"
    }
   ],
   "source": [
    "fpr_knn_train_cv, tpr_knn_train_cv, thresholds_knn_train_cv = roc_curve(df_train_y, y_proba_knn_train_cv[:, 1])\n",
    "\n",
    "plot_roc_curve(fpr_forest_train_cv, tpr_forest_train_cv, \"Random Forest - Train\")\n",
    "plot_roc_curve(fpr_knn_train_cv, tpr_knn_train_cv, \"KNN - Train\")\n",
    "\n",
    "plt.title('Cross Validation', fontsize=16)\n",
    "plt.xlabel('False Positive Rate', fontsize=12)\n",
    "plt.ylabel('True Positive Rate', fontsize=12)\n",
    "plt.legend(loc=\"lower right\", fontsize=12)\n",
    "plt.show()"
   ]
  },
  {
   "cell_type": "markdown",
   "metadata": {},
   "source": [
    "Random Forest has better ROC/AUC score"
   ]
  },
  {
   "cell_type": "markdown",
   "metadata": {},
   "source": [
    "## *GridSearch*"
   ]
  },
  {
   "cell_type": "code",
   "execution_count": 73,
   "metadata": {
    "scrolled": true
   },
   "outputs": [
    {
     "name": "stdout",
     "output_type": "stream",
     "text": [
      "Fitting 4 folds for each of 7 candidates, totalling 28 fits\n"
     ]
    },
    {
     "name": "stderr",
     "output_type": "stream",
     "text": [
      "[Parallel(n_jobs=-1)]: Using backend LokyBackend with 8 concurrent workers.\n",
      "[Parallel(n_jobs=-1)]: Done  28 out of  28 | elapsed:  3.9min remaining:    0.0s\n",
      "[Parallel(n_jobs=-1)]: Done  28 out of  28 | elapsed:  3.9min finished\n"
     ]
    },
    {
     "data": {
      "text/plain": [
       "GridSearchCV(cv=4, error_score='raise-deprecating',\n",
       "       estimator=KNeighborsClassifier(algorithm='auto', leaf_size=30, metric='minkowski',\n",
       "           metric_params=None, n_jobs=None, n_neighbors=5, p=2,\n",
       "           weights='uniform'),\n",
       "       fit_params=None, iid='warn', n_jobs=-1,\n",
       "       param_grid={'n_neighbors': [3, 4, 5, 7, 10, 20, 50]},\n",
       "       pre_dispatch='2*n_jobs', refit=True, return_train_score='warn',\n",
       "       scoring='neg_mean_squared_error', verbose=2)"
      ]
     },
     "execution_count": 73,
     "metadata": {},
     "output_type": "execute_result"
    }
   ],
   "source": [
    "# GridSearch\n",
    "param_grid = {'n_neighbors' : [3, 4, 5, 7, 10, 20, 50]}\n",
    "\n",
    "knn_grid_cv = GridSearchCV(knn_clf\n",
    "                           ,param_grid\n",
    "                           ,cv = 4\n",
    "                           ,scoring = 'neg_mean_squared_error'\n",
    "                           ,n_jobs = -1\n",
    "                           ,verbose = 2)\n",
    "\n",
    "knn_grid_cv.fit(df_train_X_transformed, df_train_y)"
   ]
  },
  {
   "cell_type": "code",
   "execution_count": 74,
   "metadata": {},
   "outputs": [
    {
     "data": {
      "text/plain": [
       "{'n_neighbors': 20}"
      ]
     },
     "execution_count": 74,
     "metadata": {},
     "output_type": "execute_result"
    }
   ],
   "source": [
    "knn_grid_cv.best_params_"
   ]
  },
  {
   "cell_type": "code",
   "execution_count": 75,
   "metadata": {},
   "outputs": [
    {
     "data": {
      "text/plain": [
       "KNeighborsClassifier(algorithm='auto', leaf_size=30, metric='minkowski',\n",
       "           metric_params=None, n_jobs=None, n_neighbors=20, p=2,\n",
       "           weights='uniform')"
      ]
     },
     "execution_count": 75,
     "metadata": {},
     "output_type": "execute_result"
    }
   ],
   "source": [
    "knn_grid_cv.best_estimator_"
   ]
  },
  {
   "cell_type": "code",
   "execution_count": 76,
   "metadata": {},
   "outputs": [],
   "source": [
    "# Fit the training set with the best estimator\n",
    "y_predict_knn_train = knn_grid_cv.best_estimator_.predict(df_train_X_transformed)\n",
    "y_proba_knn_train = knn_grid_cv.best_estimator_.predict_proba(df_train_X_transformed)"
   ]
  },
  {
   "cell_type": "code",
   "execution_count": 77,
   "metadata": {},
   "outputs": [],
   "source": [
    "# Also fit on the test set\n",
    "y_predict_knn_test = knn_grid_cv.best_estimator_.predict(df_test_X_transformed)\n",
    "y_proba_knn_test = knn_grid_cv.best_estimator_.predict_proba(df_test_X_transformed)"
   ]
  },
  {
   "cell_type": "code",
   "execution_count": 78,
   "metadata": {},
   "outputs": [
    {
     "name": "stdout",
     "output_type": "stream",
     "text": [
      "ROC AUC - Train\n",
      "0.8095736672407062\n",
      "ROC AUC - Test\n",
      "0.7315882874168167\n"
     ]
    }
   ],
   "source": [
    "# ROC AUC\n",
    "print('ROC AUC - Train')\n",
    "print(roc_auc_score(df_train_y, y_proba_knn_train[:,1]))\n",
    "print('ROC AUC - Test')\n",
    "print(roc_auc_score(df_test_y, y_proba_knn_test[:,1]))"
   ]
  },
  {
   "cell_type": "code",
   "execution_count": 79,
   "metadata": {},
   "outputs": [
    {
     "data": {
      "image/png": "[encoded data removed]",
      "text/plain": [
       "<Figure size 432x288 with 1 Axes>"
      ]
     },
     "metadata": {
      "needs_background": "light"
     },
     "output_type": "display_data"
    }
   ],
   "source": [
    "# ROC AUC curve\n",
    "fpr_knn_train, tpr_knn_train, thresholds_knn_train = roc_curve(df_train_y, y_proba_knn_train[:,1])\n",
    "fpr_knn_test, tpr_knn_test, thresholds_knn_test = roc_curve(df_test_y, y_proba_knn_test[:,1])\n",
    "\n",
    "plot_roc_curve(fpr_knn_train, tpr_knn_train, \"KNN - Train\")\n",
    "plot_roc_curve(fpr_knn_test, tpr_knn_test, \"KNN - Test\")\n",
    "\n",
    "plt.title('KNN Final', fontsize=16)\n",
    "plt.xlabel('False Positive Rate', fontsize=12)\n",
    "plt.ylabel('True Positive Rate', fontsize=12)\n",
    "plt.legend(loc=\"lower right\", fontsize=12)\n",
    "plt.show()"
   ]
  },
  {
   "cell_type": "code",
   "execution_count": 80,
   "metadata": {
    "scrolled": true
   },
   "outputs": [
    {
     "name": "stdout",
     "output_type": "stream",
     "text": [
      "MSE - Training\n",
      "0.4236252274514979\n",
      "MSE - Test\n",
      "0.4360810322252811\n"
     ]
    }
   ],
   "source": [
    "# Mean Squared Error\n",
    "print('MSE - Training')\n",
    "print(np.sqrt(mean_squared_error(df_train_y, y_predict_knn_train)))\n",
    "print('MSE - Test')\n",
    "print(np.sqrt(mean_squared_error(df_test_y, y_predict_knn_test)))"
   ]
  },
  {
   "cell_type": "markdown",
   "metadata": {},
   "source": [
    "Higher MSE than Random Forest, but much less overfitting"
   ]
  },
  {
   "cell_type": "markdown",
   "metadata": {},
   "source": [
    "# CV with 5-Folds"
   ]
  },
  {
   "cell_type": "code",
   "execution_count": 81,
   "metadata": {},
   "outputs": [],
   "source": [
    "y_proba_forest_train_cv_v2 = cross_val_predict(forest_clf\n",
    "                                            ,df_train_X_transformed\n",
    "                                            ,df_train_y\n",
    "                                            ,cv=5\n",
    "                                            ,method=\"predict_proba\")"
   ]
  },
  {
   "cell_type": "code",
   "execution_count": 82,
   "metadata": {
    "scrolled": true
   },
   "outputs": [],
   "source": [
    "y_proba_knn_train_cv_v2 = cross_val_predict(knn_clf\n",
    "                                         ,df_train_X_transformed\n",
    "                                         ,df_train_y\n",
    "                                         ,cv=5\n",
    "                                         ,method=\"predict_proba\")"
   ]
  },
  {
   "cell_type": "code",
   "execution_count": 83,
   "metadata": {
    "scrolled": true
   },
   "outputs": [
    {
     "name": "stdout",
     "output_type": "stream",
     "text": [
      "Random Forest - 5 Folds\n",
      "0.7288674113075935\n",
      "KNN - 5 Folds\n",
      "0.7010533871790258\n"
     ]
    }
   ],
   "source": [
    "print('Random Forest - 5 Folds')\n",
    "print(roc_auc_score(df_train_y, y_proba_forest_train_cv_v2[:, 1]))\n",
    "print('KNN - 5 Folds')\n",
    "print(roc_auc_score(df_train_y, y_proba_knn_train_cv_v2[:, 1]))"
   ]
  },
  {
   "cell_type": "code",
   "execution_count": 84,
   "metadata": {
    "scrolled": true
   },
   "outputs": [
    {
     "name": "stdout",
     "output_type": "stream",
     "text": [
      "Random Forest - 4 Folds\n",
      "0.7301572976900657\n",
      "KNN - 4 Folds\n",
      "0.698269777412106\n"
     ]
    }
   ],
   "source": [
    "print('Random Forest - 4 Folds')\n",
    "print(roc_auc_score(df_train_y, y_proba_forest_train_cv[:, 1]))\n",
    "print('KNN - 4 Folds')\n",
    "print(roc_auc_score(df_train_y, y_proba_knn_train_cv[:, 1]))"
   ]
  },
  {
   "cell_type": "code",
   "execution_count": 85,
   "metadata": {
    "scrolled": true
   },
   "outputs": [
    {
     "data": {
      "image/png": "[encoded data removed]",
      "text/plain": [
       "<Figure size 432x288 with 1 Axes>"
      ]
     },
     "metadata": {
      "needs_background": "light"
     },
     "output_type": "display_data"
    }
   ],
   "source": [
    "fpr_forest_train_cv_v2, tpr_forest_train_cv_v2, thresholds_forest_train_cv_v2 = roc_curve(df_train_y, y_proba_forest_train_cv_v2[:, 1])\n",
    "fpr_knn_train_cv_v2, tpr_knn_train_cv_v2, thresholds_knn_train_cv_v2 = roc_curve(df_train_y, y_proba_knn_train_cv_v2[:, 1])\n",
    "\n",
    "plot_roc_curve(fpr_forest_train_cv_v2, tpr_forest_train_cv_v2, \"Random Forest - Train - 5-Folds\")\n",
    "plot_roc_curve(fpr_knn_train_cv_v2, tpr_knn_train_cv_v2, \"KNN - Train - 5-Folds\")\n",
    "plot_roc_curve(fpr_forest_train_cv, tpr_forest_train_cv, \"Random Forest - Train - 4-Folds\")\n",
    "plot_roc_curve(fpr_knn_train_cv, tpr_knn_train_cv, \"KNN - Train - 4-Folds\")\n",
    "\n",
    "plt.title('Cross Validation Comparison', fontsize=16)\n",
    "plt.xlabel('False Positive Rate', fontsize=12)\n",
    "plt.ylabel('True Positive Rate', fontsize=12)\n",
    "plt.legend(loc=\"lower right\", fontsize=12)\n",
    "plt.show()"
   ]
  },
  {
   "cell_type": "markdown",
   "metadata": {},
   "source": [
    "#### Conclusions?"
   ]
  },
  {
   "cell_type": "markdown",
   "metadata": {},
   "source": [
    "Explain your results and choices"
   ]
  },
  {
   "cell_type": "markdown",
   "metadata": {},
   "source": [
    "<pre>\n",
    "For cross-validation with both 4-folds and 5-folds, Random Forest Classifier generated a higher ROC/AUC score than KNN Classifier on the training set. For Random Forest, by going from 4-folds to 5-folds, the ROC/AUC score actually deteriorated a little. For KNN, the score improved by a little.\n",
    "\n",
    "There is a significant amount of overfitting in Random Forest, due to lack of regularization term (e.g. *max_depth*). Since we are only fitting on ~30 features, having no *max_depth* means that we can easily overfit the dataset. This resulted in very low ROC/AUC score for the final model on the test set, while absurdly high schore on the training set.\n",
    "\n",
    "On the other hand, while KNN has slightly higher MSE scores for both the test and training set, they do not differ much, and the ROC/AUC scores are also very similar so there's very little overfitting.\n",
    "\n",
    "Overall, Random Forest does perform better than KNN, but we should add regularization terms to decrease overfitting.\n",
    "</pre>"
   ]
  },
  {
   "cell_type": "markdown",
   "metadata": {},
   "source": [
    "Q2. (Optional) Write a function that can shift an MNIST image in any direction (left, right, up, or down) by one pixel. Then, for each image in the training set, create four shifted copies (one per direction) and add them to the training set. Finally, train your best model on this expanded training set and measure its accuracy on the test set. You should observe that your model performs even better now! This technique of artificially growing the training set is called data augmentation or training set expansion. "
   ]
  },
  {
   "cell_type": "markdown",
   "metadata": {},
   "source": [
    "### Conclusions\n"
   ]
  },
  {
   "cell_type": "code",
   "execution_count": null,
   "metadata": {},
   "outputs": [],
   "source": []
  }
 ],
 "metadata": {
  "anaconda-cloud": {},
  "kernelspec": {
   "display_name": "Python 3",
   "language": "python",
   "name": "python3"
  },
  "language_info": {
   "codemirror_mode": {
    "name": "ipython",
    "version": 3
   },
   "file_extension": ".py",
   "mimetype": "text/x-python",
   "name": "python",
   "nbconvert_exporter": "python",
   "pygments_lexer": "ipython3",
   "version": "3.6.8"
  }
 },
 "nbformat": 4,
 "nbformat_minor": 2
}
