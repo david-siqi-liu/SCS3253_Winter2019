{
 "cells": [
  {
   "cell_type": "markdown",
   "metadata": {},
   "source": [
    "## Assignment for Module 6\n",
    "\n",
    "In this assignment you will continue working with the housing price per district from the previous module assignment, this time training SVM models, both for regression and classification.\n",
    "\n",
    "#### Getting the data for the assignment (similar to the notebook from chapter 2 of Hands-On...)"
   ]
  },
  {
   "cell_type": "code",
   "execution_count": 1,
   "metadata": {},
   "outputs": [],
   "source": [
    "import os\n",
    "import tarfile\n",
    "from six.moves import urllib\n",
    "\n",
    "DOWNLOAD_ROOT = \"https://raw.githubusercontent.com/ageron/handson-ml/master/\"\n",
    "HOUSING_PATH = os.path.join(\"datasets\", \"housing\")\n",
    "HOUSING_URL = DOWNLOAD_ROOT + \"datasets/housing/housing.tgz\"\n",
    "\n",
    "def fetch_housing_data(housing_url=HOUSING_URL, housing_path=HOUSING_PATH):\n",
    "    if not os.path.isdir(housing_path):\n",
    "        os.makedirs(housing_path)\n",
    "    tgz_path = os.path.join(housing_path, \"housing.tgz\")\n",
    "    urllib.request.urlretrieve(housing_url, tgz_path)\n",
    "    housing_tgz = tarfile.open(tgz_path)\n",
    "    housing_tgz.extractall(path=housing_path)\n",
    "    housing_tgz.close()"
   ]
  },
  {
   "cell_type": "code",
   "execution_count": 2,
   "metadata": {},
   "outputs": [],
   "source": [
    "fetch_housing_data()"
   ]
  },
  {
   "cell_type": "code",
   "execution_count": 3,
   "metadata": {},
   "outputs": [],
   "source": [
    "import pandas as pd\n",
    "\n",
    "def load_housing_data(housing_path=HOUSING_PATH):\n",
    "    csv_path = os.path.join(housing_path, \"housing.csv\")\n",
    "    return pd.read_csv(csv_path)"
   ]
  },
  {
   "cell_type": "code",
   "execution_count": 4,
   "metadata": {},
   "outputs": [],
   "source": [
    "housing = load_housing_data()"
   ]
  },
  {
   "cell_type": "markdown",
   "metadata": {},
   "source": [
    "### Fix the categories in the categorical variable"
   ]
  },
  {
   "cell_type": "code",
   "execution_count": 5,
   "metadata": {},
   "outputs": [],
   "source": [
    "d = {'<1H OCEAN':'LESS_1H_OCEAN', 'INLAND':'INLAND', 'ISLAND':'ISLAND', 'NEAR BAY':'NEAR_BAY', 'NEAR OCEAN':'NEAR_OCEAN'}\n",
    "housing['ocean_proximity'] = housing['ocean_proximity'].map(lambda s: d[s])"
   ]
  },
  {
   "cell_type": "markdown",
   "metadata": {},
   "source": [
    "### Add 2 more features"
   ]
  },
  {
   "cell_type": "code",
   "execution_count": 6,
   "metadata": {},
   "outputs": [],
   "source": [
    "housing[\"rooms_per_household\"] = housing[\"total_rooms\"]/housing[\"households\"]\n",
    "housing[\"population_per_household\"]=housing[\"population\"]/housing[\"households\"]"
   ]
  },
  {
   "cell_type": "markdown",
   "metadata": {},
   "source": [
    "### Fix missing data"
   ]
  },
  {
   "cell_type": "code",
   "execution_count": 7,
   "metadata": {},
   "outputs": [],
   "source": [
    "median = housing[\"total_bedrooms\"].median()\n",
    "housing[\"total_bedrooms\"].fillna(median, inplace=True) "
   ]
  },
  {
   "cell_type": "markdown",
   "metadata": {},
   "source": [
    "### Create dummy variables based on the categorical variable"
   ]
  },
  {
   "cell_type": "code",
   "execution_count": 8,
   "metadata": {},
   "outputs": [],
   "source": [
    "one_hot = pd.get_dummies(housing['ocean_proximity'])\n",
    "housing = housing.drop('ocean_proximity', axis=1)\n",
    "housing = housing.join(one_hot)"
   ]
  },
  {
   "cell_type": "markdown",
   "metadata": {},
   "source": [
    "### Check the data"
   ]
  },
  {
   "cell_type": "code",
   "execution_count": 9,
   "metadata": {},
   "outputs": [
    {
     "name": "stdout",
     "output_type": "stream",
     "text": [
      "<class 'pandas.core.frame.DataFrame'>\n",
      "RangeIndex: 20640 entries, 0 to 20639\n",
      "Data columns (total 16 columns):\n",
      "longitude                   20640 non-null float64\n",
      "latitude                    20640 non-null float64\n",
      "housing_median_age          20640 non-null float64\n",
      "total_rooms                 20640 non-null float64\n",
      "total_bedrooms              20640 non-null float64\n",
      "population                  20640 non-null float64\n",
      "households                  20640 non-null float64\n",
      "median_income               20640 non-null float64\n",
      "median_house_value          20640 non-null float64\n",
      "rooms_per_household         20640 non-null float64\n",
      "population_per_household    20640 non-null float64\n",
      "INLAND                      20640 non-null uint8\n",
      "ISLAND                      20640 non-null uint8\n",
      "LESS_1H_OCEAN               20640 non-null uint8\n",
      "NEAR_BAY                    20640 non-null uint8\n",
      "NEAR_OCEAN                  20640 non-null uint8\n",
      "dtypes: float64(11), uint8(5)\n",
      "memory usage: 1.8 MB\n"
     ]
    }
   ],
   "source": [
    "housing.info()"
   ]
  },
  {
   "cell_type": "markdown",
   "metadata": {},
   "source": [
    "### Partition into train and test\n",
    "\n",
    "Use train_test_split from sklearn.model_selection to partition the dataset into 70% for training and 30% for testing.\n",
    "\n",
    "You can use the 70% for training set as both training and validation by using cross-validation.\n"
   ]
  },
  {
   "cell_type": "code",
   "execution_count": 10,
   "metadata": {},
   "outputs": [],
   "source": [
    "from sklearn.model_selection import train_test_split\n",
    "train_set, test_set = train_test_split(housing, test_size=0.3, random_state=42)"
   ]
  },
  {
   "cell_type": "markdown",
   "metadata": {},
   "source": [
    "### Features"
   ]
  },
  {
   "cell_type": "code",
   "execution_count": 11,
   "metadata": {},
   "outputs": [],
   "source": [
    "target = 'median_house_value'\n",
    "features = list(train_set.columns)\n",
    "features = [f for f in features if f!=target]"
   ]
  },
  {
   "cell_type": "code",
   "execution_count": 12,
   "metadata": {},
   "outputs": [],
   "source": [
    "X_tr = train_set[features]\n",
    "y_tr = train_set[[target]]\n",
    "\n",
    "X_te = test_set[features]\n",
    "y_te = test_set[[target]]"
   ]
  },
  {
   "cell_type": "markdown",
   "metadata": {},
   "source": [
    "### Scaling features"
   ]
  },
  {
   "cell_type": "markdown",
   "metadata": {},
   "source": [
    "Similarly, use StandardScaler from sklearn.preprocessing to normalize the training and testing data, using the training data"
   ]
  },
  {
   "cell_type": "code",
   "execution_count": 13,
   "metadata": {},
   "outputs": [],
   "source": [
    "from sklearn.preprocessing import StandardScaler\n",
    "\n",
    "scaler = StandardScaler()\n",
    "scaler.fit(X_tr)\n",
    "X_tr = scaler.transform(X_tr)\n",
    "X_te = scaler.transform(X_te)"
   ]
  },
  {
   "cell_type": "markdown",
   "metadata": {},
   "source": [
    "#### Comparing models"
   ]
  },
  {
   "cell_type": "code",
   "execution_count": 14,
   "metadata": {},
   "outputs": [],
   "source": [
    "from sklearn.model_selection import cross_val_score\n",
    "from sklearn.model_selection import GridSearchCV\n",
    "import numpy as np\n",
    "\n",
    "def display_scores(scores):\n",
    "    print(\"Scores:\", scores)\n",
    "    print(\"Mean:\", scores.mean())"
   ]
  },
  {
   "cell_type": "markdown",
   "metadata": {},
   "source": [
    "### Linear regression on original features (no transformations) --- benchmark"
   ]
  },
  {
   "cell_type": "code",
   "execution_count": 15,
   "metadata": {},
   "outputs": [
    {
     "name": "stdout",
     "output_type": "stream",
     "text": [
      "Scores: [70142.55721218 67456.39127204 67318.3258893  70866.26065275]\n",
      "Mean: 68945.8837565686\n"
     ]
    }
   ],
   "source": [
    "from sklearn.linear_model import LinearRegression\n",
    "lin_scores = cross_val_score(LinearRegression(), train_set[features], train_set[target], scoring=\"neg_mean_squared_error\", cv=4)\n",
    "lin_rmse_scores = np.sqrt(-lin_scores)\n",
    "display_scores(lin_rmse_scores)"
   ]
  },
  {
   "cell_type": "markdown",
   "metadata": {},
   "source": [
    "### 1. Support Vector Machines for Regression"
   ]
  },
  {
   "cell_type": "markdown",
   "metadata": {},
   "source": [
    "#### (a) In this exercise your goal is to tune SVR with FBR kernel, and make the average score mean_squared_error over 3-folds (cv=3) below 58000. \n",
    "\n",
    "You are encouraged to try optimizing any of the hyper-parameters of SVR\n",
    "\n",
    "See http://scikit-learn.org/stable/modules/generated/sklearn.svm.SVR.html for more details\n",
    "\n",
    "However, as a hint, you can focus on C and gamma. \n",
    "\n",
    "Hint 2: if when you try different values for a hyper-parameter, the optimal models corresponds to one of the extreme values in your range, that probably means you can keep improving your solution by considering values beyond the current range.\n",
    "\n"
   ]
  },
  {
   "cell_type": "code",
   "execution_count": 16,
   "metadata": {},
   "outputs": [
    {
     "name": "stdout",
     "output_type": "stream",
     "text": [
      "Fitting 3 folds for each of 9 candidates, totalling 27 fits\n",
      "[CV] C=100000.0, gamma=0.01 ..........................................\n",
      "[CV] C=100000.0, gamma=0.01 ..........................................\n",
      "[CV] C=100000.0, gamma=0.01 ..........................................\n",
      "[CV] C=100000.0, gamma=0.1 ...........................................\n",
      "[CV] C=100000.0, gamma=0.1 ...........................................\n",
      "[CV] C=100000.0, gamma=0.1 ...........................................\n",
      "[CV] C=100000.0, gamma=1.0 ...........................................\n",
      "[CV] C=100000.0, gamma=1.0 ...........................................\n",
      "[CV] C=100000.0, gamma=1.0 ...........................................\n",
      "[CV] C=1000000.0, gamma=0.01 .........................................\n",
      "[CV] C=1000000.0, gamma=0.01 .........................................\n",
      "[CV] C=1000000.0, gamma=0.01 .........................................\n",
      "[CV] ........................... C=100000.0, gamma=0.01, total=  11.9s\n",
      "[CV] C=1000000.0, gamma=0.1 ..........................................\n",
      "[CV] ........................... C=100000.0, gamma=0.01, total=  11.9s\n",
      "[CV] C=1000000.0, gamma=0.1 ..........................................\n",
      "[CV] ........................... C=100000.0, gamma=0.01, total=  11.9s\n",
      "[CV] C=1000000.0, gamma=0.1 ..........................................\n",
      "[CV] ............................ C=100000.0, gamma=0.1, total=  13.1s\n",
      "[CV] C=1000000.0, gamma=1.0 ..........................................\n",
      "[CV] ............................ C=100000.0, gamma=0.1, total=  13.1s\n",
      "[CV] C=1000000.0, gamma=1.0 ..........................................\n",
      "[CV] ............................ C=100000.0, gamma=0.1, total=  13.1s\n",
      "[CV] C=1000000.0, gamma=1.0 ..........................................\n",
      "[CV] .......................... C=1000000.0, gamma=0.01, total=  13.6s\n",
      "[CV] C=10000000.0, gamma=0.01 ........................................\n",
      "[CV] .......................... C=1000000.0, gamma=0.01, total=  14.0s\n",
      "[CV] C=10000000.0, gamma=0.01 ........................................\n",
      "[CV] .......................... C=1000000.0, gamma=0.01, total=  14.0s\n",
      "[CV] C=10000000.0, gamma=0.01 ........................................\n",
      "[CV] ............................ C=100000.0, gamma=1.0, total=  29.1s\n",
      "[CV] C=10000000.0, gamma=0.1 .........................................\n",
      "[CV] ............................ C=100000.0, gamma=1.0, total=  32.2s\n",
      "[CV] C=10000000.0, gamma=0.1 .........................................\n",
      "[CV] ............................ C=100000.0, gamma=1.0, total=  32.6s\n",
      "[CV] C=10000000.0, gamma=0.1 .........................................\n",
      "[CV] ......................... C=10000000.0, gamma=0.01, total=  42.2s\n",
      "[CV] C=10000000.0, gamma=1.0 .........................................\n",
      "[CV] ......................... C=10000000.0, gamma=0.01, total=  44.5s\n",
      "[CV] C=10000000.0, gamma=1.0 .........................................\n",
      "[CV] ......................... C=10000000.0, gamma=0.01, total=  48.1s\n",
      "[CV] C=10000000.0, gamma=1.0 .........................................\n",
      "[CV] ........................... C=1000000.0, gamma=0.1, total=  55.0s\n",
      "[CV] ........................... C=1000000.0, gamma=0.1, total=  56.7s\n",
      "[CV] ........................... C=1000000.0, gamma=0.1, total= 1.0min\n"
     ]
    },
    {
     "name": "stderr",
     "output_type": "stream",
     "text": [
      "[Parallel(n_jobs=-1)]: Done  18 out of  27 | elapsed:  1.4min remaining:   41.5s\n"
     ]
    },
    {
     "name": "stdout",
     "output_type": "stream",
     "text": [
      "[CV] ........................... C=1000000.0, gamma=1.0, total= 3.7min\n",
      "[CV] ........................... C=1000000.0, gamma=1.0, total= 3.9min\n",
      "[CV] ........................... C=1000000.0, gamma=1.0, total= 4.3min\n",
      "[CV] .......................... C=10000000.0, gamma=0.1, total= 6.4min\n",
      "[CV] .......................... C=10000000.0, gamma=0.1, total= 7.7min\n",
      "[CV] .......................... C=10000000.0, gamma=0.1, total= 8.6min\n",
      "[CV] .......................... C=10000000.0, gamma=1.0, total=18.2min\n",
      "[CV] .......................... C=10000000.0, gamma=1.0, total=19.2min\n",
      "[CV] .......................... C=10000000.0, gamma=1.0, total=19.7min\n"
     ]
    },
    {
     "name": "stderr",
     "output_type": "stream",
     "text": [
      "[Parallel(n_jobs=-1)]: Done  27 out of  27 | elapsed: 20.9min finished\n"
     ]
    },
    {
     "data": {
      "text/plain": [
       "GridSearchCV(cv=3, error_score='raise',\n",
       "       estimator=SVR(C=1.0, cache_size=200, coef0=0.0, degree=3, epsilon=0.1, gamma='auto',\n",
       "  kernel='rbf', max_iter=-1, shrinking=True, tol=0.001, verbose=False),\n",
       "       fit_params=None, iid=True, n_jobs=-1,\n",
       "       param_grid=[{'C': [100000.0, 1000000.0, 10000000.0], 'gamma': [0.01, 0.1, 1.0]}],\n",
       "       pre_dispatch='2*n_jobs', refit=True, return_train_score='warn',\n",
       "       scoring='neg_mean_squared_error', verbose=2)"
      ]
     },
     "execution_count": 16,
     "metadata": {},
     "output_type": "execute_result"
    }
   ],
   "source": [
    "from sklearn.svm import SVR\n",
    "\n",
    "C_vals = [1e5, 1e6, 1e7] ## YOUR VALUES FOR C ##\n",
    "gamma_vals = [1e-2, 1e-1, 1e-0] ## YOUR VALUES FOR gamma ## \n",
    "\n",
    "param_grid = [{'C':C_vals, 'gamma':gamma_vals}]\n",
    "grid_search_rbf = GridSearchCV(SVR(kernel='rbf'), param_grid, cv=3,scoring='neg_mean_squared_error',verbose=2,n_jobs=-1)\n",
    "grid_search_rbf.fit(X_tr, np.ravel(y_tr))"
   ]
  },
  {
   "cell_type": "code",
   "execution_count": 17,
   "metadata": {},
   "outputs": [
    {
     "name": "stdout",
     "output_type": "stream",
     "text": [
      "{'C': 1000000.0, 'gamma': 0.1}\n",
      "55421.599878040826\n"
     ]
    }
   ],
   "source": [
    "print(grid_search_rbf.best_params_)\n",
    "print(np.sqrt(-grid_search_rbf.best_score_))"
   ]
  },
  {
   "cell_type": "markdown",
   "metadata": {},
   "source": [
    "### Performance on Test Set"
   ]
  },
  {
   "cell_type": "code",
   "execution_count": 18,
   "metadata": {},
   "outputs": [
    {
     "name": "stdout",
     "output_type": "stream",
     "text": [
      "54175.050977783714\n"
     ]
    }
   ],
   "source": [
    "from sklearn.metrics import mean_squared_error\n",
    "\n",
    "final_model = grid_search_rbf.best_estimator_   ## THIS SHOULD BE THE BEST GRID_SEARCH ##\n",
    "\n",
    "y_te_estimation = final_model.predict(X_te)\n",
    "\n",
    "final_mse = mean_squared_error(y_te, y_te_estimation)\n",
    "final_rmse = np.sqrt(final_mse)\n",
    "print(final_rmse)"
   ]
  },
  {
   "cell_type": "code",
   "execution_count": 49,
   "metadata": {},
   "outputs": [
    {
     "data": {
      "image/png": "[encoded data removed]",
      "text/plain": [
       "<Figure size 432x288 with 1 Axes>"
      ]
     },
     "metadata": {
      "needs_background": "light"
     },
     "output_type": "display_data"
    }
   ],
   "source": [
    "import matplotlib.pyplot as plt\n",
    "\n",
    "plt.scatter(x=y_te, y=y_te_estimation)\n",
    "plt.xlim([-200000,800000])\n",
    "plt.ylim([-200000,800000])\n",
    "plt.show()"
   ]
  },
  {
   "cell_type": "markdown",
   "metadata": {
    "collapsed": true
   },
   "source": [
    "### 2. SVM for Classification\n",
    "\n",
    "Now we transform the continuous target into a binary variable, indicating whether or not the price is above the average $179700\n"
   ]
  },
  {
   "cell_type": "code",
   "execution_count": 50,
   "metadata": {},
   "outputs": [],
   "source": [
    "from sklearn.metrics import accuracy_score"
   ]
  },
  {
   "cell_type": "code",
   "execution_count": 51,
   "metadata": {},
   "outputs": [
    {
     "data": {
      "text/plain": [
       "179700.0"
      ]
     },
     "execution_count": 51,
     "metadata": {},
     "output_type": "execute_result"
    }
   ],
   "source": [
    "np.median(housing[['median_house_value']])"
   ]
  },
  {
   "cell_type": "markdown",
   "metadata": {},
   "source": [
    "#### Binary target variable"
   ]
  },
  {
   "cell_type": "code",
   "execution_count": 52,
   "metadata": {},
   "outputs": [],
   "source": [
    "y_tr_b = 1*np.ravel(y_tr>=179700.0)\n",
    "y_te_b = 1*np.ravel(y_te>=179700.0)"
   ]
  },
  {
   "cell_type": "markdown",
   "metadata": {},
   "source": [
    "#### Linear SVM for classification"
   ]
  },
  {
   "cell_type": "code",
   "execution_count": 53,
   "metadata": {},
   "outputs": [],
   "source": [
    "from sklearn.svm import LinearSVC"
   ]
  },
  {
   "cell_type": "code",
   "execution_count": 54,
   "metadata": {},
   "outputs": [
    {
     "data": {
      "text/plain": [
       "LinearSVC(C=1.0, class_weight=None, dual=True, fit_intercept=True,\n",
       "     intercept_scaling=1, loss='squared_hinge', max_iter=1000,\n",
       "     multi_class='ovr', penalty='l2', random_state=42, tol=0.0001,\n",
       "     verbose=0)"
      ]
     },
     "execution_count": 54,
     "metadata": {},
     "output_type": "execute_result"
    }
   ],
   "source": [
    "lin_clf = LinearSVC(random_state=42)\n",
    "lin_clf.fit(X_tr, y_tr_b)"
   ]
  },
  {
   "cell_type": "code",
   "execution_count": 55,
   "metadata": {},
   "outputs": [
    {
     "data": {
      "text/plain": [
       "0.8385935769656699"
      ]
     },
     "execution_count": 55,
     "metadata": {},
     "output_type": "execute_result"
    }
   ],
   "source": [
    "y_pred = lin_clf.predict(X_tr)\n",
    "accuracy_score(y_tr_b, y_pred)"
   ]
  },
  {
   "cell_type": "code",
   "execution_count": 56,
   "metadata": {},
   "outputs": [
    {
     "name": "stdout",
     "output_type": "stream",
     "text": [
      "0.40175418234827376\n"
     ]
    }
   ],
   "source": [
    "# RMSE on training set\n",
    "mse_tr_lin_clf = mean_squared_error(y_tr_b, y_pred)\n",
    "rmse_tr_lin_clf = np.sqrt(mse_tr_lin_clf)\n",
    "print(rmse_tr_lin_clf)"
   ]
  },
  {
   "cell_type": "markdown",
   "metadata": {},
   "source": [
    "### (a) Does SVC (with default hyper-parameters) improve the performance of the linear SVM?"
   ]
  },
  {
   "cell_type": "code",
   "execution_count": 57,
   "metadata": {},
   "outputs": [],
   "source": [
    "from sklearn.svm import SVC"
   ]
  },
  {
   "cell_type": "code",
   "execution_count": 58,
   "metadata": {},
   "outputs": [],
   "source": [
    "# Initialize SVC Classifier\n",
    "svc = SVC(random_state = 42)"
   ]
  },
  {
   "cell_type": "code",
   "execution_count": 59,
   "metadata": {},
   "outputs": [
    {
     "data": {
      "text/plain": [
       "SVC(C=1.0, cache_size=200, class_weight=None, coef0=0.0,\n",
       "  decision_function_shape='ovr', degree=3, gamma='auto', kernel='rbf',\n",
       "  max_iter=-1, probability=False, random_state=42, shrinking=True,\n",
       "  tol=0.001, verbose=False)"
      ]
     },
     "execution_count": 59,
     "metadata": {},
     "output_type": "execute_result"
    }
   ],
   "source": [
    "# Fit on training set\n",
    "svc.fit(X_tr, y_tr_b)"
   ]
  },
  {
   "cell_type": "code",
   "execution_count": 60,
   "metadata": {},
   "outputs": [
    {
     "data": {
      "text/plain": [
       "0.866140642303433"
      ]
     },
     "execution_count": 60,
     "metadata": {},
     "output_type": "execute_result"
    }
   ],
   "source": [
    "# Accuracy score on the training set\n",
    "y_pred_tr_svc = svc.predict(X_tr)\n",
    "accuracy_score(y_tr_b, y_pred_tr_svc)"
   ]
  },
  {
   "cell_type": "code",
   "execution_count": 61,
   "metadata": {},
   "outputs": [
    {
     "name": "stdout",
     "output_type": "stream",
     "text": [
      "0.36586795117441895\n"
     ]
    }
   ],
   "source": [
    "# RMSE on training set\n",
    "mse_tr_svc = mean_squared_error(y_tr_b, y_pred_tr_svc)\n",
    "rmse_tr_svc = np.sqrt(mse_tr_svc)\n",
    "print(rmse_tr_svc)"
   ]
  },
  {
   "cell_type": "code",
   "execution_count": 62,
   "metadata": {},
   "outputs": [
    {
     "data": {
      "text/plain": [
       "0.8624031007751938"
      ]
     },
     "execution_count": 62,
     "metadata": {},
     "output_type": "execute_result"
    }
   ],
   "source": [
    "# Accuracy score on the test set\n",
    "y_pred_te_svc = svc.predict(X_te)\n",
    "accuracy_score(y_te_b, y_pred_te_svc)"
   ]
  },
  {
   "cell_type": "code",
   "execution_count": 63,
   "metadata": {},
   "outputs": [
    {
     "name": "stdout",
     "output_type": "stream",
     "text": [
      "0.37094056023142874\n"
     ]
    }
   ],
   "source": [
    "# RMSE on test set\n",
    "mse_te_svc = mean_squared_error(y_te_b, y_pred_te_svc)\n",
    "rmse_te_svc = np.sqrt(mse_te_svc)\n",
    "print(rmse_te_svc)"
   ]
  },
  {
   "cell_type": "markdown",
   "metadata": {},
   "source": [
    "Since SVC's accuracy score on the training set is higher than that of LinearSVC, and the RMSE is lower, we can say that the SVC model with default hyperparameters is a better model than the LinearSVC model"
   ]
  },
  {
   "cell_type": "markdown",
   "metadata": {},
   "source": [
    "### (b) Use randomized search to tune hyper-parameters of SVC and improve its performance"
   ]
  },
  {
   "cell_type": "code",
   "execution_count": 64,
   "metadata": {},
   "outputs": [],
   "source": [
    "from sklearn.model_selection import RandomizedSearchCV\n",
    "from scipy.stats import reciprocal, uniform"
   ]
  },
  {
   "cell_type": "code",
   "execution_count": 65,
   "metadata": {},
   "outputs": [
    {
     "name": "stdout",
     "output_type": "stream",
     "text": [
      "Fitting 3 folds for each of 10 candidates, totalling 30 fits\n",
      "[CV] C=1041.4413814405866, gamma=0.014189505114435185 ................\n",
      "[CV] C=1041.4413814405866, gamma=0.014189505114435185 ................\n",
      "[CV] C=1041.4413814405866, gamma=0.014189505114435185 ................\n",
      "[CV] C=1062.0114990065294, gamma=0.02051712450447898 .................\n",
      "[CV] C=1062.0114990065294, gamma=0.02051712450447898 .................\n",
      "[CV] C=1062.0114990065294, gamma=0.02051712450447898 .................\n",
      "[CV] C=1086.3692636718995, gamma=0.004630430834265572 ................\n",
      "[CV] C=1086.3692636718995, gamma=0.004630430834265572 ................\n",
      "[CV] C=1086.3692636718995, gamma=0.004630430834265572 ................\n",
      "[CV] C=789.6670900788934, gamma=0.03956309463016349 ..................\n",
      "[CV] C=789.6670900788934, gamma=0.03956309463016349 ..................\n",
      "[CV] C=789.6670900788934, gamma=0.03956309463016349 ..................\n",
      "[CV] . C=1086.3692636718995, gamma=0.004630430834265572, total=   8.6s\n",
      "[CV] C=432.90634389835407, gamma=0.049327979011507775 ................\n",
      "[CV] . C=1086.3692636718995, gamma=0.004630430834265572, total=   8.7s\n",
      "[CV] C=432.90634389835407, gamma=0.049327979011507775 ................\n",
      "[CV] . C=1086.3692636718995, gamma=0.004630430834265572, total=   8.7s\n",
      "[CV] C=432.90634389835407, gamma=0.049327979011507775 ................\n",
      "[CV] . C=1041.4413814405866, gamma=0.014189505114435185, total=  11.4s\n",
      "[CV] C=740.9361654255188, gamma=0.023877912918173577 .................\n",
      "[CV] . C=1041.4413814405866, gamma=0.014189505114435185, total=  11.6s\n",
      "[CV] C=740.9361654255188, gamma=0.023877912918173577 .................\n",
      "[CV] . C=1041.4413814405866, gamma=0.014189505114435185, total=  11.7s\n",
      "[CV] C=740.9361654255188, gamma=0.023877912918173577 .................\n",
      "[CV] .. C=1062.0114990065294, gamma=0.02051712450447898, total=  12.8s\n",
      "[CV] C=720.8116235721438, gamma=0.027185566398789406 .................\n",
      "[CV] .. C=1062.0114990065294, gamma=0.02051712450447898, total=  13.3s\n",
      "[CV] C=720.8116235721438, gamma=0.027185566398789406 .................\n",
      "[CV] .. C=1062.0114990065294, gamma=0.02051712450447898, total=  13.5s\n",
      "[CV] C=720.8116235721438, gamma=0.027185566398789406 .................\n",
      "[CV] ... C=789.6670900788934, gamma=0.03956309463016349, total=  13.5s\n",
      "[CV] C=659.7603230538487, gamma=0.06908125314129226 ..................\n",
      "[CV] ... C=789.6670900788934, gamma=0.03956309463016349, total=  13.6s\n",
      "[CV] C=659.7603230538487, gamma=0.06908125314129226 ..................\n",
      "[CV] ... C=789.6670900788934, gamma=0.03956309463016349, total=  13.7s\n",
      "[CV] C=659.7603230538487, gamma=0.06908125314129226 ..................\n",
      "[CV] . C=432.90634389835407, gamma=0.049327979011507775, total=   8.6s\n",
      "[CV] C=805.4813351996758, gamma=0.006119549608870047 .................\n",
      "[CV] . C=432.90634389835407, gamma=0.049327979011507775, total=   9.2s\n",
      "[CV] C=805.4813351996758, gamma=0.006119549608870047 .................\n",
      "[CV] . C=432.90634389835407, gamma=0.049327979011507775, total=   9.3s\n",
      "[CV] C=805.4813351996758, gamma=0.006119549608870047 .................\n",
      "[CV] .. C=740.9361654255188, gamma=0.023877912918173577, total=   9.3s\n",
      "[CV] C=104.85475379144596, gamma=0.00185795627961527 .................\n",
      "[CV] .. C=740.9361654255188, gamma=0.023877912918173577, total=   9.9s\n",
      "[CV] C=104.85475379144596, gamma=0.00185795627961527 .................\n",
      "[CV] .. C=740.9361654255188, gamma=0.023877912918173577, total=   9.8s\n",
      "[CV] C=104.85475379144596, gamma=0.00185795627961527 .................\n",
      "[CV] .. C=720.8116235721438, gamma=0.027185566398789406, total=  10.4s\n",
      "[CV] .. C=720.8116235721438, gamma=0.027185566398789406, total=  10.2s\n",
      "[CV] .. C=720.8116235721438, gamma=0.027185566398789406, total=  10.5s\n",
      "[CV] .. C=805.4813351996758, gamma=0.006119549608870047, total=   6.4s\n",
      "[CV] .. C=805.4813351996758, gamma=0.006119549608870047, total=   5.9s\n",
      "[CV] .. C=805.4813351996758, gamma=0.006119549608870047, total=   6.2s\n"
     ]
    },
    {
     "name": "stderr",
     "output_type": "stream",
     "text": [
      "[Parallel(n_jobs=-1)]: Done  23 out of  30 | elapsed:   27.7s remaining:    8.4s\n"
     ]
    },
    {
     "name": "stdout",
     "output_type": "stream",
     "text": [
      "[CV] .. C=104.85475379144596, gamma=0.00185795627961527, total=   3.7s\n",
      "[CV] .. C=104.85475379144596, gamma=0.00185795627961527, total=   3.3s\n",
      "[CV] .. C=104.85475379144596, gamma=0.00185795627961527, total=   3.7s\n",
      "[CV] ... C=659.7603230538487, gamma=0.06908125314129226, total=  12.8s\n",
      "[CV] ... C=659.7603230538487, gamma=0.06908125314129226, total=  13.4s\n",
      "[CV] ... C=659.7603230538487, gamma=0.06908125314129226, total=  13.3s\n"
     ]
    },
    {
     "name": "stderr",
     "output_type": "stream",
     "text": [
      "[Parallel(n_jobs=-1)]: Done  30 out of  30 | elapsed:   28.7s finished\n"
     ]
    },
    {
     "data": {
      "text/plain": [
       "RandomizedSearchCV(cv=3, error_score='raise',\n",
       "          estimator=SVC(C=1.0, cache_size=200, class_weight=None, coef0=0.0,\n",
       "  decision_function_shape='ovr', degree=3, gamma='auto', kernel='rbf',\n",
       "  max_iter=-1, probability=False, random_state=None, shrinking=True,\n",
       "  tol=0.001, verbose=False),\n",
       "          fit_params=None, iid=True, n_iter=10, n_jobs=-1,\n",
       "          param_distributions={'C': <scipy.stats._distn_infrastructure.rv_frozen object at 0x1a21c02748>, 'gamma': <scipy.stats._distn_infrastructure.rv_frozen object at 0x1a21bee080>},\n",
       "          pre_dispatch='2*n_jobs', random_state=None, refit=True,\n",
       "          return_train_score='warn', scoring='neg_mean_squared_error',\n",
       "          verbose=2)"
      ]
     },
     "execution_count": 65,
     "metadata": {},
     "output_type": "execute_result"
    }
   ],
   "source": [
    "param_distributions = {'C':uniform(1e2, 1e3), 'gamma':reciprocal(1e-3, 1e-1)}\n",
    "rnd_search_svc = RandomizedSearchCV(SVC(), param_distributions, n_iter=10, cv=3, scoring='neg_mean_squared_error',verbose=2,n_jobs=-1)\n",
    "rnd_search_svc.fit(X_tr, y_tr_b)"
   ]
  },
  {
   "cell_type": "code",
   "execution_count": 66,
   "metadata": {},
   "outputs": [
    {
     "name": "stdout",
     "output_type": "stream",
     "text": [
      "{'C': 1062.0114990065294, 'gamma': 0.02051712450447898}\n",
      "0.3530636363886514\n"
     ]
    }
   ],
   "source": [
    "print(rnd_search_svc.best_params_)\n",
    "print(np.sqrt(-rnd_search_svc.best_score_))"
   ]
  },
  {
   "cell_type": "markdown",
   "metadata": {},
   "source": [
    "### Performance on Train & Test Set"
   ]
  },
  {
   "cell_type": "code",
   "execution_count": 67,
   "metadata": {},
   "outputs": [],
   "source": [
    "final_model_svc = rnd_search_svc.best_estimator_   ## THIS SHOULD BE THE BEST GRID_SEARCH ##"
   ]
  },
  {
   "cell_type": "code",
   "execution_count": 68,
   "metadata": {},
   "outputs": [],
   "source": [
    "# Turn on probability calculation\n",
    "final_model_svc.probability = True"
   ]
  },
  {
   "cell_type": "code",
   "execution_count": 69,
   "metadata": {},
   "outputs": [
    {
     "data": {
      "text/plain": [
       "SVC(C=1062.0114990065294, cache_size=200, class_weight=None, coef0=0.0,\n",
       "  decision_function_shape='ovr', degree=3, gamma=0.02051712450447898,\n",
       "  kernel='rbf', max_iter=-1, probability=True, random_state=None,\n",
       "  shrinking=True, tol=0.001, verbose=False)"
      ]
     },
     "execution_count": 69,
     "metadata": {},
     "output_type": "execute_result"
    }
   ],
   "source": [
    "# Refit model\n",
    "final_model_svc.fit(X_tr, y_tr_b)"
   ]
  },
  {
   "cell_type": "code",
   "execution_count": 70,
   "metadata": {},
   "outputs": [],
   "source": [
    "# Predict the training set\n",
    "y_predict_svc_tr = final_model_svc.predict(X_tr)\n",
    "y_proba_svc_tr = final_model_svc.predict_proba(X_tr)"
   ]
  },
  {
   "cell_type": "code",
   "execution_count": 71,
   "metadata": {},
   "outputs": [],
   "source": [
    "# Predict the test set\n",
    "y_predict_svc_te = final_model_svc.predict(X_te)\n",
    "y_proba_svc_te = final_model_svc.predict_proba(X_te)"
   ]
  },
  {
   "cell_type": "code",
   "execution_count": 72,
   "metadata": {},
   "outputs": [
    {
     "name": "stdout",
     "output_type": "stream",
     "text": [
      "RMSE - Training\n",
      "0.3270095043677536\n",
      "RMSE - Test\n",
      "0.35126202886149915\n"
     ]
    }
   ],
   "source": [
    "# RMSE\n",
    "print('RMSE - Training')\n",
    "print(np.sqrt(mean_squared_error(y_tr_b, y_predict_svc_tr)))\n",
    "print('RMSE - Test')\n",
    "print(np.sqrt(mean_squared_error(y_te_b, y_predict_svc_te)))"
   ]
  },
  {
   "cell_type": "markdown",
   "metadata": {},
   "source": [
    "### AUC-ROC Curve"
   ]
  },
  {
   "cell_type": "code",
   "execution_count": 73,
   "metadata": {},
   "outputs": [],
   "source": [
    "from sklearn.metrics import roc_curve\n",
    "from sklearn.metrics import roc_auc_score"
   ]
  },
  {
   "cell_type": "code",
   "execution_count": 74,
   "metadata": {},
   "outputs": [],
   "source": [
    "# Plot ROC curve\n",
    "\n",
    "def plot_roc_curve(fpr, tpr, label=None):\n",
    "    plt.plot(fpr, tpr, linewidth=2, label=label)\n",
    "    plt.plot([0, 1], [0, 1], 'k--')\n",
    "    plt.axis([0, 1, 0, 1])"
   ]
  },
  {
   "cell_type": "code",
   "execution_count": 75,
   "metadata": {},
   "outputs": [
    {
     "name": "stdout",
     "output_type": "stream",
     "text": [
      "ROC AUC - Train\n",
      "0.9593928192554554\n",
      "ROC AUC - Test\n",
      "0.9447453954496208\n"
     ]
    }
   ],
   "source": [
    "# ROC AUC scores\n",
    "print('ROC AUC - Train')\n",
    "print(roc_auc_score(y_tr_b, y_proba_svc_tr[:,1]))\n",
    "print('ROC AUC - Test')\n",
    "print(roc_auc_score(y_te_b, y_proba_svc_te[:,1]))"
   ]
  },
  {
   "cell_type": "code",
   "execution_count": 76,
   "metadata": {
    "scrolled": true
   },
   "outputs": [
    {
     "data": {
      "image/png": "[encoded data removed]",
      "text/plain": [
       "<Figure size 432x288 with 1 Axes>"
      ]
     },
     "metadata": {
      "needs_background": "light"
     },
     "output_type": "display_data"
    }
   ],
   "source": [
    "# ROC AUC curves\n",
    "fpr_svc_tr, tpr_svc_tr, thresholds_svc_tr = roc_curve(y_tr_b, y_proba_svc_tr[:,1])\n",
    "fpr_svc_te, tpr_svc_te, thresholds_svc_te = roc_curve(y_te_b, y_proba_svc_te[:,1])\n",
    "\n",
    "plot_roc_curve(fpr_svc_tr, tpr_svc_tr, \"Training\")\n",
    "plot_roc_curve(fpr_svc_te, tpr_svc_te, \"Test\")\n",
    "\n",
    "plt.title('SVC Classifier Final', fontsize=16)\n",
    "plt.xlabel('False Positive Rate', fontsize=12)\n",
    "plt.ylabel('True Positive Rate', fontsize=12)\n",
    "plt.legend(loc=\"lower right\", fontsize=12)\n",
    "plt.show()"
   ]
  },
  {
   "cell_type": "markdown",
   "metadata": {},
   "source": [
    "The final SVC Classifier model has very good predictive power, and there's no over/under-fitting of the training set"
   ]
  }
 ],
 "metadata": {
  "kernelspec": {
   "display_name": "Python 3",
   "language": "python",
   "name": "python3"
  },
  "language_info": {
   "codemirror_mode": {
    "name": "ipython",
    "version": 3
   },
   "file_extension": ".py",
   "mimetype": "text/x-python",
   "name": "python",
   "nbconvert_exporter": "python",
   "pygments_lexer": "ipython3",
   "version": "3.6.6"
  }
 },
 "nbformat": 4,
 "nbformat_minor": 2
}
